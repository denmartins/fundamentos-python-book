{
 "cells": [
  {
   "cell_type": "markdown",
   "id": "13110383",
   "metadata": {},
   "source": [
    "# Conjuntos (Sets) em Python\n",
    "---\n",
    "\n",
    "Vamos agora nos dedicar a compreender Conjuntos em Python. Vamos cobrir o conceito, suas características e aplicações práticas.\n",
    "\n",
    "## Objetivos de Aprendizagem\n",
    "\n",
    "- Criar conjuntos usando chaves `{}` e a função `set()`\n",
    "- Compreender as restrições quanto aos tipos de dados permitidos dentro de um conjunto (imutabilidade).\n",
    "- Demonstrar proficiência em realizar operações comuns com conjuntos, como união, interseção e diferença."
   ]
  },
  {
   "cell_type": "markdown",
   "id": "fb9413af",
   "metadata": {},
   "source": [
    "\n",
    "## Conceitos Fundamentais\n",
    "\n",
    "Em matemática, um conjunto é uma coleção não ordenada de elementos únicos. Em Python, os conjuntos são implementados como objetos do tipo `set`. Eles são usados para armazenar coleções de itens distintos e oferecem operações eficientes para testes de pertinência (*membership testing*), remoção de duplicatas e outras operações matemáticas de conjuntos, como união, interseção e diferença.\n",
    "\n",
    "**Sintaxe:** Existem duas maneiras principais de criar um conjunto em Python:\n",
    "\n",
    "*   **Usando chaves `{}`:**  Você pode criar um conjunto diretamente usando chaves, mas lembre-se que a sintaxe com chaves também é usada para dicionários!"
   ]
  },
  {
   "cell_type": "code",
   "execution_count": 2,
   "id": "0bd081ed",
   "metadata": {},
   "outputs": [
    {
     "name": "stdout",
     "output_type": "stream",
     "text": [
      "{1, 2, 3, 4, 5}\n"
     ]
    }
   ],
   "source": [
    "meu_conjunto = {1, 2, 3, 4, 5}\n",
    "print(meu_conjunto)  # Saída: {1, 2, 3, 4, 5}"
   ]
  },
  {
   "cell_type": "markdown",
   "id": "e5e2cdee",
   "metadata": {},
   "source": [
    "*   **Usando a função `set()`:** A função `set()` pode ser usada para converter uma lista ou qualquer outro iterável em um conjunto. Isso é particularmente útil para remover duplicatas de uma lista."
   ]
  },
  {
   "cell_type": "code",
   "execution_count": 1,
   "id": "4e074218",
   "metadata": {},
   "outputs": [
    {
     "name": "stdout",
     "output_type": "stream",
     "text": [
      "{1, 2, 3, 4, 5}\n"
     ]
    }
   ],
   "source": [
    "lista_com_duplicatas = [1, 2, 2, 3, 4, 4, 5]\n",
    "conjunto_sem_duplicatas = set(lista_com_duplicatas)\n",
    "print(conjunto_sem_duplicatas)  # Saída: {1, 2, 3, 4, 5}"
   ]
  },
  {
   "cell_type": "markdown",
   "id": "8427c7f2",
   "metadata": {},
   "source": [
    "**Importante:** Conjuntos não podem conter elementos mutáveis como listas ou outros conjuntos. Eles só podem conter tipos de dados [*hashable*](https://stackoverflow.com/questions/14535730/what-does-hashable-mean-in-python), como números, strings e tuplas.\n"
   ]
  },
  {
   "cell_type": "code",
   "execution_count": 3,
   "id": "3c121204",
   "metadata": {},
   "outputs": [
    {
     "ename": "TypeError",
     "evalue": "unhashable type: 'list'",
     "output_type": "error",
     "traceback": [
      "\u001b[0;31m---------------------------------------------------------------------------\u001b[0m",
      "\u001b[0;31mTypeError\u001b[0m                                 Traceback (most recent call last)",
      "Cell \u001b[0;32mIn[3], line 1\u001b[0m\n\u001b[0;32m----> 1\u001b[0m grupos_de_cores \u001b[38;5;241m=\u001b[39m {[\u001b[38;5;124m\"\u001b[39m\u001b[38;5;124mrosa\u001b[39m\u001b[38;5;124m\"\u001b[39m, \u001b[38;5;124m\"\u001b[39m\u001b[38;5;124mamarelo\u001b[39m\u001b[38;5;124m\"\u001b[39m], [\u001b[38;5;124m\"\u001b[39m\u001b[38;5;124mverde\u001b[39m\u001b[38;5;124m\"\u001b[39m, \u001b[38;5;124m\"\u001b[39m\u001b[38;5;124mbranco\u001b[39m\u001b[38;5;124m\"\u001b[39m]}\n",
      "\u001b[0;31mTypeError\u001b[0m: unhashable type: 'list'"
     ]
    }
   ],
   "source": [
    "grupos_de_cores = {[\"rosa\", \"amarelo\"], [\"verde\", \"branco\"]}"
   ]
  },
  {
   "cell_type": "markdown",
   "id": "b0af38e1",
   "metadata": {},
   "source": [
    "## Características dos Conjuntos\n",
    "\n",
    "*   **Não Ordenados:** Os elementos em um conjunto não mantém a ordem na qual eles foram adicionados ao conjunto.\n",
    "*   **Únicos:** Um conjunto não pode conter elementos duplicados. Se você tentar adicionar um elemento que já existe, ele será ignorado.\n",
    "*   **Mutáveis:** Um conjunto é mutável – você pode adicionar e remover elementos após a criação."
   ]
  },
  {
   "cell_type": "code",
   "execution_count": 12,
   "id": "98428985",
   "metadata": {},
   "outputs": [
    {
     "name": "stdout",
     "output_type": "stream",
     "text": [
      "{1, 2, 4, 5}\n"
     ]
    }
   ],
   "source": [
    "meu_conjunto = {2, 2, 1, 4, 5}\n",
    "print(meu_conjunto)"
   ]
  },
  {
   "cell_type": "markdown",
   "id": "ad6ffbb0",
   "metadata": {},
   "source": [
    "## Operações Básicas\n",
    "\n",
    "Python oferece uma variedade de operações para manipular conjuntos:"
   ]
  },
  {
   "cell_type": "markdown",
   "id": "5704164c",
   "metadata": {},
   "source": [
    "**Adicionando Elementos:** `add(elemento)` adiciona um elemento ao conjunto.\n",
    "    "
   ]
  },
  {
   "cell_type": "code",
   "execution_count": null,
   "id": "36325471",
   "metadata": {},
   "outputs": [
    {
     "name": "stdout",
     "output_type": "stream",
     "text": [
      "{1, 2, 3, 4}\n"
     ]
    }
   ],
   "source": [
    "meu_conjunto = {1, 2, 4}\n",
    "meu_conjunto.add(3)\n",
    "print(meu_conjunto)"
   ]
  },
  {
   "cell_type": "markdown",
   "id": "5218a103",
   "metadata": {},
   "source": [
    "\n",
    "**Removendo Elementos:** `remove(elemento)` remove um elemento específico do conjunto.  "
   ]
  },
  {
   "cell_type": "code",
   "execution_count": null,
   "id": "50c69db3",
   "metadata": {},
   "outputs": [
    {
     "name": "stdout",
     "output_type": "stream",
     "text": [
      "{1, 3}\n",
      "{1, 3}\n"
     ]
    }
   ],
   "source": [
    "meu_conjunto = {1, 2, 3}\n",
    "meu_conjunto.remove(2)\n",
    "print(meu_conjunto)"
   ]
  },
  {
   "cell_type": "markdown",
   "id": "18a61dd1",
   "metadata": {},
   "source": [
    "**Observação**: Se o elemento não existir, `remove(elemento)` produz um erro."
   ]
  },
  {
   "cell_type": "code",
   "execution_count": 16,
   "id": "62d402f5",
   "metadata": {},
   "outputs": [
    {
     "ename": "KeyError",
     "evalue": "2",
     "output_type": "error",
     "traceback": [
      "\u001b[0;31m---------------------------------------------------------------------------\u001b[0m",
      "\u001b[0;31mKeyError\u001b[0m                                  Traceback (most recent call last)",
      "Cell \u001b[0;32mIn[16], line 2\u001b[0m\n\u001b[1;32m      1\u001b[0m meu_conjunto \u001b[38;5;241m=\u001b[39m {\u001b[38;5;241m1\u001b[39m, \u001b[38;5;241m3\u001b[39m}\n\u001b[0;32m----> 2\u001b[0m meu_conjunto\u001b[38;5;241m.\u001b[39mremove(\u001b[38;5;241m2\u001b[39m)\n\u001b[1;32m      3\u001b[0m \u001b[38;5;28mprint\u001b[39m(meu_conjunto)\n",
      "\u001b[0;31mKeyError\u001b[0m: 2"
     ]
    }
   ],
   "source": [
    "meu_conjunto = {1, 3}\n",
    "meu_conjunto.remove(2)\n",
    "print(meu_conjunto)"
   ]
  },
  {
   "cell_type": "markdown",
   "id": "bcff60f2",
   "metadata": {},
   "source": [
    "Para evitar essa situação, use `discard(elemento)`: remove um elemento se ele estiver presente, mas não levanta um erro caso contrário."
   ]
  },
  {
   "cell_type": "code",
   "execution_count": 17,
   "id": "f9942c5e",
   "metadata": {},
   "outputs": [
    {
     "name": "stdout",
     "output_type": "stream",
     "text": [
      "{1, 3}\n"
     ]
    }
   ],
   "source": [
    "meu_conjunto = {1, 3}\n",
    "meu_conjunto.discard(2) # Não levanta erro porque 2 não está no conjunto\n",
    "print(meu_conjunto)"
   ]
  },
  {
   "cell_type": "markdown",
   "id": "a1543382",
   "metadata": {},
   "source": [
    "**União:** `|` ou `union()` retorna um novo conjunto contendo todos os elementos de ambos os conjuntos."
   ]
  },
  {
   "cell_type": "code",
   "execution_count": 18,
   "id": "801ad35b",
   "metadata": {},
   "outputs": [
    {
     "name": "stdout",
     "output_type": "stream",
     "text": [
      "{1, 2, 3, 4, 5}\n"
     ]
    }
   ],
   "source": [
    "conjunto1 = {1, 2, 3}\n",
    "conjunto2 = {3, 4, 5}\n",
    "uniao = conjunto1 | conjunto2  # Ou: uniao = conjunto1.union(conjunto2)\n",
    "print(uniao)  # Saída: {1, 2, 3, 4, 5}"
   ]
  },
  {
   "cell_type": "markdown",
   "id": "abf1e955",
   "metadata": {},
   "source": [
    "**Interseção:** `&` ou `intersection()` retorna um novo conjunto contendo apenas os elementos que estão presentes em ambos os conjuntos.    "
   ]
  },
  {
   "cell_type": "code",
   "execution_count": 19,
   "id": "5484a2ee",
   "metadata": {},
   "outputs": [
    {
     "name": "stdout",
     "output_type": "stream",
     "text": [
      "{3}\n"
     ]
    }
   ],
   "source": [
    "conjunto1 = {1, 2, 3}\n",
    "conjunto2 = {3, 4, 5}\n",
    "intersecao = conjunto1 & conjunto2  # Ou: intersecao = conjunto1.intersection(conjunto2)\n",
    "print(intersecao)  # Saída: {3}"
   ]
  },
  {
   "cell_type": "markdown",
   "id": "e822d6ed",
   "metadata": {},
   "source": [
    "**Diferença:** `-` ou `difference()` retorna um novo conjunto contendo os elementos que estão presentes no primeiro conjunto, mas não no segundo."
   ]
  },
  {
   "cell_type": "code",
   "execution_count": 20,
   "id": "6bcdc486",
   "metadata": {},
   "outputs": [
    {
     "name": "stdout",
     "output_type": "stream",
     "text": [
      "{1, 2}\n"
     ]
    }
   ],
   "source": [
    "conjunto1 = {1, 2, 3}\n",
    "conjunto2 = {3, 4, 5}\n",
    "diferenca = conjunto1 - conjunto2  # Ou: diferenca = conjunto1.difference(conjunto2)\n",
    "print(diferenca)  # Saída: {1, 2}"
   ]
  },
  {
   "cell_type": "markdown",
   "id": "2dbbbc88",
   "metadata": {},
   "source": [
    "**Teste de Pertinência:** `in` verifica se um elemento está presente no conjunto."
   ]
  },
  {
   "cell_type": "code",
   "execution_count": 21,
   "id": "caf44d3f",
   "metadata": {},
   "outputs": [
    {
     "name": "stdout",
     "output_type": "stream",
     "text": [
      "True\n",
      "False\n"
     ]
    }
   ],
   "source": [
    "meu_conjunto = {1, 2, 3}\n",
    "print(2 in meu_conjunto)  # Saída: True\n",
    "print(4 in meu_conjunto)  # Saída: False"
   ]
  },
  {
   "cell_type": "markdown",
   "id": "b9e8d4fc",
   "metadata": {},
   "source": [
    "## Percorrendo um Tuplas em um Loop\n",
    "\n",
    "Vamos criar uma nova tupla e percorrê-la utilizando um loop `for`:"
   ]
  },
  {
   "cell_type": "code",
   "execution_count": 22,
   "id": "289d081e",
   "metadata": {},
   "outputs": [
    {
     "name": "stdout",
     "output_type": "stream",
     "text": [
      "1\n",
      "2\n",
      "3\n",
      "4\n",
      "5\n",
      "6\n"
     ]
    }
   ],
   "source": [
    "meu_conjunto = {1, 2, 3, 4, 5, 6}\n",
    "\n",
    "for x in meu_conjunto:\n",
    "    print(x)"
   ]
  },
  {
   "cell_type": "markdown",
   "id": "5db0651c",
   "metadata": {},
   "source": [
    "## Funções *built-in* do Python"
   ]
  },
  {
   "cell_type": "code",
   "execution_count": 23,
   "id": "68b9b883",
   "metadata": {},
   "outputs": [],
   "source": [
    "# Criando um conjunto para os exemplos\n",
    "meu_conjunto = {10, 5, 20, 15, 5, 25}  # Note a duplicidade do '5' - será removida."
   ]
  },
  {
   "cell_type": "markdown",
   "id": "6a1a097b",
   "metadata": {},
   "source": [
    "\n",
    "**Exemplo 1**: `len()` - Obtendo o número de elementos em uma tupla."
   ]
  },
  {
   "cell_type": "code",
   "execution_count": 25,
   "id": "b152819b",
   "metadata": {},
   "outputs": [
    {
     "name": "stdout",
     "output_type": "stream",
     "text": [
      "Tamanho do conjunto: 5\n"
     ]
    }
   ],
   "source": [
    "tamanho = len(meu_conjunto)\n",
    "print(f\"Tamanho do conjunto: {tamanho}\")"
   ]
  },
  {
   "cell_type": "markdown",
   "id": "c695795c",
   "metadata": {},
   "source": [
    "**Exemplo 2: `max()` - Encontrando o Maior Elemento**"
   ]
  },
  {
   "cell_type": "code",
   "execution_count": 26,
   "id": "15ec66c2",
   "metadata": {},
   "outputs": [
    {
     "name": "stdout",
     "output_type": "stream",
     "text": [
      "Maior elemento: 25\n"
     ]
    }
   ],
   "source": [
    "maior_elemento = max(meu_conjunto)\n",
    "print(f\"Maior elemento: {maior_elemento}\")"
   ]
  },
  {
   "cell_type": "markdown",
   "id": "52a863b6",
   "metadata": {},
   "source": [
    "**Exemplo 3: `min()` - Encontrando o Menor Elemento**"
   ]
  },
  {
   "cell_type": "code",
   "execution_count": null,
   "id": "1d5b99d5",
   "metadata": {},
   "outputs": [
    {
     "name": "stdout",
     "output_type": "stream",
     "text": [
      "Menor elemento: 5\n"
     ]
    }
   ],
   "source": [
    "menor_elemento = min(meu_conjunto)\n",
    "print(f\"Menor elemento: {menor_elemento}\")"
   ]
  },
  {
   "cell_type": "markdown",
   "id": "55b8c4c5",
   "metadata": {},
   "source": [
    "**Exemplo 4: `sum()` - Somando os Elementos (para Conjuntos Numéricos)**"
   ]
  },
  {
   "cell_type": "code",
   "execution_count": 28,
   "id": "3c53f1ce",
   "metadata": {},
   "outputs": [
    {
     "name": "stdout",
     "output_type": "stream",
     "text": [
      "Soma dos elementos: 75\n"
     ]
    }
   ],
   "source": [
    "soma = sum(meu_conjunto)\n",
    "print(f\"Soma dos elementos: {soma}\")"
   ]
  },
  {
   "cell_type": "markdown",
   "id": "51f30da5",
   "metadata": {},
   "source": [
    "## Exercícios Teóricos\n",
    "\n",
    "Para testar a compreensão conceitual de vocês sobre conjuntos em Python, preparei cinco questões teóricas. Pensem com calma e justifiquem suas respostas – o raciocínio é tão importante quanto a resposta correta!\n",
    "\n",
    "1.  **Explique a diferença fundamental entre uma lista e um conjunto em Python, destacando as principais características que os distinguem.** (Pensem na ordem dos elementos, duplicatas e como isso afeta o uso de cada estrutura.)\n",
    "2.  **Descreva a importância da operação de interseção entre dois conjuntos. Em qual cenário prático essa operação seria particularmente útil?** (Pensem em exemplos do mundo real onde você precisa encontrar elementos comuns.)\n"
   ]
  },
  {
   "cell_type": "markdown",
   "id": "c4a9d1e4",
   "metadata": {},
   "source": [
    "## **Exercícios para Praticar**\n",
    "\n",
    "1.   Remova as duplicatas de uma lista usando um conjunto.\n",
    "2.   Encontre os elementos comuns entre dois conjuntos.\n",
    "3.   Determine a diferença entre dois conjuntos.\n",
    "4.   Crie um programa que utilize conjuntos para verificar se duas listas contêm os mesmos elementos, independentemente da ordem.\n",
    "5.  Considere o seguinte código Python:\n",
    "\n",
    "    ```python\n",
    "    conjunto_a = {1, 2, 3, 4, 5}\n",
    "    conjunto_b = {3, 5, 6, 7, 8}\n",
    "    conjunto_c = conjunto_a.union(conjunto_b)\n",
    "    conjunto_d = conjunto_a.intersection(conjunto_b)\n",
    "    conjunto_e = conjunto_a - conjunto_b\n",
    "\n",
    "    print(f\"Conjunto A: {conjunto_a}\")\n",
    "    print(f\"Conjunto B: {conjunto_b}\")\n",
    "    print(f\"Conjunto C (A U B): {conjunto_c}\")\n",
    "    print(f\"Conjunto D (A ∩ B): {conjunto_d}\")\n",
    "    print(f\"Conjunto E (A - B): {conjunto_e}\")\n",
    "    ```\n",
    "    \n",
    "    **Responda às seguintes perguntas:**\n",
    "\n",
    "    1.  Qual é o valor do `conjunto_c` após a execução do código? Explique como ele foi obtido.\n",
    "    2.  Qual é o valor do `conjunto_d` após a execução do código? Explique como ele foi obtido.\n",
    "    3.  Qual é o valor do `conjunto_e` após a execução do código? Explique como ele foi obtido.\n",
    "    4.  Se você substituísse `conjunto_a` por uma lista em vez de um conjunto, qual erro ocorreria ao tentar executar a linha `conjunto_c = conjunto_a.union(conjunto_b)`? Justifique sua resposta.\n",
    "    5.  Suponha que você quisesse adicionar o número 9 ao `conjunto_a`. Escreva uma única linha de código para realizar essa operação."
   ]
  },
  {
   "cell_type": "markdown",
   "id": "c56f62ad",
   "metadata": {},
   "source": [
    "---\n",
    "\n",
    "## Conclusão\n",
    "\n",
    "Exploramos um tipo de dado fundamental em Python: os conjuntos. Vimos como eles se diferenciam das listas e tuplas, principalmente pela garantia de elementos únicos. Dominar conjuntos é crucial para tarefas como remoção de duplicatas, operações matemáticas de conjuntos (união, interseção, diferença) e otimização de testes de pertinência.\n",
    "\n",
    "### O que aprendemos hoje?\n",
    "\n",
    "- Definimos e criamos conjuntos usando chaves `{}` e a função `set()`.\n",
    "- Aplicamos operações como união, interseção e diferença para manipular conjuntos.\n",
    "- Utilizamos o operador `in` para verificar a pertinência de elementos em um conjunto.\n",
    "- Exploramos funções built-in como `len()`, `max()`, `min()` e `sorted()` aplicadas a conjuntos.\n",
    "\n",
    "### Próximos Passos\n",
    "\n",
    "- **Prática:** Resolva os exercícios propostos no material da aula para solidificar o entendimento dos conceitos.\n",
    "- **Exploração:** Pesquise sobre as aplicações de conjuntos em áreas como análise de dados, algoritmos e otimização."
   ]
  }
 ],
 "metadata": {
  "kernelspec": {
   "display_name": "base",
   "language": "python",
   "name": "python3"
  },
  "language_info": {
   "codemirror_mode": {
    "name": "ipython",
    "version": 3
   },
   "file_extension": ".py",
   "mimetype": "text/x-python",
   "name": "python",
   "nbconvert_exporter": "python",
   "pygments_lexer": "ipython3",
   "version": "3.11.7"
  }
 },
 "nbformat": 4,
 "nbformat_minor": 5
}
