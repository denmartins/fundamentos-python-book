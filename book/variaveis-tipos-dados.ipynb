{
 "cells": [
  {
   "cell_type": "markdown",
   "metadata": {
    "jp-MarkdownHeadingCollapsed": true
   },
   "source": [
    "\n",
    "# Variáveis e Tipos de Dados em Python\n",
    "---\n",
    "\n",
    "Bem-vindo à nossa primeira aula prática de **Fundamentos de Programação em Python**!\n",
    "\n",
    "Nesta aula, exploraremos os conceitos fundamentais de **variáveis**, **tipos de dados** e **operadores matemáticos**.\n",
    "\n",
    "**O que veremos hoje?**\n",
    "\n",
    "- O que são **variáveis** e como armazenam informações em Python.\n",
    "- Os principais **tipos de dados**: inteiros (`int`), números decimais (`float`), textos (`str`), valores booleanos (`bool`), entre outros.\n",
    "- Como utilizar **operadores matemáticos** para realizar cálculos simples.\n",
    "- A importância da conversão entre tipos de dados.\n",
    "  \n",
    "**Dica:** Python é uma linguagem dinâmica, ou seja, não precisamos especificar o tipo da variável ao declará-la! Vamos entender isso melhor na prática. \n",
    "\n",
    "** Objetivos de Aprendizagem**\n",
    "\n",
    "Ao final desta aula, você será capaz de:\n",
    "- Compreender o conceito de **variáveis** e seu papel na programação.\n",
    "- Identificar e utilizar corretamente os principais **tipos de dados** em Python (`int`, `float`, `str`, `bool`).\n",
    "- Aplicar **operadores matemáticos** (`+`, `-`, `*`, `/`, `//`, `%`, `**`) para realizar cálculos e manipular dados.\n",
    "- Diferenciar e converter tipos de dados utilizando funções como `int()`, `float()`, `str()`, entre outras.\n",
    "\n",
    "---"
   ]
  },
  {
   "cell_type": "markdown",
   "metadata": {},
   "source": [
    "##  Variáveis em Python\n",
    "\n",
    "Em programação, uma variável é um espaço na memória que armazena um valor. Ou seja, as variáveis são contêineres usados para armazenar valores de dados que podem mudar à medida que o programa é executado.\n",
    "\n",
    "Em Python, uma variável pode ser declarada sem a necessidade de definir seu tipo explicitamente.\n",
    "\n",
    "O **comando de atribuição** cria novas variáveis e dá a elas valores:"
   ]
  },
  {
   "cell_type": "code",
   "execution_count": null,
   "metadata": {
    "id": "lLqfMJefoBCh"
   },
   "outputs": [],
   "source": [
    "nome = \"Maria\"  \n",
    "idade = 25   "
   ]
  },
  {
   "cell_type": "code",
   "execution_count": null,
   "metadata": {},
   "outputs": [],
   "source": [
    "print(nome)"
   ]
  },
  {
   "cell_type": "code",
   "execution_count": null,
   "metadata": {},
   "outputs": [],
   "source": [
    "print(idade)"
   ]
  },
  {
   "cell_type": "code",
   "execution_count": null,
   "metadata": {},
   "outputs": [],
   "source": [
    "# O que vai aparecer aqui?\n",
    "a = 1\n",
    "a = 2\n",
    "print(a)\n",
    "# Isso acontece pois os dois comandos sao recebidos, mas o último que fica gravado."
   ]
  },
  {
   "cell_type": "markdown",
   "metadata": {},
   "source": [
    "###  Nomes de variáveis\n",
    "\n",
    "- **Nomes Significativos:** Programadores escolhem nomes descritivos para variáveis, pois isso facilita a compreensão do código.  \n",
    "- **Comprimento do Nome:** Nomes de variáveis podem ser longos e conter letras e números, mas devem começar com uma letra (ou com o caractere `_`).  \n",
    "- **Maiúsculas e Minúsculas:** Embora letras maiúsculas sejam permitidas, convenciona-se o uso de minúsculas. Python diferencia `Idade` e `idade`, pois é *case-sensitive*.  \n",
    "- **Uso do Sublinhado (`_`):** O caractere `_` pode ser usado para separar palavras em nomes de variáveis, como `meu_nome` ou `preco_do_produto_na_china`.  \n",
    "- **Erros de Sintaxe:** Atribuir um nome inválido a uma variável resultará em um erro de sintaxe.  "
   ]
  },
  {
   "cell_type": "code",
   "execution_count": null,
   "metadata": {},
   "outputs": [],
   "source": [
    "number_of_participants = 30\n",
    "print(number_of_participants)"
   ]
  },
  {
   "cell_type": "code",
   "execution_count": null,
   "metadata": {},
   "outputs": [],
   "source": [
    "numberOfParticipants = 20\n",
    "print(numberOfParticipants)"
   ]
  },
  {
   "cell_type": "markdown",
   "metadata": {},
   "source": [
    "**Observe** que os nomes das variáveis são **sensíveis a maiúsculas e minúsculas**.\n",
    "\n",
    "\n",
    "Portanto, `number_of_participants` é diferente de `Number_of_Participants`."
   ]
  },
  {
   "cell_type": "code",
   "execution_count": null,
   "metadata": {},
   "outputs": [],
   "source": [
    "# Crie uma nova variável chamada Number_of_Participants\n",
    "Number_of_Participants = 500\n",
    "print(Number_of_Participants)"
   ]
  },
  {
   "cell_type": "code",
   "execution_count": null,
   "metadata": {},
   "outputs": [],
   "source": [
    "print(number_of_participants)"
   ]
  },
  {
   "cell_type": "markdown",
   "metadata": {},
   "source": [
    "**Lembrete**: `print()` pode mostrar vários valores separados por vírgulas."
   ]
  },
  {
   "cell_type": "code",
   "execution_count": null,
   "metadata": {},
   "outputs": [],
   "source": [
    "print('Com letra minúscula é', number_of_participants)\n",
    "print('Com letra maiúscula é', Number_of_Participants)"
   ]
  },
  {
   "cell_type": "code",
   "execution_count": null,
   "metadata": {},
   "outputs": [],
   "source": [
    "print(1, 2, \"Test\")"
   ]
  },
  {
   "cell_type": "markdown",
   "metadata": {},
   "source": [
    "**Exercício 1**:\n",
    "\n",
    "1. Declare três variáveis: `idade`, `peso` e `altura`.\n",
    "2. Exiba seus valores usando `print()`.\n",
    "3. Calcule o Índice de Massa Corporal usando as variáveis peso e altura. $IMC = \\frac{peso}{altura^2}$"
   ]
  },
  {
   "cell_type": "code",
   "execution_count": null,
   "metadata": {},
   "outputs": [],
   "source": [
    "# Adicione sua resposta aqui"
   ]
  },
  {
   "cell_type": "markdown",
   "metadata": {},
   "source": [
    " **Exercício 2**:\n",
    "\n",
    "1. Calcule a área de um retângulo usando valores armazenados nas variáveis `lado_1` e `lado_2`.\n",
    "2. Exiba o valor da área calculada usando `print()`."
   ]
  },
  {
   "cell_type": "code",
   "execution_count": null,
   "metadata": {},
   "outputs": [],
   "source": [
    "# Adicione sua resposta aqui"
   ]
  },
  {
   "cell_type": "markdown",
   "metadata": {},
   "source": [
    "### Palavras Reservadas\n",
    "\n",
    "Em Python, palavras reservadas são identificadores especiais que fazem parte da sintaxe da linguagem e não podem ser usados como nomes de variáveis, funções ou identificadores personalizados. Elas são essenciais para a estrutura do código, representando comandos e instruções como `print`, `if`, `while`, `def`, `return`, entre outras. Como Python é *case-sensitive*, palavras reservadas devem ser usadas **exatamente** como definidas."
   ]
  },
  {
   "cell_type": "code",
   "execution_count": 5,
   "metadata": {},
   "outputs": [
    {
     "name": "stdout",
     "output_type": "stream",
     "text": [
      "Hello\n"
     ]
    }
   ],
   "source": [
    "print(\"Hello\")"
   ]
  },
  {
   "cell_type": "markdown",
   "metadata": {},
   "source": [
    "## Tipos de dados\n",
    "\n",
    "Python possui diversos tipos de dados. Os principais são:\n",
    "\n",
    "- `int` → números inteiros (ex: 10, -25)\n",
    "- `float` → números de ponto flutuante, decimais (ex: 3.14, -0.75)\n",
    "- `str` → textos (ex: \"Python\", 'Curso')\n",
    "- `bool` → valores lógicos (ex: True, False)   \n",
    "\n",
    "Exemplos no código:"
   ]
  },
  {
   "cell_type": "code",
   "execution_count": null,
   "metadata": {},
   "outputs": [],
   "source": [
    "numero_inteiro = 42\n",
    "numero_decimal = 3.14\n",
    "texto = \"Hello, Python!\"\n",
    "verdadeiro = True"
   ]
  },
  {
   "cell_type": "markdown",
   "metadata": {},
   "source": [
    "No Python as variáveis são fracamente tipadas. É possível mudar o tipo da variável conforme vai executando o código, mas se reescrever a variável e mudar o tipo dela você pode ter problemas com seu código."
   ]
  },
  {
   "cell_type": "code",
   "execution_count": null,
   "metadata": {},
   "outputs": [],
   "source": [
    "# Verificar o tipo de dados inteiro (int)\n",
    "type(1)\n",
    "# É possível digitar type para descobrir o tipo do seu dado"
   ]
  },
  {
   "cell_type": "code",
   "execution_count": null,
   "metadata": {},
   "outputs": [],
   "source": [
    "# type(5)"
   ]
  },
  {
   "cell_type": "code",
   "execution_count": null,
   "metadata": {},
   "outputs": [],
   "source": [
    "# Verificar o tipo de dados float\n",
    "# type(3.14)"
   ]
  },
  {
   "cell_type": "code",
   "execution_count": null,
   "metadata": {},
   "outputs": [],
   "source": [
    "# Qual é esse tipo de dados?\n",
    "type(123812983718)"
   ]
  },
  {
   "cell_type": "code",
   "execution_count": null,
   "metadata": {},
   "outputs": [],
   "source": [
    "# Qual é esse tipo de dados?\n",
    "type(231231232.189029)"
   ]
  },
  {
   "cell_type": "code",
   "execution_count": null,
   "metadata": {},
   "outputs": [],
   "source": [
    "# Verificar o tipo de dados string\n",
    "type(\"Hello\")"
   ]
  },
  {
   "cell_type": "code",
   "execution_count": null,
   "metadata": {},
   "outputs": [],
   "source": [
    "# Verificar o tipo de dados booleanos\n",
    "type(False)"
   ]
  },
  {
   "cell_type": "markdown",
   "metadata": {},
   "source": [
    "**Exercício 2**: \n",
    "\n",
    "Verifique os valores produzidos pelas seguintes operações (o resultado da operação), e também seus respectivos tipos de dados:\n",
    "\n",
    "1. `10*2`\n",
    "1. `2**10`\n",
    "1. `7 / 3`\n",
    "1. `7 // 3`\n",
    "1. `'bom' + 'dia'`"
   ]
  },
  {
   "cell_type": "code",
   "execution_count": null,
   "metadata": {},
   "outputs": [],
   "source": [
    "# Adicione sua resposta aqui"
   ]
  },
  {
   "cell_type": "markdown",
   "metadata": {},
   "source": [
    "### Conversão de Tipos (Type Casting)\n",
    "\n",
    "Às vezes, é necessário converter um tipo de dado para outro. Python permite conversões com:\n",
    "\n",
    "- `int()` → Converte para inteiro\n",
    "- `float()` → Converte para número decimal\n",
    "- `str()` → Converte para string\n",
    "- `bool()` → Converte para booleano"
   ]
  },
  {
   "cell_type": "code",
   "execution_count": null,
   "metadata": {},
   "outputs": [],
   "source": [
    "# Verifique o tipo de dado. Observe as aspas\n",
    "idade = \"20\""
   ]
  },
  {
   "cell_type": "code",
   "execution_count": null,
   "metadata": {},
   "outputs": [],
   "source": [
    "# Converter string para número inteiro (int)\n",
    "idade = \"20\"\n"
   ]
  },
  {
   "cell_type": "code",
   "execution_count": null,
   "metadata": {},
   "outputs": [],
   "source": [
    "# Converter string em float\n",
    "pi = \"3.14\""
   ]
  },
  {
   "cell_type": "code",
   "execution_count": null,
   "metadata": {},
   "outputs": [],
   "source": [
    "# Verifique o tipo de dados\n",
    "num_produtos_no_estoque = 10_000"
   ]
  },
  {
   "cell_type": "code",
   "execution_count": null,
   "metadata": {},
   "outputs": [],
   "source": [
    "# Converter inteiro em string (str)\n",
    "num_produtos_no_estoque = 10_000"
   ]
  },
  {
   "cell_type": "code",
   "execution_count": null,
   "metadata": {},
   "outputs": [],
   "source": [
    "# Converter float em inteiro\n",
    "pi = 3.14\n"
   ]
  },
  {
   "cell_type": "code",
   "execution_count": null,
   "metadata": {},
   "outputs": [],
   "source": [
    "# Converter inteiro em booleano\n",
    "verdadeiro = 1\n"
   ]
  },
  {
   "cell_type": "markdown",
   "metadata": {},
   "source": [
    "**Exercício 3**: \n",
    "\n",
    "Realize as seguintes operações.\n",
    "\n",
    "1. Converta `15.0` em `int`.\n",
    "2. Converta `1.234` em `str`.\n",
    "3. Converta `35` em `float`.\n"
   ]
  },
  {
   "cell_type": "code",
   "execution_count": null,
   "metadata": {},
   "outputs": [],
   "source": [
    "# Adicione sua resposta aqui"
   ]
  },
  {
   "cell_type": "markdown",
   "metadata": {},
   "source": [
    "### Função `input()`\n",
    "\n",
    "A função `input()` em Python é utilizada para receber dados do usuário durante a execução do programa. Ela permite que o usuário digite um valor, que é retornado como uma string por padrão. Se necessário, o dado pode ser convertido para outros tipos, como inteiro (`int()`) ou decimal (`float()`). \n",
    "\n",
    "É comum usar `input()` para interações básicas, como solicitar nomes, números ou escolhas em um menu."
   ]
  },
  {
   "cell_type": "code",
   "execution_count": null,
   "metadata": {},
   "outputs": [],
   "source": [
    "# Desenvolva um programa que pergunte o seu nome\n",
    "nome = input('Qual é o seu nome? ')\n",
    "# Depois de rodar o código, lembre de colocar a informacao pedida e apertar enter\n",
    "print(\"Olá,\", nome + \"!\")"
   ]
  },
  {
   "cell_type": "markdown",
   "metadata": {},
   "source": [
    " **Exercício 4**: \n",
    "\n",
    "Peça ao usuário para digitar o ano de nascimento e calcule sua idade atual.\n",
    "\n",
    "Passos:\n",
    "\n",
    "1. Solicite o ano de nascimento com `input()`.\n",
    "1. Converta a entrada para um número inteiro.\n",
    "1. Calcule a idade subtraindo o ano de nascimento do ano atual.\n",
    "1. Exiba a idade na tela."
   ]
  },
  {
   "cell_type": "code",
   "execution_count": 8,
   "metadata": {},
   "outputs": [],
   "source": [
    "# Adicione sua resposta aqui"
   ]
  },
  {
   "cell_type": "markdown",
   "metadata": {},
   "source": [
    "**Exercícios para Praticar**: \n",
    "\n",
    "-  **Nível Fácil**: Média de três números\n",
    "    1. Peça ao usuário três números.\n",
    "    1. Calcule e exiba a média aritmética.\n",
    "-  **Nível Médio**: Crie um programa que converta uma temperatura de Celsius para Fahrenheit.\n",
    "    1. Peça ao usuário a temperatura em graus Celsius com input().\n",
    "    1. Converta o valor para float, caso o usuário insira números decimais.\n",
    "    1. Use a fórmula $F = (C × 9/5) + 32$ para converter.\n",
    "    1. Exiba a temperatura convertida.\n",
    "-  **Nível Avançado**: Dias para anos e meses\n",
    "    1. Peça ao usuário um número de dias e converta para anos, meses e dias restantes.\n",
    "    1. Considere 1 ano = 365 dias e 1 mês = 30 dias."
   ]
  },
  {
   "cell_type": "code",
   "execution_count": 9,
   "metadata": {},
   "outputs": [],
   "source": [
    "# Adicione suas respostas aqui"
   ]
  },
  {
   "cell_type": "markdown",
   "metadata": {
    "id": "wZ2HQC9ipXSy"
   },
   "source": [
    "---\n",
    "\n",
    "## Conclusão  \n",
    "\n",
    "Parabéns por concluir esta aula!\n",
    "\n",
    "\n",
    "### O que aprendemos hoje?\n",
    "\n",
    "- O que são variáveis e como usá-las.\n",
    "- Principais tipos de dados em Python.\n",
    "- Como converter tipos de dados corretamente.\n",
    "- Como interagir com o usuário de maneira simples.\n",
    "\n",
    "Agora você já pode criar pequenos programas e manipular dados com Python!\n",
    "\n",
    "## Próximos Passos\n",
    "\n",
    "- Resolva os problemas na seção \"Exercícios para Praticar\".\n",
    "- Caso tenha dúvidas, revise os exemplos e experimente modificá-los. A programação se aprende na prática!\n",
    "\n",
    "\n",
    "### Conteúdo adicional\n",
    "\n",
    "Explore o Python Tutor: https://pythontutor.com/python-compiler.html\n",
    "\n",
    "\n",
    "### Parabéns pela dedicação! Nos vemos na próxima aula!"
   ]
  }
 ],
 "metadata": {
  "colab": {
   "provenance": []
  },
  "kernelspec": {
   "display_name": "base",
   "language": "python",
   "name": "python3"
  },
  "language_info": {
   "codemirror_mode": {
    "name": "ipython",
    "version": 3
   },
   "file_extension": ".py",
   "mimetype": "text/x-python",
   "name": "python",
   "nbconvert_exporter": "python",
   "pygments_lexer": "ipython3",
   "version": "3.11.7"
  }
 },
 "nbformat": 4,
 "nbformat_minor": 4
}
