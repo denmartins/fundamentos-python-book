{
 "cells": [
  {
   "cell_type": "markdown",
   "metadata": {
    "id": "fW2ArBCkFM9w"
   },
   "source": [
    "---\n",
    "# Fundamentos de Programação em Python\n",
    "\n",
    "### **Pontifícia Universidade Católica de Campinas**\n",
    "### **Prof. Dr. Denis Mayr Lima Martins**\n",
    "---"
   ]
  },
  {
   "cell_type": "markdown",
   "metadata": {
    "jp-MarkdownHeadingCollapsed": true
   },
   "source": [
    "\n",
    "### 📝 Introdução à linguagem Python e ao ambiente Jupyter Notebook\n",
    "\n",
    "Bem-vindo à nossa primeira aula prática de **Fundamentos de Programação em Python**! 🚀  \n",
    "\n",
    "Nesta aula, vamos dar os primeiros passos no mundo da programação, explorando os conceitos básicos da linguagem **Python** e nos familiarizando com o ambiente **Jupyter Notebook**.  \n",
    "\n",
    "**🔹 O que veremos hoje?**\n",
    "\n",
    "- O que é programação e como Python se encaixa nesse contexto.  \n",
    "- Introdução ao ambiente **Jupyter Notebook**.  \n",
    "- Escrevendo e executando os primeiros comandos em Python.  \n",
    "\n",
    "**🎯 Objetivos de Aprendizagem**\n",
    "\n",
    "- Familiarizar-se com o ambiente do Jupyter Notebook  \n",
    "- Aprender a **criar, editar e executar** células de código e Markdown.  \n",
    "- Explorar **atalhos e funcionalidades** para otimizar a escrita de código e a organização do material.  \n",
    "- Escrever e executar os primeiros comandos em Python  \n",
    "\n",
    "---"
   ]
  },
  {
   "cell_type": "markdown",
   "metadata": {},
   "source": [
    "## 🛠 Estrutura do Jupyter Notebook\n",
    "- **Células de Código**: Para escrever e executar comandos Python.  \n",
    "- **Células de Markdown**: Para adicionar explicações, títulos e formatações.  \n",
    "- **Atalhos úteis**:  \n",
    "  - `Shift + Enter`: Executa a célula e avança para a próxima.  \n",
    "  - `Esc + A`: Cria uma nova célula acima.  \n",
    "  - `Esc + B`: Cria uma nova célula abaixo.  \n",
    "  - `Esc + M`: Converte a célula em **Markdown**.  "
   ]
  },
  {
   "cell_type": "markdown",
   "metadata": {},
   "source": [
    "## 📝 Introdução ao Markdown\n",
    "\n",
    "O **Markdown** é uma linguagem de marcação leve que facilita a formatação de texto usando uma sintaxe simples e intuitiva. É amplamente utilizado em ambientes como o **Jupyter Notebook** para criar documentos que combinam código, texto formatado, imagens e muito mais.\n",
    "\n",
    "### ✨ Vantagens do Markdown\n",
    "\n",
    "- **Simplicidade**: Comandos fáceis de aprender e usar.\n",
    "- **Leitura**: Arquivos em Markdown são legíveis mesmo sem formatação.\n",
    "- **Flexibilidade**: Permite a inclusão de elementos como listas, links, imagens e trechos de código.\n",
    "\n",
    "Guia: https://github.com/mende1/guia-definitivo-de-markdown"
   ]
  },
  {
   "cell_type": "markdown",
   "metadata": {
    "id": "cvOHHZ-Yqx8m"
   },
   "source": [
    "## ⌨️ Escrever Texto\n",
    "\n",
    "Vamos experimentar um pouco com a linguagem Markdown.\n"
   ]
  },
  {
   "cell_type": "markdown",
   "metadata": {},
   "source": [
    "Este algoritmo computa 2 + 2"
   ]
  },
  {
   "cell_type": "markdown",
   "metadata": {},
   "source": [
    "## 🐍 Introdução à Linguagem Python\n",
    "\n",
    "Agora, vamos explorar e executar nossos primeiros comandos em Python! 🚀  "
   ]
  },
  {
   "cell_type": "markdown",
   "metadata": {
    "id": "TyJhVjj6FM91"
   },
   "source": [
    "\n",
    "### Operações Básicas"
   ]
  },
  {
   "cell_type": "code",
   "execution_count": 5,
   "metadata": {
    "id": "lLqfMJefoBCh"
   },
   "outputs": [
    {
     "data": {
      "text/plain": [
       "50"
      ]
     },
     "execution_count": 5,
     "metadata": {},
     "output_type": "execute_result"
    }
   ],
   "source": [
    "10*5"
   ]
  },
  {
   "cell_type": "code",
   "execution_count": 7,
   "metadata": {
    "id": "jPo63mWjFM92"
   },
   "outputs": [
    {
     "data": {
      "text/plain": [
       "4"
      ]
     },
     "execution_count": 7,
     "metadata": {},
     "output_type": "execute_result"
    }
   ],
   "source": [
    "1+1+2 # Para colocar um comentário, use #"
   ]
  },
  {
   "cell_type": "code",
   "execution_count": 9,
   "metadata": {},
   "outputs": [
    {
     "data": {
      "text/plain": [
       "2"
      ]
     },
     "execution_count": 9,
     "metadata": {},
     "output_type": "execute_result"
    }
   ],
   "source": [
    "1+1#+2"
   ]
  },
  {
   "cell_type": "code",
   "execution_count": 11,
   "metadata": {
    "id": "Za1dTy_PFM94"
   },
   "outputs": [
    {
     "data": {
      "text/plain": [
       "0"
      ]
     },
     "execution_count": 11,
     "metadata": {},
     "output_type": "execute_result"
    }
   ],
   "source": [
    "1-1 # Subtração\n",
    "\n"
   ]
  },
  {
   "cell_type": "code",
   "execution_count": 13,
   "metadata": {
    "id": "Qr9GBQ2UFM94"
   },
   "outputs": [
    {
     "data": {
      "text/plain": [
       "30"
      ]
     },
     "execution_count": 13,
     "metadata": {},
     "output_type": "execute_result"
    }
   ],
   "source": [
    "6*5 # Multiplicação\n"
   ]
  },
  {
   "cell_type": "code",
   "execution_count": 15,
   "metadata": {
    "id": "xPdecEAvFM94"
   },
   "outputs": [
    {
     "data": {
      "text/plain": [
       "1.5"
      ]
     },
     "execution_count": 15,
     "metadata": {},
     "output_type": "execute_result"
    }
   ],
   "source": [
    "3/2 # Divisão"
   ]
  },
  {
   "cell_type": "code",
   "execution_count": 17,
   "metadata": {
    "id": "z4qinysQFM95"
   },
   "outputs": [
    {
     "data": {
      "text/plain": [
       "1"
      ]
     },
     "execution_count": 17,
     "metadata": {},
     "output_type": "execute_result"
    }
   ],
   "source": [
    "3//2 # Divisão que mostra apenas o número inteiro"
   ]
  },
  {
   "cell_type": "code",
   "execution_count": 19,
   "metadata": {
    "id": "v_dOm4JAFM95"
   },
   "outputs": [
    {
     "data": {
      "text/plain": [
       "1000"
      ]
     },
     "execution_count": 19,
     "metadata": {},
     "output_type": "execute_result"
    }
   ],
   "source": [
    "10**3 # Número Elevado a outro"
   ]
  },
  {
   "cell_type": "code",
   "execution_count": 21,
   "metadata": {
    "id": "VIlvs5AThqx8"
   },
   "outputs": [
    {
     "data": {
      "text/plain": [
       "16"
      ]
     },
     "execution_count": 21,
     "metadata": {},
     "output_type": "execute_result"
    }
   ],
   "source": [
    "2**4"
   ]
  },
  {
   "cell_type": "markdown",
   "metadata": {
    "id": "07wJzYogFM96"
   },
   "source": [
    "### Precedência do operador\n",
    "\n",
    "Em Python, a precedência dos operadores é:\n",
    "\n",
    "**1:** () o que estiver entre ()\n",
    "\n",
    "**2:** **\n",
    "\n",
    "**3:** * ou / (o que vier primeiro)\n",
    "\n",
    "**4:** + ou - (o que vier primeiro)"
   ]
  },
  {
   "cell_type": "code",
   "execution_count": null,
   "metadata": {
    "id": "Z1JGi1SBFM96"
   },
   "outputs": [],
   "source": [
    "12 / (2 - 4) #Faz a operacao que estiver em () primeiro"
   ]
  },
  {
   "cell_type": "code",
   "execution_count": null,
   "metadata": {
    "id": "EMoHO4hOFM96"
   },
   "outputs": [],
   "source": [
    "4 * (5 + 2) * 8 + 1"
   ]
  },
  {
   "cell_type": "markdown",
   "metadata": {
    "id": "WBeUnzKiFM96"
   },
   "source": [
    "**Exercício**: Qual é o resultado do código a seguir?\n",
    "\n",
    "`print(2**2 + (3 - 1) * (1 + 2) - (2 / 2))`"
   ]
  },
  {
   "cell_type": "code",
   "execution_count": null,
   "metadata": {
    "colab": {
     "base_uri": "https://localhost:8080/"
    },
    "executionInfo": {
     "elapsed": 321,
     "status": "ok",
     "timestamp": 1725900815674,
     "user": {
      "displayName": "Raquel Mello",
      "userId": "08943078507175153227"
     },
     "user_tz": 180
    },
    "id": "iiZmC32eFM96",
    "outputId": "e7938e04-d45f-44f5-d30e-5185b28186b2"
   },
   "outputs": [],
   "source": [
    "2**2 + (3 - 1) * (1 + 2) - (2 / 2)"
   ]
  },
  {
   "cell_type": "markdown",
   "metadata": {
    "id": "Faxwf8isFM97"
   },
   "source": [
    "## 🔎 Verificação de mensagens de erro\n",
    "\n",
    "O Python gera erros para problemas no código. Os erros vêm acompanhados de uma mensagem que (espera-se) explica o que aconteceu e onde está o problema."
   ]
  },
  {
   "cell_type": "markdown",
   "metadata": {
    "id": "1wW8Nc4kilc_"
   },
   "source": [
    "Vamos tentar executar uma divisão por zero:"
   ]
  },
  {
   "cell_type": "code",
   "execution_count": null,
   "metadata": {
    "colab": {
     "base_uri": "https://localhost:8080/",
     "height": 141
    },
    "executionInfo": {
     "elapsed": 641,
     "status": "error",
     "timestamp": 1725900787642,
     "user": {
      "displayName": "Raquel Mello",
      "userId": "08943078507175153227"
     },
     "user_tz": 180
    },
    "id": "ql0kzJepizxI",
    "outputId": "8a331048-718d-4175-f1c5-dc90909ee914"
   },
   "outputs": [],
   "source": [
    "5/0"
   ]
  },
  {
   "cell_type": "markdown",
   "metadata": {
    "id": "zfu_QcxJFM97"
   },
   "source": [
    "## 💾 Salvando alterações\n",
    "\n",
    "Pressione o atalho de teclado `Ctrl + S` para salvar todas as alterações e garantir que você não perderá nenhuma informação nova."
   ]
  },
  {
   "cell_type": "markdown",
   "metadata": {
    "id": "3A1Z36CHFM97"
   },
   "source": [
    "## 📝 Adição de comentários no código\n",
    "\n",
    "Os comentários de código devem ser lidos pelos desenvolvedores. Eles geralmente descrevem o que, por que e/ou como algo foi feito naquela parte do programa. Os comentários devem ser frases completas. Eles devem facilitar a compreensão de códigos complexos escritos por outras pessoas (ou por você mesmo).\n",
    "\n",
    "Os comentários em Python são marcados com um sinal `#`. Tudo o que vem depois do sinal `#` até o final da linha é ignorado pelo Python:"
   ]
  },
  {
   "cell_type": "code",
   "execution_count": null,
   "metadata": {
    "id": "9Dh_bFmzFM97"
   },
   "outputs": [],
   "source": [
    "# Um comentário de uma única linha para uma operação simples\n",
    "1 + 1"
   ]
  },
  {
   "cell_type": "code",
   "execution_count": null,
   "metadata": {
    "id": "AKg9gZYDFM98"
   },
   "outputs": [],
   "source": [
    "1 + 1 # Os comentários também podem ser colocados logo após o código"
   ]
  },
  {
   "cell_type": "code",
   "execution_count": null,
   "metadata": {
    "id": "w4vw9Dk_FM98"
   },
   "outputs": [],
   "source": [
    "# Mas não à esquerda do código 1 + 1"
   ]
  },
  {
   "cell_type": "code",
   "execution_count": null,
   "metadata": {
    "id": "qGgv6GaMFM98"
   },
   "outputs": [],
   "source": [
    "1 + # No meio, o código também é problemático 1"
   ]
  },
  {
   "cell_type": "code",
   "execution_count": null,
   "metadata": {
    "id": "if_MyYiQFM98"
   },
   "outputs": [],
   "source": [
    "# Para várias linhas,\n",
    "# use vários '#'\n",
    "# assim.\n",
    "1 + 1"
   ]
  },
  {
   "cell_type": "markdown",
   "metadata": {
    "id": "bkXdfxqJFM98"
   },
   "source": [
    "## Imprimir uma mensagem 🖨\n",
    "\n",
    "Vamos imprimir uma mensagem."
   ]
  },
  {
   "cell_type": "code",
   "execution_count": 23,
   "metadata": {
    "id": "zehI8bt3FM98"
   },
   "outputs": [
    {
     "name": "stdout",
     "output_type": "stream",
     "text": [
      "Bom Dia\n"
     ]
    }
   ],
   "source": [
    "print(\"Bom Dia\")"
   ]
  },
  {
   "cell_type": "code",
   "execution_count": 25,
   "metadata": {},
   "outputs": [
    {
     "name": "stdout",
     "output_type": "stream",
     "text": [
      "1\n"
     ]
    }
   ],
   "source": [
    "print(1)"
   ]
  },
  {
   "cell_type": "code",
   "execution_count": 35,
   "metadata": {},
   "outputs": [
    {
     "name": "stdout",
     "output_type": "stream",
     "text": [
      "Digite sua idade 40\n"
     ]
    },
    {
     "data": {
      "text/plain": [
       "'40'"
      ]
     },
     "execution_count": 35,
     "metadata": {},
     "output_type": "execute_result"
    }
   ],
   "source": [
    "input(\"Digite sua idade\")"
   ]
  },
  {
   "cell_type": "markdown",
   "metadata": {
    "id": "7YETPwTsFM99"
   },
   "source": [
    "Deixe abaixo sua própria mensagem para o Mundo Python 🐍🌎:"
   ]
  },
  {
   "cell_type": "code",
   "execution_count": null,
   "metadata": {},
   "outputs": [],
   "source": []
  },
  {
   "cell_type": "code",
   "execution_count": null,
   "metadata": {},
   "outputs": [],
   "source": []
  },
  {
   "cell_type": "code",
   "execution_count": null,
   "metadata": {
    "id": "HWDS0K1CFM99"
   },
   "outputs": [],
   "source": [
    "print(\"Welcome!\")"
   ]
  },
  {
   "cell_type": "code",
   "execution_count": null,
   "metadata": {
    "id": "cubdkDR6FM99"
   },
   "outputs": [],
   "source": [
    "print(\"Print 1\")\n",
    "print(\"Print 2\")"
   ]
  },
  {
   "cell_type": "code",
   "execution_count": null,
   "metadata": {
    "id": "QZHYUbZ-FM99"
   },
   "outputs": [],
   "source": [
    "print(1+2)\n",
    "print(2**3)"
   ]
  },
  {
   "cell_type": "code",
   "execution_count": null,
   "metadata": {
    "id": "rvwr2cNj3icU"
   },
   "outputs": [],
   "source": [
    "# Ele consegue entender as 2 contas, mas mostra apenas a última.\n",
    "# Se quiser mostrar os dois resultados, tem que usar 'print'\n",
    "1+1\n",
    "2+2"
   ]
  },
  {
   "cell_type": "code",
   "execution_count": null,
   "metadata": {
    "id": "KosxMgTJ3edY"
   },
   "outputs": [],
   "source": [
    "print(\"Resultado 1:\", 1+1)\n",
    "print(\"Resultado 2:\", 2+2)"
   ]
  },
  {
   "cell_type": "markdown",
   "metadata": {
    "id": "-obnj8aSRJ9s"
   },
   "source": [
    "**Exercício para fazer em sala**: Verifique os valores produzidos pelas seguintes operações:\n",
    "\n",
    "a) `5*2`\n",
    "\n",
    "b) `2**3`\n",
    "\n",
    "c) `8 / 3`\n",
    "\n",
    "d) `2 + 5 + 6`\n",
    "\n",
    "d) Imprima a mensagem `Hello World`"
   ]
  },
  {
   "cell_type": "markdown",
   "metadata": {
    "id": "wZ2HQC9ipXSy"
   },
   "source": [
    "---\n",
    "\n",
    "## ✅ Conclusão  \n",
    "\n",
    "Parabéns por concluir esta aula! 🎉  \n",
    "\n",
    "Hoje, exploramos os conceitos básicos de **Python** e nos familiarizamos com o ambiente do **Jupyter Notebook**. Com esse conhecimento, você já pode começar a escrever e executar seus próprios códigos.  \n",
    "\n",
    "### 🔜 Próximos Passos:  \n",
    "- Praticar os conceitos aprendidos resolvendo pequenos exercícios.  \n",
    "- Explorar mais comandos básicos e entender como o Python pode ser usado para resolver problemas computacionais.  \n",
    "- Continuar aprimorando o uso do **Jupyter Notebook** para organização e documentação do código.  \n",
    "\n",
    "Caso tenha dúvidas, revise os exemplos e experimente modificá-los. A programação se aprende na prática! 🚀  \n",
    "\n",
    "📌 **Até a próxima aula!**  \n"
   ]
  }
 ],
 "metadata": {
  "colab": {
   "provenance": []
  },
  "interpreter": {
   "hash": "31f2aee4e71d21fbe5cf8b01ff0e069b9275f58929596ceb00d14d90e3e16cd6"
  },
  "kernelspec": {
   "display_name": "Python [conda env:base] *",
   "language": "python",
   "name": "conda-base-py"
  },
  "language_info": {
   "codemirror_mode": {
    "name": "ipython",
    "version": 3
   },
   "file_extension": ".py",
   "mimetype": "text/x-python",
   "name": "python",
   "nbconvert_exporter": "python",
   "pygments_lexer": "ipython3",
   "version": "3.11.7"
  }
 },
 "nbformat": 4,
 "nbformat_minor": 4
}
