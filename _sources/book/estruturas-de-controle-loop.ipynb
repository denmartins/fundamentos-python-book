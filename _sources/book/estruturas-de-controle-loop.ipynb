{
 "cells": [
  {
   "cell_type": "markdown",
   "metadata": {
    "jp-MarkdownHeadingCollapsed": true
   },
   "source": [
    "\n",
    "# Estruturas de Controle e Laços de Repetição\n",
    "---\n",
    "\n",
    "Vamos mergulhar em uma das partes mais importantes da programação em Python: as estruturas de controle e laços de \n",
    "repetição! \n",
    "\n",
    "Usamos esses conceitos para controlar o fluxo de execução do nosso programa.\n",
    "\n",
    "\n",
    "**O que veremos?**\n",
    "\n",
    "- Estruturas de controle: `if` (condição), `else` (caso contrário) e `elif` (caso específico).\n",
    "- Laços de repetição `for` (laço de iteração) e o `while` (laço de condição).\n",
    "- Operadores de atribuição, comparação e de lógica Booleana.\n",
    "\n",
    "**Objetivos de Aprendizagem**\n",
    "\n",
    "Ao final desta aula, você será capaz de:\n",
    "Aqui está a lista resumida em **quatro bullet points**:  \n",
    "\n",
    "- Compreender estruturas condicionais (`if`, `elif`, `else`) e seu papel na tomada de decisões.  \n",
    "- Explorar laços de repetição (`for` e `while` para automatizar tarefas repetitivas.  \n",
    "- Diferenciar o uso de `for` e `while`, evitando loops infinitos e aplicando boas práticas.\n",
    "- Explorar expressões booleanas e operadores lógicos (and, or, not).\n",
    "- **Aplicar esses conceitos na resolução de problemas práticos**, como validação de entrada e contagem de valores. \n",
    "---"
   ]
  },
  {
   "cell_type": "markdown",
   "metadata": {},
   "source": [
    "## Operadores de relacionais ou de comparação\n",
    "\n",
    "Os operadores relacionais ou de comparação em Python são utilizados para comparar dois valores e retornam um resultado booleano (`True` ou `False`).\n",
    "Os principais operadores de comparação são: igualdade (`==`), diferença (`!=`), maior (`>`), menor (`<`), maior ou igual (`>=`) e menor ou igual (`<=`). Esses operadores são amplamente utilizados em verificações lógicas, filtragem de dados e controle de fluxo dentro do código"
   ]
  },
  {
   "cell_type": "code",
   "execution_count": null,
   "metadata": {},
   "outputs": [],
   "source": [
    "42 == 42"
   ]
  },
  {
   "cell_type": "code",
   "execution_count": null,
   "metadata": {},
   "outputs": [],
   "source": [
    "3 == 4"
   ]
  },
  {
   "cell_type": "code",
   "execution_count": null,
   "metadata": {},
   "outputs": [],
   "source": [
    "2 != 3"
   ]
  },
  {
   "cell_type": "code",
   "execution_count": null,
   "metadata": {},
   "outputs": [],
   "source": [
    "\"dog\" != \"cat\""
   ]
  },
  {
   "cell_type": "code",
   "execution_count": null,
   "metadata": {},
   "outputs": [],
   "source": [
    "\"hello\" == \"hello\""
   ]
  },
  {
   "cell_type": "code",
   "execution_count": null,
   "metadata": {},
   "outputs": [],
   "source": [
    "\"hello\" == \"Hello\" # Case sensitive"
   ]
  },
  {
   "cell_type": "code",
   "execution_count": null,
   "metadata": {},
   "outputs": [],
   "source": [
    "42 > 0"
   ]
  },
  {
   "cell_type": "code",
   "execution_count": null,
   "metadata": {},
   "outputs": [],
   "source": [
    "42 < 0"
   ]
  },
  {
   "cell_type": "code",
   "execution_count": null,
   "metadata": {},
   "outputs": [],
   "source": [
    "42 >= 40"
   ]
  },
  {
   "cell_type": "code",
   "execution_count": null,
   "metadata": {},
   "outputs": [],
   "source": [
    "42 <= 43"
   ]
  },
  {
   "cell_type": "code",
   "execution_count": null,
   "metadata": {},
   "outputs": [],
   "source": [
    "num_participantes = 100\n",
    "\n",
    "num_participantes >= 50"
   ]
  },
  {
   "cell_type": "markdown",
   "metadata": {},
   "source": [
    "## Operadores Lógicos\n",
    "\n",
    "Em Python, existem três operadores lógicos fundamentais que nos ajudam a \n",
    "conectar duas expressões e obter um resultado booleano. Esses operadores \n",
    "são semelhantes aos operadores aritméticos, mas com uma diferença \n",
    "importante: em vez de retornar números ou até mesmo strings, eles apenas \n",
    "oferecem dois resultados possíveis - verdadeiro (True) ou falso (False).\n",
    "São eles:\n",
    "\n",
    " + `and` (e lógico)\n",
    " + `or` (ou lógico)\n",
    " + `not` (não)"
   ]
  },
  {
   "cell_type": "code",
   "execution_count": null,
   "metadata": {},
   "outputs": [],
   "source": [
    "# Avalie o resultado da expressão abaixo\n",
    "(4 < 5) and (5 < 6)"
   ]
  },
  {
   "cell_type": "markdown",
   "metadata": {},
   "source": [
    "Vamos ver no passo-a-passo:\n",
    "\n",
    "1. `(4 < 5) and (5 < 6)`\n",
    "2. `True and (5 < 6)`\n",
    "3. `True and True`\n",
    "4. `True`"
   ]
  },
  {
   "cell_type": "code",
   "execution_count": null,
   "metadata": {},
   "outputs": [],
   "source": [
    "(2 < 5) and (9 < 6)"
   ]
  },
  {
   "cell_type": "code",
   "execution_count": null,
   "metadata": {},
   "outputs": [],
   "source": [
    "(1 == 3) or (2 == 2)"
   ]
  },
  {
   "cell_type": "code",
   "execution_count": null,
   "metadata": {},
   "outputs": [],
   "source": [
    "idade = int(input(\"Digite sua idade: \"))\n",
    "eh_maior_de_idade = idade >= 18\n",
    "print(\"Idade do usuário: \", idade)\n",
    "print(\"Maior de idade? \", eh_maior_de_idade)"
   ]
  },
  {
   "cell_type": "markdown",
   "metadata": {},
   "source": [
    "**Tabela Verdade** para Operadores `and`, `or`:\n",
    "\n",
    "| | A  | B  | A `and` B | A `or` B | \n",
    "|:--:|:--:|:--:|:-------:|:------:|\n",
    "|  0| False| False| False | False |\n",
    "|  1| False| True | False | True |\n",
    "|  2| True| False| False | True | \n",
    "|  3| True| True| True | True |"
   ]
  },
  {
   "cell_type": "code",
   "execution_count": null,
   "metadata": {},
   "outputs": [],
   "source": [
    "not (1 == 2)"
   ]
  },
  {
   "cell_type": "code",
   "execution_count": null,
   "metadata": {},
   "outputs": [],
   "source": [
    "not (1 == 1)"
   ]
  },
  {
   "cell_type": "code",
   "execution_count": null,
   "metadata": {},
   "outputs": [],
   "source": [
    "arquivo_existe = False\n",
    "print(\"O arquivo exite? \", not arquivo_existe)"
   ]
  },
  {
   "cell_type": "markdown",
   "metadata": {},
   "source": [
    "### Precedência de operadores lógicos\n",
    "\n",
    "Nos operadores aritméticos seguimos a ordem: parênteses, potenciação, multiplicação/divisão/módulo, adição/subtração da esquerda\n",
    "para a direita. Enquanto isso, nos operadores lógicos seguimos a seguinte ordem:\n",
    "\n",
    "1. `Parênteses`;\n",
    "1. `not`;\n",
    "1. `and`;\n",
    "1. `or`."
   ]
  },
  {
   "cell_type": "markdown",
   "metadata": {},
   "source": [
    "📖 **Exercício 1**: avalie as expressões abaixo.\n",
    "\n",
    "- `(10 % 2 == 0) and (2 > 1)`\n",
    "- `2 + 2 == 4 and not 2 + 2 == 5 and 2 * 2 == 2 + 2`\n"
   ]
  },
  {
   "cell_type": "code",
   "execution_count": null,
   "metadata": {},
   "outputs": [],
   "source": [
    "# Adicione suas respostas aqui"
   ]
  },
  {
   "cell_type": "code",
   "execution_count": null,
   "metadata": {},
   "outputs": [],
   "source": [
    "# Adicione suas respostas aqui"
   ]
  },
  {
   "cell_type": "markdown",
   "metadata": {},
   "source": [
    "### Resumo de operadores de comparação e lógicos em Python\n",
    "\n",
    "- **Operadores de igualdade**:\n",
    " + `==` (igual a)\n",
    " + `!=` (não igual a)\n",
    "- **Operadores de desigualdade**:\n",
    " + `<` (menor que)\n",
    " + `>` (maior que)\n",
    " + `<=` (menor ou igual a)\n",
    " + `>=` (maior ou igual a)\n",
    "- **Operadores lógicos**:\n",
    " + `and` (e, lógico e AND)\n",
    " + `or` (ou, lógico OU)\n",
    " + `not` (não, lógico NOT)"
   ]
  },
  {
   "cell_type": "markdown",
   "metadata": {},
   "source": [
    "## Estruturas condicionais\n",
    "\n",
    "O comando `if` em Python é utilizado para criar estruturas condicionais, permitindo que um bloco de código seja executado apenas se uma determinada condição for verdadeira. Ele é essencial para a tomada de decisões dentro de um programa. \n",
    "\n",
    "Sintaxe: uma expressão **lógica** seguida de dois pontos (`:`), e o bloco de código associado deve ser **indentado** corretamente. Em alguns casos, podem ser utilizados os comandos `elif` (para testar condições adicionais) e `else` (para definir uma ação caso nenhuma das condições anteriores seja atendida)."
   ]
  },
  {
   "cell_type": "code",
   "execution_count": null,
   "metadata": {},
   "outputs": [],
   "source": [
    "if 10 % 2 == 0:\n",
    "    print(\"10 é par\")"
   ]
  },
  {
   "cell_type": "code",
   "execution_count": null,
   "metadata": {},
   "outputs": [],
   "source": [
    "hoje_e_domingo = False\n",
    "\n",
    "if hoje_e_domingo == True:\n",
    "    print('Hoje é domingo')\n",
    "else:\n",
    "    print('Hoje nao é domingo')"
   ]
  },
  {
   "cell_type": "markdown",
   "metadata": {},
   "source": [
    "💡 **Dica:** Uma maneira melhor de escrever o código acima é omitir a parte `== True`:"
   ]
  },
  {
   "cell_type": "code",
   "execution_count": null,
   "metadata": {},
   "outputs": [],
   "source": [
    "hoje_e_domingo = False\n",
    "\n",
    "if hoje_e_domingo:\n",
    "    print('Hoje é domingo')\n",
    "else:\n",
    "    print('Hoje nao é domingo')"
   ]
  },
  {
   "cell_type": "code",
   "execution_count": null,
   "metadata": {},
   "outputs": [],
   "source": [
    "temperatura = 30\n",
    "prob_chuva = 0.9\n",
    "print(\"O dia será: \")\n",
    "\n",
    "if temperatura >= 30:\n",
    "    print(\"Quente\")\n",
    "\n",
    "if prob_chuva > 0.7:\n",
    "    print(\"Com pancadas de chuva\")\n",
    "\n",
    "if temperatura >= 30 and prob_chuva > 0.8:\n",
    "    print(\"Muito abafado\")"
   ]
  },
  {
   "cell_type": "markdown",
   "metadata": {},
   "source": [
    "💡 **Importante:** Na prática, não importa o que seja colocado dentro da área de condições, desde que o resultado seja um booleano (`True` ou `False`)."
   ]
  },
  {
   "cell_type": "code",
   "execution_count": null,
   "metadata": {},
   "outputs": [],
   "source": [
    "idade = int(input(\"Digite sua idade: \"))\n",
    "\n",
    "if idade >= 18:\n",
    "    print(\"Você é maior de idade.\")  # Executado se a condição for verdadeira\n",
    "else:\n",
    "    print(\"Você é menor de idade.\")  # Executado se a condição for falsa\n",
    "\n",
    "print(\"Idade do usuário: \", idade)"
   ]
  },
  {
   "cell_type": "markdown",
   "metadata": {},
   "source": [
    "**Exemplo de controle de acesso**: Neste exemplo, vamos implementar uma verificação simples de permissão de usuário. Dependendo do tipo do usuário, (administrador, técnico, ou operador normal), diferentes permissões serão exibidas."
   ]
  },
  {
   "cell_type": "code",
   "execution_count": null,
   "metadata": {},
   "outputs": [],
   "source": [
    "# Definimos o perfil do usuário logado\n",
    "perfil_usuario = 'tecnico'\n",
    "\n",
    "# Verificamos o perfil do usuário\n",
    "if perfil_usuario == 'admin':\n",
    "    print('Usuário: Administrador')\n",
    "    print('Você tem acesso total ao sistema de produção')\n",
    "elif perfil_usuario == 'tecnico':  # Se for técnico\n",
    "    print('Usuário: Técnico de Manutenção')\n",
    "    print('Você tem acesso para realizar manutenções')\n",
    "elif perfil_usuario == \"operador_normal\":  # Se for um operador normal\n",
    "    print('Usuário: Operador Normal')\n",
    "    print('Você tem acesso para operar as máquinas')\n",
    "else:  # Se não for nenhum dos casos acima\n",
    "    print('Usuário: Visitante')\n",
    "    print('Você está sem acesso')"
   ]
  },
  {
   "cell_type": "markdown",
   "metadata": {},
   "source": [
    "📖 **Exercício 2**: Implemente um algoritmo que dada a idade de um nadador (lida do teclado) imprime a categoria na qual ele está:\n",
    "\n",
    "- infantil A = 5 - 7 anos\n",
    "- infantil B = 8-10 anos\n",
    "- juvenil A = 11-13 anos\n",
    "- juvenil B = 14-17 anos\n",
    "- adulto = maiores de 18 anos"
   ]
  },
  {
   "cell_type": "code",
   "execution_count": null,
   "metadata": {},
   "outputs": [],
   "source": [
    "# Adicione suas respostas aqui"
   ]
  },
  {
   "cell_type": "markdown",
   "metadata": {},
   "source": [
    "## Estruturas de laço de repetição\n",
    "\n",
    "Os **laços de repetição** em Python são estruturas fundamentais para a automação de tarefas repetitivas dentro de um programa. Eles permitem a execução de um bloco de código múltiplas vezes, reduzindo a necessidade de comandos redundantes. \n",
    "\n",
    "Python oferece dois tipos principais de laços: o `for`, utilizado para percorrer sequências como listas, strings e intervalos numéricos, e o `while`, que executa um bloco de código enquanto uma determinada condição lógica permanecer verdadeira.\n"
   ]
  },
  {
   "cell_type": "markdown",
   "metadata": {},
   "source": [
    "### While loop\n",
    "\n",
    "O comando `while` em Python é uma estrutura de repetição que executa um bloco de código enquanto uma determinada condição for verdadeira. Ele é amplamente utilizado quando o número exato de iterações não é conhecido previamente, permitindo a repetição baseada em uma expressão lógica."
   ]
  },
  {
   "cell_type": "code",
   "execution_count": null,
   "metadata": {},
   "outputs": [],
   "source": [
    "contador = 10\n",
    "while contador > 0:\n",
    "  print(contador)\n",
    "  contador = contador - 1"
   ]
  },
  {
   "cell_type": "markdown",
   "metadata": {},
   "source": [
    "#### Operadores de atribuição\n",
    "\n",
    "Os **operadores de atribuição** permitem realizar operações matemáticas e atualizar variáveis de maneira mais concisa, como `+=`, `-=`, `*=`, `/=`, `//=`, `%=` e `**=`. Esses operadores são amplamente empregados em laços de repetição e cálculos acumulativos, tornando a escrita do programa mais sucinta."
   ]
  },
  {
   "cell_type": "code",
   "execution_count": null,
   "metadata": {},
   "outputs": [],
   "source": [
    "contador = 10 \n",
    "while contador > 0:\n",
    "  print(contador)\n",
    "  contador -= 1"
   ]
  },
  {
   "cell_type": "code",
   "execution_count": null,
   "metadata": {},
   "outputs": [],
   "source": [
    "# Novo exemplo\n",
    "continuar = True # Variável booleana para controlar o loop\n",
    "\n",
    "# Loop que continua enquanto 'continuar' for True\n",
    "while continuar:\n",
    "    resposta = input(\"Deseja continuar? Digite s (para sim) ou n(para nao): \")\n",
    "\n",
    "    if resposta == \"n\":\n",
    "        continuar = False  # A condição de parada é atingida, o loop vai parar\n",
    "        print(\"Loop encerrado.\")\n",
    "    elif resposta == \"s\":\n",
    "        print(\"Você escolheu continuar.\")\n",
    "    else:\n",
    "        print(\"Não reconheci sua resposta. Tente novamente.\")"
   ]
  },
  {
   "cell_type": "markdown",
   "metadata": {},
   "source": []
  },
  {
   "cell_type": "markdown",
   "metadata": {},
   "source": [
    "### Loop infinito\n",
    "\n",
    "Ao utilizar o comando **`while`** em Python, é fundamental adotar boas práticas para evitar a ocorrência de **loops infinitos**, que podem comprometer a execução do programa, causando a sua paralisação. Um **loop infinito** ocorre quando a condição de parada nunca se torna **False**, resultando em uma execução contínua sem término. \n",
    "\n",
    "Para evitar esse problema, é essencial garantir que a variável de controle seja devidamente atualizada dentro do bloco de repetição. Além disso, é recomendável estabelecer critérios de saída adicionais, como contadores auxiliares ou verificações condicionais, assegurando que o laço não permaneça em execução indefinidamente."
   ]
  },
  {
   "cell_type": "code",
   "execution_count": null,
   "metadata": {},
   "outputs": [],
   "source": [
    "# Cuidado com esse código! Loop infinito\n",
    "while True:\n",
    "    print(\"Loop\")"
   ]
  },
  {
   "cell_type": "code",
   "execution_count": null,
   "metadata": {},
   "outputs": [],
   "source": [
    "continuar = True # Variável booleana para controlar o loop\n",
    "contador = 10\n",
    "\n",
    "# Loop que continua enquanto 'continuar' for True ou até a 11a interação\n",
    "while continuar and contador >= 0:\n",
    "    resposta = input(\"Deseja continuar? Digite s (para sim) ou n(para nao): \")\n",
    "\n",
    "    if resposta == \"n\":\n",
    "        continuar = False  # A condição de parada é atingida, o loop vai parar\n",
    "        contador = 0 # Zera o contador\n",
    "        print(\"Loop encerrado pelo usuário.\")\n",
    "    elif resposta == \"s\":\n",
    "        print(\"Você escolheu continuar.\")\n",
    "    else:\n",
    "        print(\"Não reconheci sua resposta. Tente novamente.\")\n",
    "    \n",
    "    print(\"Tentativas restantes: \", contador)\n",
    "    contador -= 1 # Decrementa o contador\n",
    "    \n",
    "\n",
    "print(\"Saiu do loop\")\n"
   ]
  },
  {
   "cell_type": "markdown",
   "metadata": {},
   "source": [
    "### Comando `break`\n",
    "\n",
    "O comando **`break`** é uma instrução de controle de fluxo utilizada para **interromper a execução de um laço de repetição**, encerrando o loop imediatamente, independentemente da condição de parada definida. \n",
    "\n",
    "Seu uso é particularmente relevante em situações onde um critério de saída específico deve ser atendido, permitindo maior flexibilidade na estrutura do programa. "
   ]
  },
  {
   "cell_type": "code",
   "execution_count": null,
   "metadata": {},
   "outputs": [],
   "source": [
    "# Novas palavras-chave: break\n",
    "count = 10\n",
    "while count > 0:\n",
    "    count = count - 1\n",
    "    print(\"O valor é\", count)\n",
    "    if count == 5:\n",
    "      break"
   ]
  },
  {
   "cell_type": "code",
   "execution_count": null,
   "metadata": {},
   "outputs": [],
   "source": [
    "# Para fazermos juntos\n",
    "valor = 2 # Mostrar no quadro: count / condição / operacoes\n",
    "\n",
    "while valor <= 12:\n",
    "  print('O número par é ', valor)\n",
    "  valor = valor + 2\n",
    "  if valor == 10:\n",
    "      break"
   ]
  },
  {
   "cell_type": "code",
   "execution_count": null,
   "metadata": {},
   "outputs": [],
   "source": [
    "# Remodelando o exemplo previamente visto\n",
    "\n",
    "contador = 10\n",
    "\n",
    "# Loop que continua enquanto 'continuar' for True ou até a 10a interação\n",
    "while True:\n",
    "    print(\"Tentativas restantes: \", contador)\n",
    "    \n",
    "    if contador <= 0:\n",
    "        break\n",
    "    \n",
    "    contador -= 1 # Decrementa o contador\n",
    "\n",
    "    resposta = input(\"Deseja continuar? Digite s (para sim) ou n(para nao): \")\n",
    "    \n",
    "    if resposta == \"n\":\n",
    "        print(\"Loop encerrado pelo usuário.\")\n",
    "        break\n",
    "    elif resposta == \"s\":\n",
    "        print(\"Você escolheu continuar.\")\n",
    "    else:\n",
    "        print(\"Não reconheci sua resposta. Tente novamente.\")\n",
    "    \n",
    "\n",
    "print(\"Saiu do loop\")\n"
   ]
  },
  {
   "cell_type": "markdown",
   "metadata": {},
   "source": [
    "### Comando `continue`\n",
    "\n",
    "O comando **`continue`** é uma instrução de controle de fluxo utilizada dentro de laços de repetição, como o **`while`**, para **pular a iteração atual** e continuar a execução do loop a partir da próxima iteração. Diferentemente do comando `break`, que interrompe completamente a repetição, o `continue` permite que o laço prossiga sem executar o restante do código dentro da iteração corrente. \n",
    "\n",
    "Esse comando é útil em situações onde certas condições precisam ser ignoradas temporariamente, como na filtragem de dados ou no controle de validações dentro de um loop. No entanto, seu uso deve ser planejado com cautela para garantir a clareza e previsibilidade do código.  "
   ]
  },
  {
   "cell_type": "code",
   "execution_count": null,
   "metadata": {},
   "outputs": [],
   "source": [
    "# Usando o comando continue\n",
    "contador = 0\n",
    "while contador < 10:\n",
    "    contador += 1\n",
    "    if contador % 2 == 0:\n",
    "        continue  # Pula números pares e continua a próxima iteração\n",
    "    print(\"Número ímpar:\", contador)"
   ]
  },
  {
   "cell_type": "markdown",
   "metadata": {},
   "source": [
    "### Função `len()`\n",
    "\n",
    "A função **`len()`** é utilizada para determinar o comprimento de uma sequência, como **strings, listas e tuplas**. Quando aplicada a uma **string**, ela retorna o número total de caracteres, incluindo espaços e pontuações. Em conjunto com estruturas de repetição, a função `len()` permite percorrer cada caractere da string de forma controlada, possibilitando a realização de diversas operações, como contagem de letras e filtragem de elementos específicos."
   ]
  },
  {
   "cell_type": "code",
   "execution_count": null,
   "metadata": {},
   "outputs": [],
   "source": [
    "palavra = \"Python\"\n",
    "len(palavra) # Número de caracteres na string"
   ]
  },
  {
   "cell_type": "code",
   "execution_count": null,
   "metadata": {},
   "outputs": [],
   "source": [
    "palavra = \"papaia\"\n",
    "indice = 0\n",
    "\n",
    "while indice < len(palavra):\n",
    "    letra = palavra[indice]\n",
    "    indice += 1\n",
    "    \n",
    "    if letra == \"a\":\n",
    "        continue\n",
    "\n",
    "    print(letra)"
   ]
  },
  {
   "cell_type": "markdown",
   "metadata": {},
   "source": [
    "📖 **Exercício 3**:\n",
    "\n",
    "1. Crie um programa que pergunte ao usuário por um número e, em seguida, peça se ele deseja \n",
    "multiplicar esse número por uma sequência de números inteiros a partir de 1. Por exemplo, se o \n",
    "usuário digita 5, o programa deve imprimir 5 + 10 + 15 + 20.\n",
    "\n",
    "2. Crie um programa que solicita um número inteiro positivo ao usuário e exibe esse número invertido. Dicas:\n",
    "    - Utilize um loop while para extrair os dígitos do número.\n",
    "    - Utilize operações matemáticas (`%` e `//`) para manipular os dígitos."
   ]
  },
  {
   "cell_type": "markdown",
   "metadata": {},
   "source": [
    "## For loop\n",
    "\n",
    "O comando `for` é uma estrutura de repetição amplamente utilizada para percorrer elementos de uma sequência, como **listas, strings, tuplas e intervalos numéricos**. Diferente do `while`, que depende de uma condição lógica para execução, o `for` itera sobre cada elemento da sequência de forma **controlada e previsível**, tornando-o ideal para manipulação de conjuntos de dados. \n",
    "\n",
    "Esse laço é amplamente aplicado em algoritmos que envolvem **iterações finitas**, como processamento de textos, varredura de listas e cálculos computacionais."
   ]
  },
  {
   "cell_type": "code",
   "execution_count": null,
   "metadata": {},
   "outputs": [],
   "source": [
    "for letra in \"Python\":\n",
    "    print(letra)"
   ]
  },
  {
   "cell_type": "code",
   "execution_count": null,
   "metadata": {},
   "outputs": [],
   "source": [
    "for i in [0, 1, 2, 3, 4, 5, 6, 7, 8, 9, 10]:\n",
    "    print(i)"
   ]
  },
  {
   "cell_type": "code",
   "execution_count": null,
   "metadata": {},
   "outputs": [],
   "source": [
    "for i in [0, 1, 2, 3, 4, 5, 6, 7, 8, 9, 10]:\n",
    "    if i % 2 == 0: # Apenas números pares\n",
    "        print(i)"
   ]
  },
  {
   "cell_type": "markdown",
   "metadata": {},
   "source": [
    "### Função `range()`\n",
    "\n",
    "A função **`range()`** é utilizada em conjunto com o laço **`for`** para gerar sequências numéricas. Sua principal finalidade é permitir a iteração controlada sobre um conjunto de valores inteiros, sem a necessidade de criar listas manualmente. \n",
    "\n",
    "A função aceita até três parâmetros: **início**, **fim** (não inclusivo) e **passo**, proporcionando flexibilidade na definição dos intervalos numéricos. Essa característica torna o `range()` essencial para a construção de laços que exigem um número específico de iterações."
   ]
  },
  {
   "cell_type": "code",
   "execution_count": null,
   "metadata": {},
   "outputs": [],
   "source": [
    "for i in range(0, 11):\n",
    "    print(i)"
   ]
  },
  {
   "cell_type": "code",
   "execution_count": null,
   "metadata": {},
   "outputs": [],
   "source": [
    "# Itera de 0 até 10, com passo 2\n",
    "for i in range(0, 11, 2):  # range(sart, stop, step)\n",
    "    print(i)"
   ]
  },
  {
   "cell_type": "code",
   "execution_count": null,
   "metadata": {},
   "outputs": [],
   "source": [
    "soma = 0\n",
    "for numero in range(11): # O zero pode ser omitido no início da função range()\n",
    "    soma += numero\n",
    "    print(numero)\n",
    "print(\"Soma: \", soma)"
   ]
  },
  {
   "cell_type": "code",
   "execution_count": null,
   "metadata": {},
   "outputs": [],
   "source": [
    "# Imprimir números de 0 a 20 usando um loop\n",
    "# ..."
   ]
  },
  {
   "cell_type": "code",
   "execution_count": null,
   "metadata": {},
   "outputs": [],
   "source": [
    "# Gere os números de 10 até 1 (contagem regressiva).\n",
    "for i in range(10, 0, -1):\n",
    "    print(i)"
   ]
  },
  {
   "cell_type": "code",
   "execution_count": null,
   "metadata": {},
   "outputs": [],
   "source": [
    "# Números de 0 a 20 com passo 5\n",
    "# ..."
   ]
  },
  {
   "cell_type": "code",
   "execution_count": null,
   "metadata": {},
   "outputs": [],
   "source": [
    "# Fatorial do número 5\n",
    "#..."
   ]
  },
  {
   "cell_type": "markdown",
   "metadata": {},
   "source": [
    "## Exercícios para Praticar\n",
    "\n",
    " **Nível Fácil**: Escreva um programa que solicita ao usuário uma palavra e conta quantas vogais e consoantes ela possui.\n",
    "\n",
    "**Requisitos:**\n",
    "- Utilize um loop `for` para percorrer a string.\n",
    "- Utilize condições (`if`) para verificar se um caractere é uma vogal ou consoante.\n",
    "- Considere apenas letras (ignore espaços, números e caracteres especiais).\n",
    "\n",
    "**Nível Médio**: Crie um programa que solicita um número inteiro positivo ao usuário e calcula a **soma de seus dígitos**.  \n",
    "\n",
    "**Requisitos:**  \n",
    "- Utilize um **loop `while`** para extrair os dígitos do número.  \n",
    "- Utilize um operador matemático para obter o último dígito (`%`).  \n",
    "\n",
    "**Exemplo de Entrada e Saída:**  \n",
    "```python\n",
    "Digite um número: 1234\n",
    "A soma dos dígitos é: 10  # (1 + 2 + 3 + 4) \n"
   ]
  },
  {
   "cell_type": "code",
   "execution_count": null,
   "metadata": {},
   "outputs": [],
   "source": [
    "# Adicione suas respostas aqui"
   ]
  },
  {
   "cell_type": "markdown",
   "metadata": {
    "id": "wZ2HQC9ipXSy"
   },
   "source": [
    "---\n",
    "\n",
    "## Conclusão  \n",
    "\n",
    "Parabéns por concluir esta aula!\n",
    "\n",
    "### O que aprendemos hoje?  \n",
    "\n",
    "Nesta aula, exploramos conceitos fundamentais para controlar o fluxo de um programa em **Python**:  \n",
    "- Como utilizar **estruturas condicionais** (`if`, `elif`, `else`) para tomar decisões.  \n",
    "- O uso de **laços de repetição** (`for` e `while`) para executar comandos de forma automática.  \n",
    "- A diferença entre **iteração controlada** (`for`) e **iteração condicional** (`while`). \n",
    "\n",
    "## Próximos Passos  \n",
    "- Resolva os problemas na seção \"Exercícios para Praticar\".\n",
    "- Caso tenha dúvidas, revise os exemplos e experimente modificá-los. A programação se aprende na prática!\n",
    "\n",
    "\n",
    "### Conteúdo adicional\n",
    "\n",
    "[Documentação Oficial do Python – Estruturas de Controle](https://docs.python.org/3/tutorial/controlflow.html)  \n",
    "\n",
    "### Parabéns pela dedicação! Nos vemos na próxima aula!"
   ]
  },
  {
   "cell_type": "markdown",
   "metadata": {},
   "source": []
  }
 ],
 "metadata": {
  "colab": {
   "provenance": []
  },
  "kernelspec": {
   "display_name": "base",
   "language": "python",
   "name": "python3"
  },
  "language_info": {
   "codemirror_mode": {
    "name": "ipython",
    "version": 3
   },
   "file_extension": ".py",
   "mimetype": "text/x-python",
   "name": "python",
   "nbconvert_exporter": "python",
   "pygments_lexer": "ipython3",
   "version": "3.11.7"
  }
 },
 "nbformat": 4,
 "nbformat_minor": 4
}
