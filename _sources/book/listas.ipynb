{
 "cells": [
  {
   "cell_type": "markdown",
   "id": "13110383",
   "metadata": {},
   "source": [
    "\n",
    "# Listas em Python\n",
    "---\n",
    "\n",
    "Nesta seção, mergulharemos no coração da programação com uma ferramenta poderosa: as listas. As listas são estruturas de dados fundamentais em Python e permitem armazenar coleções de itens – sejam números, strings, outros objetos ou até mesmo outras listas! Listas são a base para muitas tarefas de programação, desde armazenar dados até construir algoritmos complexos. Pense nelas como caixas organizadas onde você pode colocar qualquer coisa que precise.\n",
    "\n",
    "**O que veremos?**\n",
    "\n",
    "*   **Criação de Listas:** Aprenderemos como criar listas vazias e preenchidas com diferentes tipos de dados.\n",
    "*   **Acesso a Elementos:** Descobriremos como acessar elementos individuais dentro da lista usando índices (lembre-se que a indexação em Python começa em 0!).\n",
    "*   **Manipulação de Listas:** Vamos aprender a adicionar, remover e modificar elementos, além de realizar operações comuns como ordenar e pesquisar listas.\n",
    "\n",
    "\n",
    "**Objetivos de Aprendizagem**\n",
    "\n",
    "- Compreender o que são listas e para que servem em Python.\n",
    "- Aprender a criar, acessar, modificar e percorrer listas.\n",
    "- Praticar operações básicas e intermediárias com listas.\n",
    "- Resolver problemas utilizando listas em programas.\n",
    "\n",
    "---"
   ]
  },
  {
   "cell_type": "markdown",
   "id": "a116711c",
   "metadata": {},
   "source": [
    "##  O que é uma Lista?\n",
    "\n",
    "Em Python, uma **lista** é uma estrutura de dados que armazena uma sequência de elementos, podendo conter diferentes tipos (números, strings, outras listas etc.). \n",
    "\n",
    "Os valores em uma lista são chamados de *elementos*, ou, algumas vezes, de itens.\n",
    "\n",
    "### Sintaxe:\n",
    "```python\n",
    "minha_lista = [10, 20, 30, 40]\n",
    "```"
   ]
  },
  {
   "cell_type": "markdown",
   "id": "7e364fce",
   "metadata": {},
   "source": [
    "Lista homogênea (elementos do mesmo tipo de dados):"
   ]
  },
  {
   "cell_type": "code",
   "execution_count": null,
   "id": "9f2015af",
   "metadata": {},
   "outputs": [],
   "source": [
    "[10, 20, 30, 40]"
   ]
  },
  {
   "cell_type": "markdown",
   "id": "e4c9a30d",
   "metadata": {},
   "source": [
    "Lista heterogênea (elementos de tipo de dados diferentes):"
   ]
  },
  {
   "cell_type": "code",
   "execution_count": null,
   "id": "0fc910be",
   "metadata": {},
   "outputs": [],
   "source": [
    "['item', 2, 3.0, True, 'texto']"
   ]
  },
  {
   "cell_type": "markdown",
   "id": "85d63d3e",
   "metadata": {},
   "source": [
    "Lista vazia: Uma lista que não contém elementos é chamada de lista vazia; você pode criar uma com colchetes vazios []."
   ]
  },
  {
   "cell_type": "code",
   "execution_count": null,
   "id": "5c40388f",
   "metadata": {},
   "outputs": [],
   "source": [
    "lista = []\n",
    "print(lista)"
   ]
  },
  {
   "cell_type": "markdown",
   "id": "fdd96ba1",
   "metadata": {},
   "source": [
    "\n",
    "## Acessando Elementos\n",
    "\n",
    "- Assim como strings, listas são indexadas a partir do índice 0.\n",
    "- Qualquer expressão de números inteiros pode ser usada como índice.\n",
    "- Se tentar ler ou escrever um elemento que não existe, você recebe um IndexError.\n",
    "- Se um índice tiver um valor negativo, ele conta de trás para a frente, a partir do final da lista.\n"
   ]
  },
  {
   "cell_type": "code",
   "execution_count": null,
   "id": "377e127d",
   "metadata": {},
   "outputs": [],
   "source": [
    "minha_lista = [10, 20, 30, 40]\n",
    "print(minha_lista[0])  # Primeiro elemento\n",
    "print(minha_lista[-1]) # Último elemento"
   ]
  },
  {
   "cell_type": "code",
   "execution_count": null,
   "id": "7f713791",
   "metadata": {},
   "outputs": [],
   "source": [
    "colors = ['red', 'green', 'blue', 'yellow', 'white', 'black']\n",
    "print(colors)"
   ]
  },
  {
   "cell_type": "markdown",
   "id": "454a0cc5",
   "metadata": {},
   "source": [
    "A lista acima pode ser representada da seguinte forma:\n",
    "\n",
    "```\n",
    "                +-------+ +-------+ +-------+ +-------+ +-------+ +-------+\n",
    "elementos ->    | Red   | | Green | | Blue  | | Yellow| | White | | Black |\n",
    "                +-------+ +-------+ +-------+ +-------+ +-------+ +-------+\n",
    "índices   ->    | 0     | | 1     | | 2     | | 3     | | 4     | | 5     |\n",
    "                +-------+ +-------+ +-------+ +-------+ +-------+ +-------+\n",
    "```"
   ]
  },
  {
   "cell_type": "markdown",
   "id": "60ae2be8",
   "metadata": {},
   "source": [
    "**Slicing** (Fatiamento)\n",
    "\n",
    "Assim como em strings, slicing permite que você extraia uma parte de uma lista sem modificar a lista original. É como se você estivesse \"fatiando\" a lista em pedaços menores.\n",
    "\n",
    "**Sintaxe básica**: \n",
    "\n",
    "`nome da variável lista` `[início:fim:passo]`\n",
    "\n",
    "- **início**: Índice onde o slice começa (inclusive). Se não for especificado, o slice começa do início da lista. (Posição 0)\n",
    "- **fim**: Índice onde o slice termina (exclusivo). Se não for especificado, o slice vai até o final da lista.\n",
    "- **passo**: O intervalo entre os elementos a serem selecionados. Se não for especificado, o valor padrão é 1, ou seja, todos os elementos serão selecionados.\n",
    "\n",
    "Portanto, o padrão do slicing (fatiamento) é `[início (default é 0) : fim (valor-1) : passo (default é 1)]`"
   ]
  },
  {
   "cell_type": "code",
   "execution_count": null,
   "id": "24e47041",
   "metadata": {},
   "outputs": [],
   "source": [
    "colors[0:2]"
   ]
  },
  {
   "cell_type": "code",
   "execution_count": null,
   "id": "ca8bbe37",
   "metadata": {},
   "outputs": [],
   "source": [
    "colors[1:1]"
   ]
  },
  {
   "cell_type": "code",
   "execution_count": null,
   "id": "b004b508",
   "metadata": {},
   "outputs": [],
   "source": [
    "colors[4:]"
   ]
  },
  {
   "cell_type": "code",
   "execution_count": null,
   "id": "74e99d33",
   "metadata": {},
   "outputs": [],
   "source": [
    "colors[1::2]"
   ]
  },
  {
   "cell_type": "code",
   "execution_count": null,
   "id": "e2a7394e",
   "metadata": {},
   "outputs": [],
   "source": [
    "colors[0::2] # Seleciona os itens da posição 0, até a última posição (que é default quando não tem informação) com o step 2"
   ]
  },
  {
   "cell_type": "code",
   "execution_count": null,
   "id": "730758a1",
   "metadata": {},
   "outputs": [],
   "source": [
    "colors[0:6:2] # Seleciona os itens da posição 0, até a última posição, pois vai ler até a posição 5 de 2 em 2"
   ]
  },
  {
   "cell_type": "markdown",
   "id": "31351a52",
   "metadata": {},
   "source": [
    "O operador `in` também funciona com listas:"
   ]
  },
  {
   "cell_type": "code",
   "execution_count": null,
   "id": "eb3303af",
   "metadata": {},
   "outputs": [],
   "source": [
    "\"blue\" in colors"
   ]
  },
  {
   "cell_type": "code",
   "execution_count": null,
   "id": "876362ac",
   "metadata": {},
   "outputs": [],
   "source": [
    "\"purple\" in colors"
   ]
  },
  {
   "cell_type": "markdown",
   "id": "3c0f716c",
   "metadata": {},
   "source": [
    "## Percorrendo uma lista com loops\n",
    "\n",
    "É possível usar um loop `for` para percorrer os elementos de uma lista:\n"
   ]
  },
  {
   "cell_type": "code",
   "execution_count": null,
   "id": "84669f71",
   "metadata": {},
   "outputs": [],
   "source": [
    "colors = ['red', 'green', 'blue', 'yellow', 'white', 'black']\n",
    "\n",
    "for color in colors:\n",
    "    print(color)"
   ]
  },
  {
   "cell_type": "markdown",
   "id": "85e0da6e",
   "metadata": {},
   "source": [
    "Você também pode usar os índices para percorrer a lista no loop:"
   ]
  },
  {
   "cell_type": "code",
   "execution_count": null,
   "id": "269df992",
   "metadata": {},
   "outputs": [],
   "source": [
    "for i in range(len(colors)):\n",
    "    print(f\"Posição {i}: {colors[i]}\")"
   ]
  },
  {
   "cell_type": "markdown",
   "id": "0c42e079",
   "metadata": {},
   "source": [
    "Note que um loop sobre uma lista fazia numa executa o código em seu escopo:"
   ]
  },
  {
   "cell_type": "code",
   "execution_count": null,
   "id": "c2d91062",
   "metadata": {},
   "outputs": [],
   "source": [
    "for x in []:\n",
    "    print('Nunca vai executar.')\n"
   ]
  },
  {
   "cell_type": "markdown",
   "id": "00349e53",
   "metadata": {},
   "source": [
    "**Exercício**: \n",
    "\n",
    "Dada a lista `[4, 7, 2, 8, 1]`, escreva um código que conte quantos números são maiores que 5."
   ]
  },
  {
   "cell_type": "markdown",
   "id": "fca631f9",
   "metadata": {},
   "source": [
    "## Listas são Mutáveis\n",
    "\n",
    "Diferente das strings, listas são mutáveis. Ou seja, podemos modificar um elemento da lista acessando sua posição via índice.\n"
   ]
  },
  {
   "cell_type": "code",
   "execution_count": null,
   "id": "abe6eb7c",
   "metadata": {},
   "outputs": [],
   "source": [
    "minha_lista = [10, 20, 30, 40]\n",
    "minha_lista[2] = 99 # Modifica o terceiro elemento\n",
    "print(minha_lista)"
   ]
  },
  {
   "cell_type": "markdown",
   "id": "729f93bf",
   "metadata": {},
   "source": [
    "Use `del` para deletar elementos da lista:"
   ]
  },
  {
   "cell_type": "code",
   "execution_count": null,
   "id": "10082e04",
   "metadata": {},
   "outputs": [],
   "source": [
    "numeros = [1, 2, 3, 4, 5]\n",
    "del numeros[0] # Deleta o elemento na posição 0\n",
    "print(numeros)"
   ]
  },
  {
   "cell_type": "markdown",
   "id": "b055ed46",
   "metadata": {},
   "source": [
    "Para remover mais de um elemento por vez, você pode usar `del` com um índice de fatia:"
   ]
  },
  {
   "cell_type": "code",
   "execution_count": null,
   "id": "7346a2c1",
   "metadata": {},
   "outputs": [],
   "source": [
    "numeros = [1, 2, 3, 4, 5]\n",
    "del numeros[1:4] # Deleta os elementos nas posições 1, 2 e 3\n",
    "print(numeros)"
   ]
  },
  {
   "cell_type": "markdown",
   "id": "e1dcc43b",
   "metadata": {},
   "source": [
    "Se souber o índice do elemento que quer deletar, você pode usar `pop`. O método `pop` altera a lista e retorna o elemento que foi deletado:"
   ]
  },
  {
   "cell_type": "code",
   "execution_count": null,
   "id": "06747837",
   "metadata": {},
   "outputs": [],
   "source": [
    "numeros = [1, 2, 3, 4, 5]\n",
    "x = numeros.pop(2)\n",
    "print(x)\n",
    "print(numeros)"
   ]
  },
  {
   "cell_type": "markdown",
   "id": "dc0b0629",
   "metadata": {},
   "source": [
    "**Exercício**: \n",
    "\n",
    "Dada a lista `numeros = [1, 2, 3, 4, 5]`:\n",
    "- a) Adicione um novo número ao final.\n",
    "- b) Substitua o terceiro número.\n",
    "- c) Remova o primeiro e o segundo número."
   ]
  },
  {
   "cell_type": "markdown",
   "id": "4c3993fa",
   "metadata": {},
   "source": [
    "### Operações básicas"
   ]
  },
  {
   "cell_type": "code",
   "execution_count": null,
   "id": "a5332952",
   "metadata": {},
   "outputs": [],
   "source": [
    "# Novo exemplo de lista\n",
    "languages = ['C', 'C++', 'Python', 'Java']\n",
    "print(languages)"
   ]
  },
  {
   "cell_type": "code",
   "execution_count": null,
   "id": "07b72594",
   "metadata": {},
   "outputs": [],
   "source": [
    "# Tamanho da lista (quantos itens ela contém)\n",
    "len(languages)"
   ]
  },
  {
   "cell_type": "code",
   "execution_count": null,
   "id": "f896d26f",
   "metadata": {},
   "outputs": [],
   "source": [
    "# Adicionar um elemento ao final da lista\n",
    "# append()\n",
    "languages.append(\"Último\")\n",
    "print(languages)"
   ]
  },
  {
   "cell_type": "code",
   "execution_count": null,
   "id": "f8c858be",
   "metadata": {},
   "outputs": [],
   "source": [
    "# Adicione um elemento no começo da lista\n",
    "# insert()\n",
    "languages.insert(0, \"Javascript\") #(posição onde será adicionado, novo elemento)\n",
    "print(languages)"
   ]
  },
  {
   "cell_type": "code",
   "execution_count": null,
   "id": "dc30ecf5",
   "metadata": {},
   "outputs": [],
   "source": [
    "# Ordenar os elementos de uma lista\n",
    "sorted(languages)\n",
    "# Em uma lista de strings ordena em ordem alfabética"
   ]
  },
  {
   "cell_type": "code",
   "execution_count": null,
   "id": "dd18cebb",
   "metadata": {},
   "outputs": [],
   "source": [
    "# A função sorted não modifica a lista original. Ela cria uma nova lista ordenada.\n",
    "print(languages)"
   ]
  },
  {
   "cell_type": "code",
   "execution_count": null,
   "id": "d0d7804e",
   "metadata": {},
   "outputs": [],
   "source": [
    "# A lista ordenada pode ser assinada para outra variável\n",
    "languages_ordenada = sorted(languages)\n",
    "print(languages_ordenada)"
   ]
  },
  {
   "cell_type": "code",
   "execution_count": null,
   "id": "eefc74c3",
   "metadata": {},
   "outputs": [],
   "source": [
    "# Ordenar elementos por comprimento (key=len)\n",
    "languages = ['Python', 'Java', 'C', 'C++', 'Javascript']\n",
    "sorted(languages,key=len) # Para ordenar pelo número de caracteres dos elementos"
   ]
  },
  {
   "cell_type": "markdown",
   "id": "9c491aea",
   "metadata": {},
   "source": [
    "Exemplos com lista de **números**"
   ]
  },
  {
   "cell_type": "code",
   "execution_count": null,
   "id": "0d9e2bf7",
   "metadata": {},
   "outputs": [],
   "source": [
    "numeros = [4, 7, 1, 9]\n",
    "print(len(numeros))    # Tamanho da lista\n",
    "print(sum(numeros))    # Soma dos elementos\n",
    "print(max(numeros))    # Maior valor\n",
    "print(min(numeros))    # Menor valor"
   ]
  },
  {
   "cell_type": "markdown",
   "id": "6a335bcb",
   "metadata": {},
   "source": [
    "O operador `+` concatena listas:"
   ]
  },
  {
   "cell_type": "code",
   "execution_count": null,
   "id": "f248f7d4",
   "metadata": {},
   "outputs": [],
   "source": [
    "\n",
    "numbers_part_1 = [1, 2, 3]\n",
    "numbers_part_2 = [4, 5, 6]\n",
    "\n",
    "print(numbers_part_1)\n",
    "print(numbers_part_2)\n",
    "\n",
    "print(\"Nova lista:\", numbers_part_1 + numbers_part_2) # Nova lista\n"
   ]
  },
  {
   "cell_type": "markdown",
   "id": "66349fb3",
   "metadata": {},
   "source": [
    "O méotodo `extend` toma uma lista como argumento e adiciona todos os elementos:\n",
    "\n"
   ]
  },
  {
   "cell_type": "code",
   "execution_count": null,
   "id": "a46b4e91",
   "metadata": {},
   "outputs": [],
   "source": [
    "# Para adicionar os elementos de uma lista na outra\n",
    "numbers_part_1 = [1, 2, 3]\n",
    "numbers_part_2 = [4, 5, 6]\n",
    "\n",
    "numbers_part_1.extend(numbers_part_2) # Não criou uma nova lista, adicionou a segunda na primeira\n",
    "\n",
    "print(numbers_part_1)\n",
    "print(numbers_part_2)"
   ]
  },
  {
   "cell_type": "markdown",
   "id": "edf2431a",
   "metadata": {},
   "source": [
    "O operador `*` repete a lista um dado número de vezes:"
   ]
  },
  {
   "cell_type": "code",
   "execution_count": null,
   "id": "5106beb3",
   "metadata": {},
   "outputs": [],
   "source": [
    "[0] * 4"
   ]
  },
  {
   "cell_type": "markdown",
   "id": "298f1135",
   "metadata": {},
   "source": [
    "## List Comprehensions\n",
    "\n",
    "*List comprehensions* em Python são uma forma concisa e elegante de criar listas a partir de outras coleções de dados iteráveis (como listas, tuplas, ranges, etc.). Pense nelas como um atalho para escrever loops `for` que criam listas de forma rápida.\n",
    "\n",
    "**Sintaxe básica**:\n",
    "\n",
    "`nova_lista = [expressão for item in iterável if condição]`\n",
    "\n",
    "- expressão: O que você quer colocar em cada elemento da nova lista (pode ser uma variável, uma operação matemática, etc.).\n",
    "- item: A variável que representa cada elemento do iterável.\n",
    "- iterável: A sequência de elementos a partir da qual você está criando a nova lista (lista, tupla, range, etc.).\n",
    "- condição (opcional): Um filtro. Só os itens que satisfazem essa condição serão incluídos na nova lista.\n",
    "\n",
    "**Por que usar?**\n",
    "\n",
    "*  **Facilidade:** Reduzem significativamente o código em comparação com loops `for` tradicionais.\n",
    "*  **Eficiência:** Em muitos casos, são mais rápidas do que loops `for` equivalentes\n"
   ]
  },
  {
   "cell_type": "markdown",
   "id": "c9c259cc",
   "metadata": {},
   "source": [
    "**Exemplo Simples:**"
   ]
  },
  {
   "cell_type": "code",
   "execution_count": null,
   "id": "ee09a6c4",
   "metadata": {},
   "outputs": [],
   "source": [
    "numeros = [1, 2, 3, 4, 5]\n",
    "\n",
    "# Cria uma lista com os quadrados de cada número\n",
    "quadrados = [x**2 for x in numeros] \n",
    "\n",
    "print(quadrados)"
   ]
  },
  {
   "cell_type": "markdown",
   "id": "c192c66b",
   "metadata": {},
   "source": [
    "**Exemplo com Condição:**"
   ]
  },
  {
   "cell_type": "code",
   "execution_count": null,
   "id": "4ed447e3",
   "metadata": {},
   "outputs": [],
   "source": [
    "numeros = [1, 2, 3, 4, 5]\n",
    "\n",
    "# Cria uma lista com os quadrados dos números pares\n",
    "pares_ao_quadrado = [x**2 for x in numeros if x % 2 == 0] \n",
    "\n",
    "print(pares_ao_quadrado)"
   ]
  },
  {
   "cell_type": "markdown",
   "id": "30352ce3",
   "metadata": {},
   "source": [
    "**Exercício**: \n",
    "\n",
    "Dada a lista `frutas = [\"abacaxi\", \"banana\", \"morango\", \"ameixa\", \"uva\", \"acerola\"]`, escreva uma *list comprehension* que crie uma nova lista chamada frutas_com_a contendo apenas as frutas da lista frutas que começam com a letra \"a\" (maiúscula), e converta cada fruta para maiúsculas antes de adicioná-la à nova lista."
   ]
  },
  {
   "cell_type": "markdown",
   "id": "c4a9d1e4",
   "metadata": {},
   "source": [
    "## **Exercícios para Praticar**: \n",
    "\n",
    "1. Escreva uma função chamada `is_sorted` que tome uma lista como parâmetro e retorne `True` se a lista estiver classificada em ordem ascendente, e `False` se não for o caso. Por exemplo:\n",
    "\n",
    "    ```python\n",
    "    is_sorted([1, 2, 2]) # Saída: True\n",
    "    is_sorted(['b', 'a']) # Saída: False\n",
    "    ```\n",
    "\n",
    "2. Escreva uma função chamada `soma_cumulativa` que receba uma lista de números e retorne a soma cumulativa; isto é, uma nova lista onde o i-ésimo elemento é a soma dos primeiros `i+1` elementos da lista original. Por exemplo:\n",
    "\n",
    "    ```python\n",
    "    t = [1, 2, 3]\n",
    "    print(soma_cumulativa(t)) # Saída: [1, 3, 6]\n",
    "    ```\n",
    "\n",
    "3. Escreva uma função chamada `tem_duplicados` que tome uma lista e retorne `True` se houver algum elemento que apareça mais de uma vez, caso contrário retorna `False`. Ela não deve modificar a lista original.\n",
    "    ```python\n",
    "    tem_duplicados([1, 2, 2]) # Saída: True\n",
    "    tem_duplicados(['b', 'a']) # Saída: False\n",
    "    ```"
   ]
  },
  {
   "cell_type": "markdown",
   "id": "c56f62ad",
   "metadata": {},
   "source": [
    "---\n",
    "\n",
    "## Conclusão  \n",
    "\n",
    "Parabéns por concluir esta aula!\n",
    "\n",
    "### O que aprendemos hoje?  \n",
    "\n",
    "- Listas são fundamentais na programação com Python.\n",
    "- Permitem armazenar, acessar e manipular coleções de dados.\n",
    "- Operações como percorrer, fatiar e transformar listas são muito comuns no dia a dia de quem programa.\n",
    "\n",
    "### Próximos Passos  \n",
    "- Resolva os problemas na seção \"Exercícios para Praticar\".\n",
    "- Verificar a [documentação oficial do tipo list](https://docs.python.org/3/tutorial/datastructures.html#more-on-lists).\n",
    "\n",
    "### Parabéns pela dedicação! Nos vemos na próxima aula!"
   ]
  },
  {
   "cell_type": "markdown",
   "id": "8240629c",
   "metadata": {},
   "source": []
  }
 ],
 "metadata": {
  "kernelspec": {
   "display_name": "Python [conda env:base] *",
   "language": "python",
   "name": "conda-base-py"
  },
  "language_info": {
   "codemirror_mode": {
    "name": "ipython",
    "version": 3
   },
   "file_extension": ".py",
   "mimetype": "text/x-python",
   "name": "python",
   "nbconvert_exporter": "python",
   "pygments_lexer": "ipython3",
   "version": "3.11.7"
  }
 },
 "nbformat": 4,
 "nbformat_minor": 5
}
