{
 "cells": [
  {
   "cell_type": "markdown",
   "id": "13110383",
   "metadata": {},
   "source": [
    "# Dicionários em Python\n",
    "---\n",
    "\n",
    "Vamos mergulhar em uma das estruturas de dados mais poderosas e versáteis do Python: os dicionários. Imagine precisar organizar informações complexas – nomes, idades, cidades, ou até mesmo detalhes sobre seus filmes favoritos. Os dicionários oferecem uma maneira eficiente e flexível de armazenar e acessar esses dados.\n",
    "\n",
    "## Objetivos de Aprendizagem\n",
    "\n",
    "*   Compreender o conceito de dicionários como estruturas de dados em pares chave-valor.\n",
    "*   Criar, modificar e acessar elementos em um dicionário.\n",
    "*   Aplicar dicionários para resolver problemas práticos comuns.\n",
    "\n",
    "## Conceito de Dicionários em Python\n",
    "\n",
    "Um dicionário é uma coleção não ordenada de pares chave-valor. As chaves são únicas e imutáveis, enquanto os valores podem ser de qualquer tipo.\n",
    "Pense em um catálogo telefônico – você procura uma pessoa pelo nome (chave) para obter o número de telefone (valor).\n",
    "\n",
    "```\n",
    "+------------------------------------------+\n",
    "|     Agenda Telefônica (Dicionário)       |\n",
    "+------------------------------------------+\n",
    "| \"Ana\"        -->   \"(11) 91234-5678\"     |\n",
    "| \"Carlos\"     -->   \"(21) 99876-4321\"     |\n",
    "| \"Beatriz\"    -->   \"(31) 98765-1234\"     |\n",
    "+------------------------------------------+\n",
    "```\n"
   ]
  },
  {
   "cell_type": "markdown",
   "id": "e4c52d5b",
   "metadata": {},
   "source": [
    "Vamos criar nosso primeiro dicionário em uma variável `meu_dicionario` no formato abaixo:\n",
    "\n",
    "```\n",
    "+-------------------------------+\n",
    "|        meu_dicionario         |\n",
    "+-------------------------------+\n",
    "| \"nome\"       -->     \"Ana\"    |\n",
    "| \"idade\"      -->     25       |\n",
    "| \"cidade\"     -->  \"Campinas\"  |\n",
    "+-------------------------------+\n",
    "```\n"
   ]
  },
  {
   "cell_type": "code",
   "execution_count": null,
   "id": "daae8d77",
   "metadata": {},
   "outputs": [],
   "source": [
    "meu_dicionario = {\n",
    "    \"nome\": \"Ana\",\n",
    "    \"idade\": 25,\n",
    "    \"cidade\": \"Campinas\"\n",
    "}"
   ]
  },
  {
   "cell_type": "markdown",
   "id": "3129dca2",
   "metadata": {},
   "source": [
    "Usamos a chave para acessar o valor correspondente:"
   ]
  },
  {
   "cell_type": "code",
   "execution_count": null,
   "id": "96cca12d",
   "metadata": {},
   "outputs": [],
   "source": [
    "meu_dicionario[\"nome\"] # Saída: Ana"
   ]
  },
  {
   "cell_type": "markdown",
   "id": "d218ceb7",
   "metadata": {},
   "source": [
    "E podemos também usar o método `get()`:"
   ]
  },
  {
   "cell_type": "code",
   "execution_count": null,
   "id": "f90d8bda",
   "metadata": {},
   "outputs": [],
   "source": [
    "meu_dicionario.get(\"nome\") # Saída: Ana"
   ]
  },
  {
   "cell_type": "markdown",
   "id": "9b4cec2d",
   "metadata": {},
   "source": [
    "Alternativamente, podemos utilizar um valor padrão no método `get()` em caso não haja um item no dicionário com a chave passada como parâmetro:"
   ]
  },
  {
   "cell_type": "code",
   "execution_count": null,
   "id": "7b414100",
   "metadata": {},
   "outputs": [],
   "source": [
    "meu_dicionario.get(\"pais\", \"Não encontrado\")  # Valor padrão"
   ]
  },
  {
   "cell_type": "markdown",
   "id": "9956bf5e",
   "metadata": {},
   "source": [
    "Isso ajuda a evitar o lançamento de um `KeyError` como no caso a seguir, onde a chave `estado` (não existente no dicionário) é passada:"
   ]
  },
  {
   "cell_type": "code",
   "execution_count": null,
   "id": "80dc2ea1",
   "metadata": {},
   "outputs": [],
   "source": [
    "meu_dicionario[\"estado\"] # Erro"
   ]
  },
  {
   "cell_type": "markdown",
   "id": "ad6ffbb0",
   "metadata": {},
   "source": [
    "## Operações Básicas\n",
    "\n",
    "Assim como vimos na manipulação de strings e listas, a função `len()`retorna o número de pares chave-valor presentes no dicionário, fornecendo uma maneira rápida e eficiente de determinar seu tamanho ou a quantidade de dados que ele contém. Essa informação pode ser útil em diversas situações, como verificar se um dicionário está vazio ou controlar o limite do número de itens que um dicionário pode armazenar."
   ]
  },
  {
   "cell_type": "code",
   "execution_count": null,
   "id": "6bcdc486",
   "metadata": {},
   "outputs": [],
   "source": [
    "len(meu_dicionario) # Saída: 3"
   ]
  },
  {
   "cell_type": "markdown",
   "id": "f49f221e",
   "metadata": {},
   "source": [
    "\n",
    "Após a inicialização, podemos modificar e/ou expandir o conteúdo de um dicionário, através da atribuição direta de novos valores às chaves existentes ou da introdução de novas chaves com seus respectivos valores. \n",
    "\n",
    "Por exemplo, o código abaixo modifica o valor da chave `\"idade\"` (originalmente, 25) para 26:"
   ]
  },
  {
   "cell_type": "code",
   "execution_count": null,
   "id": "c2f169e9",
   "metadata": {},
   "outputs": [],
   "source": [
    "meu_dicionario[\"idade\"] = 26  # Modifica\n",
    "meu_dicionario"
   ]
  },
  {
   "cell_type": "markdown",
   "id": "b34615b8",
   "metadata": {},
   "source": [
    "Para adicionar um novo item (um novo par chave-valor), basta atribuir um valor à uma nova chave no dicionário:"
   ]
  },
  {
   "cell_type": "code",
   "execution_count": null,
   "id": "924f991d",
   "metadata": {},
   "outputs": [],
   "source": [
    "meu_dicionario[\"profissao\"] = \"Médica\" # Adiciona novo item\n",
    "meu_dicionario"
   ]
  },
  {
   "cell_type": "markdown",
   "id": "e66238a0",
   "metadata": {},
   "source": [
    "**Removendo items**: Python oferece diversas maneiras de realizar a remoção de itens em dicionários. Veremos 3 opções a seguir: `del`, `pop()` e `clear()`.\n",
    "\n",
    "Usando a operação `del` permite remover um item do dicionário especificando sua chave. Essa operação modifica o dicionário diretamente, removendo a entrada correspondente: "
   ]
  },
  {
   "cell_type": "code",
   "execution_count": null,
   "id": "a2dc5f08",
   "metadata": {},
   "outputs": [],
   "source": [
    "del meu_dicionario[\"cidade\"] # Remove o item referente à chave \"cidade\"\n",
    "meu_dicionario"
   ]
  },
  {
   "cell_type": "markdown",
   "id": "46b6fde5",
   "metadata": {},
   "source": [
    "Note que executar a operação `del` em uma chave que já foi removida ou que não existe lança um `KeyError`:"
   ]
  },
  {
   "cell_type": "code",
   "execution_count": null,
   "id": "e2779c49",
   "metadata": {},
   "outputs": [],
   "source": [
    "del meu_dicionario[\"cidade\"] # Lança um erro ao tentar remover item inexistente\n",
    "meu_dicionario "
   ]
  },
  {
   "cell_type": "markdown",
   "id": "b530b136",
   "metadata": {},
   "source": [
    "Alternativamente, o método `pop()` remove a chave especificada e retorna o valor associado a ela. Essa abordagem é útil quando você precisa tanto remover a chave quanto obter o valor que estava armazenado: "
   ]
  },
  {
   "cell_type": "code",
   "execution_count": null,
   "id": "7046b943",
   "metadata": {},
   "outputs": [],
   "source": [
    "profissao = meu_dicionario.pop(\"profissao\")\n",
    "profissao"
   ]
  },
  {
   "cell_type": "markdown",
   "id": "f630e642",
   "metadata": {},
   "source": [
    "Finalmente, para remover todos os itens do dicionário de forma imediata, utilizamos o método `clear()`:"
   ]
  },
  {
   "cell_type": "code",
   "execution_count": null,
   "id": "d99ee3b7",
   "metadata": {},
   "outputs": [],
   "source": [
    "meu_dicionario.clear()\n",
    "meu_dicionario"
   ]
  },
  {
   "cell_type": "markdown",
   "id": "b9e8d4fc",
   "metadata": {},
   "source": [
    "## Percorrendo um Dicionário em um Loop\n",
    "\n",
    "A capacidade de iterar sobre os elementos de um dicionário é muito importante para processar e manipular seus dados. Python oferece diversas maneiras de percorrer um dicionário, permitindo que você acesse tanto as chaves quanto os valores, ou ambos.\n",
    "\n",
    "Vamos criar um novo dicionário para percorrê-lo utilizando um loop `for`:"
   ]
  },
  {
   "cell_type": "code",
   "execution_count": null,
   "id": "8b48055a",
   "metadata": {},
   "outputs": [],
   "source": [
    "star_wars = {\n",
    "    \"titulo\": \"Star Wars: Uma Nova Esperança\",\n",
    "    \"ano_lancamento\": 1977,\n",
    "    \"diretor\": \"George Lucas\",\n",
    "    \"atores\": [\"Mark Hamill\", \"Harrison Ford\", \"Carrie Fisher\"],\n",
    "    \"genero\": [\"Aventura\", \"Ficção Científica\", \"Fantasia\"],\n",
    "    \"sinopse\": \"Em uma galáxia muito, muito distante...\",\n",
    "    \"avaliacao_imdb\": 8.7,\n",
    "    \"musica_tema\": \"The Imperial March\"\n",
    "}"
   ]
  },
  {
   "cell_type": "markdown",
   "id": "6bf194fe",
   "metadata": {},
   "source": [
    "\n",
    "**Percorrendo Chaves:** O método `keys()` retorna uma \"view\" das chaves do dicionário, que pode ser iterada diretamente em um loop `for`. Isso permite acessar cada chave individualmente para realizar operações específicas."
   ]
  },
  {
   "cell_type": "code",
   "execution_count": null,
   "id": "869689b7",
   "metadata": {},
   "outputs": [],
   "source": [
    "for k in star_wars.keys():\n",
    "    print(k)"
   ]
  },
  {
   "cell_type": "markdown",
   "id": "5bae65d0",
   "metadata": {},
   "source": [
    "**Percorrendo Valores:** De forma similar, o método `values()` retorna uma \"view\" dos valores do dicionário, permitindo a iteração e processamento de cada valor sem acesso à chave correspondente."
   ]
  },
  {
   "cell_type": "code",
   "execution_count": null,
   "id": "73ebee23",
   "metadata": {},
   "outputs": [],
   "source": [
    "for v in star_wars.values():\n",
    "    print(v)"
   ]
  },
  {
   "cell_type": "markdown",
   "id": "59fbe502",
   "metadata": {},
   "source": [
    "**Percorrendo Chave e Valor:** Para acessar tanto a chave quanto o valor simultaneamente, o método `items()` é utilizado. Ele retorna uma \"view\" dos pares chave-valor como tuplas, que podem ser desempacotadas diretamente no loop `for`, facilitando a manipulação de ambos os elementos em conjunto. A utilização do f-string (f\"{chave}: {valor}\") permite formatar a saída para melhor legibilidade."
   ]
  },
  {
   "cell_type": "code",
   "execution_count": null,
   "id": "289d081e",
   "metadata": {},
   "outputs": [],
   "source": [
    "for k, v in star_wars.items():\n",
    "    print(f\"{k} -> {v}\")"
   ]
  },
  {
   "cell_type": "markdown",
   "id": "abedf1cf",
   "metadata": {},
   "source": [
    "## Dicionários Contendo Tipos de Dados Complexos\n",
    "\n",
    "Até agora, exploramos dicionários onde os valores eram geralmente simples: strings ou números. No entanto, a verdadeira flexibilidade dos dicionários em Python reside na sua capacidade de armazenar valores de tipos de dados mais complexos. Nesta seção, vamos introduzir um dicionário que demonstra essa capacidade, contendo valores como listas e outros dicionários aninhados.\n",
    "\n",
    "Você pode representar estruturas de dados muito mais sofisticadas dentro de um único dicionário. Por exemplo, podemos ter um dicionário que representa uma coleção de produtos, onde cada produto é representado por um dicionário interno com informações detalhadas (nome, preço, características) e a coleção inteira é armazenada em uma lista de dicionários."
   ]
  },
  {
   "cell_type": "code",
   "execution_count": null,
   "id": "a96c95f5",
   "metadata": {},
   "outputs": [],
   "source": [
    "produto_exemplo = {\n",
    "    \"id\": \"PROD001\",\n",
    "    \"nome\": \"Smartphone XYZ\",\n",
    "    \"preco\": 999.99,\n",
    "    \"caracteristicas\": [\"Câmera de 12MP\", \"Tela AMOLED\", \"8GB RAM\"],\n",
    "    \"detalhes\": {\n",
    "        \"fabricante\": \"TechCorp\",\n",
    "        \"modelo\": \"XYZ-2023\",\n",
    "        \"garantia\": \"1 ano\"\n",
    "    }\n",
    "}"
   ]
  },
  {
   "cell_type": "markdown",
   "id": "b44e1d4a",
   "metadata": {},
   "source": [
    "\n",
    "Observe como o valor associado à chave `\"caracteristicas\"` é uma lista, e o valor associado à chave `\"detalhes\"` é outro dicionário. Isso ilustra a capacidade de um dicionário armazenar estruturas de dados hierárquicas e complexas, permitindo representar informações mais ricas e organizadas. A próxima etapa será explorar como acessar e manipular esses valores complexos dentro do dicionário."
   ]
  },
  {
   "cell_type": "markdown",
   "id": "c8065f65",
   "metadata": {},
   "source": [
    "Vamos realizar algumas operações neste dicionário mais complexo:"
   ]
  },
  {
   "cell_type": "code",
   "execution_count": null,
   "id": "1d31fb21",
   "metadata": {},
   "outputs": [],
   "source": [
    "# Acessando valores:\n",
    "print(f\"ID do produto: {produto_exemplo['id']}\")\n",
    "print(f\"Preço: {produto_exemplo['preco']}\")\n",
    "\n",
    "# Acessando elementos dentro de uma lista:\n",
    "print(f\"Primeira característica: {produto_exemplo['caracteristicas'][0]}\")\n",
    "\n",
    "# Acessando informações detalhadas sobre o fabricante:\n",
    "print(f\"Fabricante: {produto_exemplo['detalhes']['fabricante']}\")"
   ]
  },
  {
   "cell_type": "markdown",
   "id": "9d5d41c6",
   "metadata": {},
   "source": [
    "Note que podemos adicionar uma nova característica à lista de características apenas referenciando-a com usa chave correspondente:"
   ]
  },
  {
   "cell_type": "code",
   "execution_count": null,
   "id": "f297f918",
   "metadata": {},
   "outputs": [],
   "source": [
    "# Adicionando uma nova característica à lista:\n",
    "produto_exemplo['caracteristicas'].append(\"Bateria de Longa Duração\")\n",
    "produto_exemplo['caracteristicas']"
   ]
  },
  {
   "cell_type": "markdown",
   "id": "ec0f5f9d",
   "metadata": {},
   "source": [
    "De forma similar, podemos modificar a duração da garantia no dicionário aninhado de `detalhes`:"
   ]
  },
  {
   "cell_type": "code",
   "execution_count": null,
   "id": "5cf7822a",
   "metadata": {},
   "outputs": [],
   "source": [
    "# Modificando a garantia:\n",
    "produto_exemplo['detalhes']['garantia'] = \"2 anos\"\n",
    "produto_exemplo['detalhes']"
   ]
  },
  {
   "cell_type": "markdown",
   "id": "e0119199",
   "metadata": {},
   "source": [
    "**Pergunta**: Como você faria para imprimir todas as informações do dicionário `produto_exemplo`, exceto o valor associado à chave `\"preco\"`?"
   ]
  },
  {
   "cell_type": "markdown",
   "id": "b8461328",
   "metadata": {
    "vscode": {
     "languageId": "plaintext"
    }
   },
   "source": [
    "## Onde Usar Dicionários\n",
    "\n",
    "Alguns exemplos de usos de dicionários em casos reais são:\n",
    "\n",
    "- **Configurações de Aplicação:** Armazenar configurações (ex: nome do banco de dados e seu endereço de acesso).\n",
    "- **Mapear dados**: RA para nome dos alunos, nomes de produtos para seus respectivos preços etc.\n",
    "- **Trabalhar com APIs**: Manipular dados estruturados em formato JSON."
   ]
  },
  {
   "cell_type": "markdown",
   "id": "c4a9d1e4",
   "metadata": {},
   "source": [
    "---\n",
    "\n",
    "## **Exercícios para Praticar**: \n",
    "\n",
    "**1. Contador de Palavras:**\n",
    "*   **Objetivo:** Criar um programa que conte a frequência de cada palavra em uma string fornecida pelo usuário.\n",
    "*   **Instruções:**\n",
    "    *   Solicite ao usuário que insira uma frase ou parágrafo.\n",
    "    *   Converta a frase para minúsculas e remova pontuações (você pode usar expressões regulares para isso).\n",
    "    *   Use um dicionário para armazenar a contagem de cada palavra.\n",
    "    *   Itere sobre as palavras da frase e atualize o contador no dicionário.\n",
    "    *   Imprima o dicionário resultante, mostrando a frequência de cada palavra.\n",
    "\n",
    "**2. Criador de Um Dicionário de Frequências:**\n",
    "*   **Objetivo:** Criar um programa que recebe uma lista de números como entrada e gera um dicionário onde as chaves são os números da lista e os valores são suas respectivas frequências.\n",
    "*   **Instruções:**\n",
    "    *   Solicite ao usuário que insira uma lista de números separados por espaços.\n",
    "    *   Converta a string em uma lista de inteiros ou floats.\n",
    "    *   Use um dicionário para armazenar as frequências dos números.\n",
    "    *   Itere sobre a lista e, para cada número, incremente sua contagem no dicionário.\n",
    "    *   Imprima o dicionário resultante.\n",
    "\n",
    "**3. Dicionário de Produtos:**\n",
    "*   **Objetivo:** Simular um sistema simples de gerenciamento de produtos usando um dicionário.\n",
    "*   **Instruções:**\n",
    "    *   Crie um dicionário onde as chaves são os nomes dos produtos (strings) e os valores são dicionários contendo informações sobre cada produto, como preço, quantidade em estoque e categoria, conforme o exemplo abaixo:\n",
    "    ```python\n",
    "        produtos = {\n",
    "            \"Camiseta\": {\n",
    "                \"preco\": 29.99,\n",
    "                \"quantidade_em_estoque\": 50,\n",
    "                \"categoria\": \"Vestuário\"\n",
    "            },\n",
    "            \"Calça Jeans\": {\n",
    "                \"preco\": 79.99,\n",
    "                \"quantidade_em_estoque\": 30,\n",
    "                \"categoria\": \"Vestuário\"\n",
    "            },\n",
    "            \"Livro Python para Iniciantes\": {\n",
    "                \"preco\": 45.50,\n",
    "                \"quantidade_em_estoque\": 20,\n",
    "                \"categoria\": \"Livros\"\n",
    "            },\n",
    "        }\n",
    "    ```\n",
    "    *   Implemente funções para:\n",
    "        *   Adicionar um novo produto ao dicionário.\n",
    "        *   Atualizar o preço ou a quantidade de um produto existente.\n",
    "        *   Remover um produto do dicionário.\n",
    "        *   Buscar informações sobre um produto específico.\n",
    "        *   Listar todos os produtos no dicionário.\n"
   ]
  },
  {
   "cell_type": "markdown",
   "id": "c56f62ad",
   "metadata": {},
   "source": [
    "---\n",
    "\n",
    "## Conclusão  \n",
    "\n",
    "### O que aprendemos hoje?  \n",
    "\n",
    "- Dicionários são estruturas essenciais para associar informações de forma organizada.\n",
    "- Permitem buscas rápidas e operações eficientes com dados nomeados.\n",
    "- Dominar dicionários é fundamental para trabalhar com dados reais e APIs.\n",
    "\n",
    "### Próximos Passos  \n",
    "- Resolva os problemas na seção \"Exercícios para Praticar\".\n",
    "- Entenda a relação entre dicionários em Python e [Hash maps/tables](https://en.wikipedia.org/wiki/Hash_table)"
   ]
  }
 ],
 "metadata": {
  "kernelspec": {
   "display_name": "base",
   "language": "python",
   "name": "python3"
  },
  "language_info": {
   "codemirror_mode": {
    "name": "ipython",
    "version": 3
   },
   "file_extension": ".py",
   "mimetype": "text/x-python",
   "name": "python",
   "nbconvert_exporter": "python",
   "pygments_lexer": "ipython3",
   "version": "3.11.7"
  }
 },
 "nbformat": 4,
 "nbformat_minor": 5
}
