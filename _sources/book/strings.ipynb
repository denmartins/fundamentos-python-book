{
 "cells": [
  {
   "cell_type": "markdown",
   "metadata": {
    "jp-MarkdownHeadingCollapsed": true
   },
   "source": [
    "# Manipulação de Strings\n",
    "---\n",
    "\n",
    "As strings são um dos tipos de dados fundamentais em Python e representam sequências de caracteres. Elas são amplamente utilizadas na programação para armazenar, processar e formatar textos, sendo essenciais para tarefas como entrada de dados, exibição de informações e manipulação textual em arquivos, bancos de dados e aplicações web.\n",
    "\n",
    "Em Python, uma string pode ser definida usando aspas simples (`'...'`), aspas duplas (`\"...\"`) ou triplas (`'''...'''` ou `\"\"\"...\"\"\"`) para textos de múltiplas linhas. Além disso, a linguagem fornece uma variedade de métodos embutidos e operações que permitem modificar, pesquisar e transformar strings de maneira eficiente.\n",
    "\n",
    "\n",
    "**O que veremos?**\n",
    "\n",
    "- Como criar e acessar strings em Python.\n",
    "- Como utilizar fatiamento (slicing) para extrair partes de uma string.\n",
    "- Métodos úteis para modificar e formatar strings.\n",
    "- Como utilizar operações com strings (concatenação, repetição, substituição).\n",
    "- Como percorrer uma string com loops e realizar buscas com expressões regulares.\n",
    "\n",
    "**Objetivos de Aprendizagem**\n",
    "\n",
    "Ao final desta aula, você será capaz de:\n",
    "\n",
    "- Compreender os conceitos fundamentais de strings em Python.  \n",
    "- Acessar e manipular substrings utilizando indexação, fatiamento e métodos de formatação. \n",
    "- Percorrer strings e buscar informações.\n",
    "\n",
    "---"
   ]
  },
  {
   "cell_type": "markdown",
   "metadata": {},
   "source": [
    "## Conceitos Fundamentais\n",
    "\n",
    "No contexto da programação, uma string é uma estrutura de dados fundamental utilizada para representar e manipular sequências de caracteres. Em Python, as strings são objetos da classe str e podem ser definidas utilizando aspas simples ('...'), aspas duplas (\"...\") ou triplas ('''...''' ou \"\"\"...\"\"\"), permitindo a criação de textos de uma única linha ou múltiplas linhas"
   ]
  },
  {
   "cell_type": "code",
   "execution_count": null,
   "metadata": {},
   "outputs": [],
   "source": [
    "empty_string = \"\"\n",
    "print(empty_string)"
   ]
  },
  {
   "cell_type": "code",
   "execution_count": null,
   "metadata": {},
   "outputs": [],
   "source": [
    "greetings = \"Hi! My name is Snake. I have 15 years old.\"\n",
    "print(greetings)"
   ]
  },
  {
   "cell_type": "code",
   "execution_count": 56,
   "metadata": {},
   "outputs": [],
   "source": [
    "# Verifique o comprimento da string"
   ]
  },
  {
   "cell_type": "markdown",
   "metadata": {},
   "source": [
    "## Indexação de Strings em Python\n",
    "\n",
    "Indexação é uma técnica fundamental ao lidar com strings em Python. Ela \n",
    "permite acessar ou modificar individualmente os caracteres dentro de uma \n",
    "string. No contexto das strings, o termo \"index\" se refere à posição do \n",
    "caractere dentro da sequência.\n",
    "\n",
    "A sintaxe básica para indexação de strings em Python é: `string[index]`, onde `string` é a string que você deseja trabalhar e `index` é a posição do caractere que você gostaria de acessar. A contagem dos índices começa \n",
    "em 0, o que significa que o primeiro caractere da string tem um índice de 0."
   ]
  },
  {
   "cell_type": "code",
   "execution_count": null,
   "metadata": {},
   "outputs": [],
   "source": [
    "comedy = \"Monty Python\""
   ]
  },
  {
   "cell_type": "markdown",
   "metadata": {},
   "source": [
    "```txt\n",
    "            +---+---+---+---+---+---+\n",
    "   texto -> | P | y | t | h | o | n |\n",
    "            +---+---+---+---+---+---+\n",
    "              0   1   2   3   4   5    (Índices Positivos)\n",
    "            -------------------------\n",
    "             -6  -5  -4  -3  -2  -1    (Índices Negativos)\n",
    "```"
   ]
  },
  {
   "cell_type": "code",
   "execution_count": null,
   "metadata": {},
   "outputs": [],
   "source": [
    "# Exemplos de indexação"
   ]
  },
  {
   "cell_type": "markdown",
   "metadata": {},
   "source": [
    "## Slicing em Strings: Cortando e Manuseando Seções\n",
    "\n",
    "O conceito de \"slicing\" (ou corte) é uma ferramenta poderosa em \n",
    "programação, especialmente quando lidamos com sequências de dados como \n",
    "strings. Em Python, a operação de slicing permite que você extraia ou \n",
    "modifique partes específicas da string sem ter que trabalhar com todos os \n",
    "caracteres.\n",
    "\n",
    "A sintaxe básica para o corte de strings é:\n",
    "\n",
    "```python\n",
    "string[start:stop]\n",
    "```\n",
    "\n",
    "Onde `start` e `stop` são índices, definindo a parte da string que você \n",
    "deseja extrair. Os seguintes valores podem ser usados:\n",
    "\n",
    "- **start**: O índice do caractere inicial que deseja extrair. Se omitido, \n",
    "o corte inicia automaticamente na posição 0 (o primeiro caractere).\n",
    "- **stop**: O índice do caractere final a ser incluído no corte. Se \n",
    "omitido, o corte continua até o fim da string.\n",
    "\n"
   ]
  },
  {
   "cell_type": "code",
   "execution_count": null,
   "metadata": {},
   "outputs": [],
   "source": [
    "# Exemplo de slicing"
   ]
  },
  {
   "cell_type": "markdown",
   "metadata": {},
   "source": [
    "**Exercício 1**:\n",
    "\n",
    "1. Obtenha os caracteres \"y\", \"t\", \"h\" da string \"Python\".\n",
    "1. Use slicing para extrair apenas os últimos 4 caracteres de uma string passada pelo usuário."
   ]
  },
  {
   "cell_type": "code",
   "execution_count": null,
   "metadata": {},
   "outputs": [],
   "source": [
    "# Adicione sua solução aqui"
   ]
  },
  {
   "cell_type": "markdown",
   "metadata": {},
   "source": [
    "## Métodos de Manipulação de Strings\n",
    "\n",
    "As strings são imutáveis, o que significa que, uma vez criadas, seus valores não podem ser modificados diretamente. No entanto, Python oferece uma ampla variedade de métodos embutidos que possibilitam a manipulação eficiente dessas estruturas, como a conversão de maiúsculas para minúsculas, substituição de caracteres, extração de substrings, concatenação e formatação."
   ]
  },
  {
   "cell_type": "code",
   "execution_count": 48,
   "metadata": {},
   "outputs": [
    {
     "ename": "TypeError",
     "evalue": "'str' object does not support item assignment",
     "output_type": "error",
     "traceback": [
      "\u001b[0;31m---------------------------------------------------------------------------\u001b[0m",
      "\u001b[0;31mTypeError\u001b[0m                                 Traceback (most recent call last)",
      "Cell \u001b[0;32mIn[48], line 2\u001b[0m\n\u001b[1;32m      1\u001b[0m frase \u001b[38;5;241m=\u001b[39m \u001b[38;5;124m\"\u001b[39m\u001b[38;5;124mPython\u001b[39m\u001b[38;5;124m\"\u001b[39m\n\u001b[0;32m----> 2\u001b[0m frase[\u001b[38;5;241m0\u001b[39m] \u001b[38;5;241m=\u001b[39m \u001b[38;5;124m'\u001b[39m\u001b[38;5;124mJ\u001b[39m\u001b[38;5;124m'\u001b[39m\n\u001b[1;32m      3\u001b[0m \u001b[38;5;28mprint\u001b[39m(frase)\n",
      "\u001b[0;31mTypeError\u001b[0m: 'str' object does not support item assignment"
     ]
    }
   ],
   "source": [
    "frase = \"Python\"\n",
    "frase[0] = 'J'\n",
    "print(frase)  # Saída: Jython"
   ]
  },
  {
   "cell_type": "markdown",
   "metadata": {},
   "source": [
    "### **upper()** e **lower()**\n",
    "\n",
    "- **upper()**: Retorna a string em maiúsculas.\n",
    "- **lower()**: Retorna a string em minúsculas."
   ]
  },
  {
   "cell_type": "code",
   "execution_count": null,
   "metadata": {},
   "outputs": [],
   "source": [
    "print(greetings.lower())"
   ]
  },
  {
   "cell_type": "code",
   "execution_count": null,
   "metadata": {},
   "outputs": [],
   "source": [
    "print(greetings.upper())"
   ]
  },
  {
   "cell_type": "code",
   "execution_count": null,
   "metadata": {},
   "outputs": [],
   "source": [
    "print(greetings.capitalize())"
   ]
  },
  {
   "cell_type": "code",
   "execution_count": null,
   "metadata": {},
   "outputs": [],
   "source": [
    "print(greetings.title())"
   ]
  },
  {
   "cell_type": "markdown",
   "metadata": {},
   "source": [
    "### **strip()**, **lstrip()** e **rstrip()**\n",
    "\n",
    "- **strip([chars])**: Remove caracteres de ambos os lados (padrão é espaço \n",
    "em branco).\n",
    "- **lstrip([chars])**: Remove caracteres da esquerda.\n",
    "- **rstrip([chars])**: Remove caracteres da direita."
   ]
  },
  {
   "cell_type": "code",
   "execution_count": null,
   "metadata": {},
   "outputs": [],
   "source": [
    "frase = '   Minha frase   '\n",
    "print(frase.strip())  # Minha frase"
   ]
  },
  {
   "cell_type": "markdown",
   "metadata": {},
   "source": [
    "## Operações com Strings\n"
   ]
  },
  {
   "cell_type": "markdown",
   "metadata": {},
   "source": [
    "As operações básicas com strings são fundamentais para qualquer tipo de \n",
    "manipulação de texto em Python. Aqui estão duas dessas operações \n",
    "essenciais: concatenação e repetição."
   ]
  },
  {
   "cell_type": "markdown",
   "metadata": {},
   "source": [
    "### **Concatenação de Strings (+)**\n",
    "\n",
    "A concatenação é o processo de juntar duas ou mais strings para formar uma \n",
    "única string. Em Python, você pode usar o operador `+` para concatenar \n",
    "strings. Aqui está um exemplo simples:"
   ]
  },
  {
   "cell_type": "code",
   "execution_count": null,
   "metadata": {},
   "outputs": [],
   "source": [
    "nome = 'João'\n",
    "sobrenome = 'Silva'\n",
    "\n",
    "nome_completo = nome + ' ' + sobrenome\n",
    "\n",
    "print(nome_completo)  # Saída: João Silva"
   ]
  },
  {
   "cell_type": "markdown",
   "metadata": {},
   "source": [
    "### Repetição de Strings (*)\n",
    "\n",
    "Outra operação importante é a repetição de strings. Você pode usar o \n",
    "operador `*` para multiplicar uma string por um número inteiro. Aqui está \n",
    "como fazer isso:"
   ]
  },
  {
   "cell_type": "code",
   "execution_count": null,
   "metadata": {},
   "outputs": [],
   "source": [
    "frase = 'Python'\n",
    "repeticao = frase * 3\n",
    "\n",
    "print(repeticao)  # Saída: PythonPythonPython"
   ]
  },
  {
   "cell_type": "markdown",
   "metadata": {
    "jp-MarkdownHeadingCollapsed": true
   },
   "source": [
    "**Exercício 2**: Faça um programa que concatene o nome, a idade, o RG, o CPF e a cidade do usuário. As informações do usuário devem ser obtidas pela função `input()`"
   ]
  },
  {
   "cell_type": "code",
   "execution_count": null,
   "metadata": {},
   "outputs": [],
   "source": [
    "# Adicione sua solução aqui"
   ]
  },
  {
   "cell_type": "markdown",
   "metadata": {},
   "source": [
    "### split() e join()\n",
    "\n",
    "- **split([sep])**: Divide a string em um lista de sub-strings, baseado no \n",
    "separador (padrão é espaço em branco).\n",
    "- **join(iterable)**: Combina uma lista de strings em uma única string.\n",
    "\n"
   ]
  },
  {
   "cell_type": "code",
   "execution_count": null,
   "metadata": {},
   "outputs": [],
   "source": [
    "nome = 'João,Silva'\n",
    "print(nome.split(','))  # ['João', 'Silva']"
   ]
  },
  {
   "cell_type": "code",
   "execution_count": null,
   "metadata": {},
   "outputs": [],
   "source": [
    "# Split name from email address\n",
    "username = 'user@mail.com'\n"
   ]
  },
  {
   "cell_type": "code",
   "execution_count": null,
   "metadata": {},
   "outputs": [],
   "source": [
    "nomes = ['João', 'Maria']\n",
    "print(','.join(nomes))  # João,Maria"
   ]
  },
  {
   "cell_type": "code",
   "execution_count": null,
   "metadata": {},
   "outputs": [],
   "source": [
    "# Join nome e email\n",
    "username = ['user', 'mail.com']\n"
   ]
  },
  {
   "cell_type": "code",
   "execution_count": null,
   "metadata": {},
   "outputs": [],
   "source": [
    "colors = ['red', 'green', 'blue', 'yellow', 'white', 'black']\n"
   ]
  },
  {
   "cell_type": "markdown",
   "metadata": {},
   "source": [
    "### splitlines()\n",
    "\n",
    "**splitlines()**: Divide a string em um lista, considerando cada linha \n",
    "como uma sub-string."
   ]
  },
  {
   "cell_type": "code",
   "execution_count": null,
   "metadata": {},
   "outputs": [],
   "source": [
    "frase = 'Linha 1\\nLinha 2'\n",
    "print(frase.splitlines())"
   ]
  },
  {
   "cell_type": "code",
   "execution_count": null,
   "metadata": {},
   "outputs": [],
   "source": [
    "linhas = ['Linha 1', 'Linha 2']\n",
    "print('\\n'.join(linhas))"
   ]
  },
  {
   "cell_type": "markdown",
   "metadata": {},
   "source": [
    "### replace()\n",
    "\n",
    "**replace(old, new)**: Substitui a ocorrência da string `old` por `new`.\n",
    "\n",
    "**Strings são imutáveis**, o que significa que, uma vez criadas, seus valores não podem ser modificados diretamente."
   ]
  },
  {
   "cell_type": "code",
   "execution_count": null,
   "metadata": {},
   "outputs": [],
   "source": [
    "frase = 'Eu não gosto de chocolate.'\n",
    "print(frase.replace('chocolate', 'mel'))  # Eu não gosto de mel."
   ]
  },
  {
   "cell_type": "markdown",
   "metadata": {},
   "source": [
    "### find()\n",
    "\n",
    "O método `find()` é uma ferramenta poderosa em Python para localizar a \n",
    "primeira ocorrência de um caractere ou substring dentro de outra string.\n"
   ]
  },
  {
   "cell_type": "code",
   "execution_count": null,
   "metadata": {},
   "outputs": [],
   "source": [
    "frase = 'Python é incrível.'\n",
    "\n",
    "# Encontrar a primeira ocorrência da letra \"P\"\n",
    "posicao_p = frase.find('P')\n",
    "if posicao_p != -1:\n",
    "    print(f'A letra \"P\" foi encontrada na posição {posicao_p}.')\n",
    "else:\n",
    "    print('A letra \"P\" não foi encontrada.')"
   ]
  },
  {
   "cell_type": "markdown",
   "metadata": {},
   "source": [
    "## f-Strings"
   ]
  },
  {
   "cell_type": "markdown",
   "metadata": {},
   "source": [
    "Em Python 3.6+, você pode usar a sintaxe chamada \"f-string\" ou \"formatted \n",
    "string literal\" para criar strings formatadas de forma fácil e elegante. \n",
    "Aqui está uma visão geral rápida desta ferramenta poderosa!\n",
    "\n",
    "Para utilizar f-strings, você envolve o texto com aspas, \n",
    "segue por um caractere especial `f`, e então você pode usar a sintaxe de \n",
    "formato usual para especificar os valores dos dados."
   ]
  },
  {
   "cell_type": "code",
   "execution_count": null,
   "metadata": {},
   "outputs": [],
   "source": [
    "nome = 'João'\n",
    "idade = 25\n",
    "print(f\"Olá, meu nome é {nome} e tenho {idade} anos.\")"
   ]
  },
  {
   "cell_type": "code",
   "execution_count": null,
   "metadata": {},
   "outputs": [],
   "source": [
    "pi = 3.14159265359\n",
    "print(f'O valor aproximado de pi é {int(pi)}.')"
   ]
  },
  {
   "cell_type": "markdown",
   "metadata": {},
   "source": [
    "**Exercício 3**: Refaça o exercício 2 usando f-strings."
   ]
  },
  {
   "cell_type": "code",
   "execution_count": null,
   "metadata": {},
   "outputs": [],
   "source": [
    "# Adicione sua solução aqui"
   ]
  },
  {
   "cell_type": "markdown",
   "metadata": {},
   "source": [
    "## Percorrendo Strings com Loops\n",
    "\n",
    "Você pode usar um loop `for` para percorrer cada caractere de \n",
    "uma string. Este método é útil quando precisamos manipular ou processar \n",
    "individualmente cada elemento da string.\n",
    "\n",
    "- Iterando sobre uma string com for.\n",
    "- Contando caracteres específicos.\n",
    "- Construção de novas strings com loops."
   ]
  },
  {
   "cell_type": "code",
   "execution_count": null,
   "metadata": {},
   "outputs": [],
   "source": [
    "frase = 'Python é incrível.'\n",
    "\n",
    "for caractere in frase:\n",
    "    print(caractere)"
   ]
  },
  {
   "cell_type": "markdown",
   "metadata": {},
   "source": [
    "**Processando strings**: Se você quiser manipular ou processar os caracteres de alguma forma \n",
    "específica enquanto percorre a string, pode fazer isso dentro do bloco de \n",
    "código executado no loop. Aqui está um exemplo que capitaliza cada \n",
    "palavra:\n"
   ]
  },
  {
   "cell_type": "code",
   "execution_count": null,
   "metadata": {},
   "outputs": [],
   "source": [
    "frase = 'Python é incrível.'\n",
    "\n",
    "nova_frase = ''\n",
    "for caractere in frase:\n",
    "    if caractere == ' ':\n",
    "        nova_frase += caractere\n",
    "    else:\n",
    "        nova_frase += caractere.upper()\n",
    "\n",
    "print(nova_frase)"
   ]
  },
  {
   "cell_type": "code",
   "execution_count": null,
   "metadata": {},
   "outputs": [],
   "source": [
    "# Exemplo (atividade do notebook anterior): loop `for` e um comando `if`\n",
    "frase = 'Python é incrível.'\n",
    "\n",
    "contagem_vogais = 0\n",
    "contagem_consoantes = 0\n",
    "\n",
    "for caractere in frase:\n",
    "    if caractere.lower() == 'a':\n",
    "        contagem_vogais += 1\n",
    "    elif caractere.lower() == 'e':\n",
    "        contagem_vogais += 1\n",
    "    elif caractere.lower() == 'i':\n",
    "        contagem_vogais += 1\n",
    "    else:\n",
    "        contagem_consoantes += 1\n",
    "\n",
    "print(f'Quantidade de vogais: {contagem_vogais}')\n",
    "print(f'Quantidade de consoantes: {contagem_consoantes}')"
   ]
  },
  {
   "cell_type": "markdown",
   "metadata": {},
   "source": [
    "---\n",
    "\n",
    "## Exercícios para Praticar\n",
    "\n",
    "1. **Nível Fácil**: Escreva um programa que recebe uma string do usuário e verifica se a string é um palíndromo. Palíndromo é toda palavra ou frase que pode ser lida de trás para frente e que, independente da direção, mantém o seu sentido. Exemplos: \n",
    "- Ada\n",
    "- Ana\n",
    "- Missa é assim.\n",
    "- O lobo ama o bolo.\n",
    "\n",
    "A verificação deve ignorar \"case\", ou seja, letras maiúsculas e minúsculas.\n",
    "\n",
    "2. **Nível Médio**: Escreva um programa que recebe uma string do usuário e encontra a palavra mais frequente nessa string. Use apenas as funcionalidades básicas de strings e loops em Python, conforme visto até esta aula. \n"
   ]
  },
  {
   "cell_type": "markdown",
   "metadata": {
    "id": "wZ2HQC9ipXSy"
   },
   "source": [
    "---\n",
    "\n",
    "## Conclusão  \n",
    "\n",
    "### O que aprendemos hoje?  \n",
    "\n",
    "Nesta aula, exploramos os principais conceitos e técnicas para manipulação de strings em Python. Aprendemos como criar, acessar e modificar strings utilizando diferentes métodos e abordagens, além de compreender a importância das strings na programação e em aplicações do mundo real.\n",
    "\n",
    "### Próximos Passos  \n",
    "\n",
    "- Resolva os problemas na seção \"Exercícios para Praticar\".\n",
    "- Experimentar diferentes abordagens para formatação e substituição de strings (de entrada do usuário)"
   ]
  },
  {
   "cell_type": "markdown",
   "metadata": {},
   "source": []
  }
 ],
 "metadata": {
  "colab": {
   "provenance": []
  },
  "kernelspec": {
   "display_name": "Python [conda env:base] *",
   "language": "python",
   "name": "conda-base-py"
  },
  "language_info": {
   "codemirror_mode": {
    "name": "ipython",
    "version": 3
   },
   "file_extension": ".py",
   "mimetype": "text/x-python",
   "name": "python",
   "nbconvert_exporter": "python",
   "pygments_lexer": "ipython3",
   "version": "3.11.7"
  }
 },
 "nbformat": 4,
 "nbformat_minor": 4
}
