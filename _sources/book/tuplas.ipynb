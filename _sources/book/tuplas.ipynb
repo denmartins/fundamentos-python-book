{
 "cells": [
  {
   "cell_type": "markdown",
   "id": "13110383",
   "metadata": {},
   "source": [
    "# Tuplas em Python\n",
    "---\n",
    "\n",
    "\n",
    "## Objetivos de Aprendizagem\n",
    "\n",
    "- Ser capaz de definir corretamente uma tupla em Python, incluindo a criação de tuplas vazias e com um único elemento (compreendendo a importância da vírgula).\n",
    "- Demonstrar compreensão do conceito de imutabilidade das tuplas e suas implicações.\n",
    "- Compreender a descompactação de valores de uma tupla em variáveis individuais para melhorar a legibilidade do código."
   ]
  },
  {
   "cell_type": "markdown",
   "id": "fb9413af",
   "metadata": {},
   "source": [
    "\n",
    "## Conceitos Fundamentais\n",
    "\n",
    "Em sua essência, uma tupla é uma sequência de itens. Pense nela como uma coleção de valores agrupados juntos sob um único nome. A grande diferença entre tuplas e listas (que já vimos) reside em um aspecto crucial: **imutabilidade**. Tuplas são imutáveis, o que significa que você não pode modificar seus elementos após a criação.\n",
    "\n",
    "**Sintaxe:** Tuplas são definidas usando parênteses `()` e os itens são separados por vírgulas."
   ]
  },
  {
   "cell_type": "code",
   "execution_count": 5,
   "id": "78fc29d2",
   "metadata": {},
   "outputs": [
    {
     "name": "stdout",
     "output_type": "stream",
     "text": [
      "()\n",
      "<class 'tuple'>\n"
     ]
    }
   ],
   "source": [
    "tupla_vazia = () # Tupla vazia\n",
    "print(tupla_vazia)\n",
    "print(type(tupla_vazia))"
   ]
  },
  {
   "cell_type": "code",
   "execution_count": 6,
   "id": "98428985",
   "metadata": {},
   "outputs": [
    {
     "name": "stdout",
     "output_type": "stream",
     "text": [
      "(1, 'Olá', 3.14)\n",
      "<class 'tuple'>\n"
     ]
    }
   ],
   "source": [
    "minha_tupla = (1, \"Olá\", 3.14)  # Uma tupla com um inteiro, uma string e um float\n",
    "print(minha_tupla)\n",
    "print(type(minha_tupla))"
   ]
  },
  {
   "cell_type": "markdown",
   "id": "2c2788ad",
   "metadata": {},
   "source": [
    "**Cuidado** ao criar uma tupla com apenas um elemento! Use uma vírgula no final para indicar explicitamente ao Python que você está criando uma tupla, mesmo que ela contenha apenas um valor:"
   ]
  },
  {
   "cell_type": "code",
   "execution_count": null,
   "id": "2bb8a6f3",
   "metadata": {},
   "outputs": [
    {
     "name": "stdout",
     "output_type": "stream",
     "text": [
      "(5,)\n",
      "<class 'tuple'>\n"
     ]
    }
   ],
   "source": [
    "tupla_unico_elemento = (5,) # Tupla com apenas um elemento - a vírgula é essencial!\n",
    "\n",
    "print(tupla_unico_elemento)\n",
    "print(type(tupla_unico_elemento))"
   ]
  },
  {
   "cell_type": "markdown",
   "id": "98b06402",
   "metadata": {},
   "source": [
    "**Sem a vírgula**, Python interpretará a expressão como um valor simples entre parênteses, e não como uma tupla:"
   ]
  },
  {
   "cell_type": "code",
   "execution_count": 8,
   "id": "16428468",
   "metadata": {},
   "outputs": [
    {
     "name": "stdout",
     "output_type": "stream",
     "text": [
      "5\n",
      "<class 'int'>\n"
     ]
    }
   ],
   "source": [
    "valor_simples = (5)\n",
    "print(valor_simples),\n",
    "print(type(valor_simples))"
   ]
  },
  {
   "cell_type": "markdown",
   "id": "ad6ffbb0",
   "metadata": {},
   "source": [
    "## Operações Básicas\n",
    "\n",
    "Embora não possamos modificar o conteúdo de uma tupla, podemos realizar diversas operações:\n",
    "\n",
    "**Acesso aos Elementos:** Assim como listas, acessamos elementos por índice (começando em 0):"
   ]
  },
  {
   "cell_type": "code",
   "execution_count": null,
   "id": "36325471",
   "metadata": {},
   "outputs": [
    {
     "name": "stdout",
     "output_type": "stream",
     "text": [
      "1\n",
      "Olá\n"
     ]
    }
   ],
   "source": [
    "minha_tupla = (1, \"Olá\", 3.14)\n",
    "print(minha_tupla[0]) # primeiro_elemento será 1\n",
    "print(minha_tupla[1])  # segundo_elemento será \"Olá\""
   ]
  },
  {
   "cell_type": "markdown",
   "id": "a1543382",
   "metadata": {},
   "source": [
    "**Slicing:** Podemos extrair partes de uma tupla usando slicing."
   ]
  },
  {
   "cell_type": "code",
   "execution_count": 10,
   "id": "801ad35b",
   "metadata": {},
   "outputs": [
    {
     "name": "stdout",
     "output_type": "stream",
     "text": [
      "(2, 3, 4)\n"
     ]
    }
   ],
   "source": [
    "minha_tupla = (1, 2, 3, 4, 5)\n",
    "print(minha_tupla[1:4])  # sub_tupla será (2, 3, 4)"
   ]
  },
  {
   "cell_type": "markdown",
   "id": "8450dd79",
   "metadata": {},
   "source": [
    "**Concatenação:** Podemos combinar duas ou mais tuplas usando o operador `+`."
   ]
  },
  {
   "cell_type": "code",
   "execution_count": null,
   "id": "addcc72e",
   "metadata": {},
   "outputs": [
    {
     "name": "stdout",
     "output_type": "stream",
     "text": [
      "(1, 2, 3, 4)\n"
     ]
    }
   ],
   "source": [
    "tupla1 = (1, 2)\n",
    "tupla2 = (3, 4)\n",
    "tupla_concatenada = tupla1 + tupla2  # Cria uma nova tupla -> tupla_concatenada será (1, 2, 3, 4)\n",
    "print(tupla_concatenada)"
   ]
  },
  {
   "cell_type": "markdown",
   "id": "abf1e955",
   "metadata": {},
   "source": [
    "**Repetição:** Podemos repetir uma tupla usando o operador `*`."
   ]
  },
  {
   "cell_type": "code",
   "execution_count": 13,
   "id": "5484a2ee",
   "metadata": {},
   "outputs": [
    {
     "name": "stdout",
     "output_type": "stream",
     "text": [
      "(1, 1, 1)\n"
     ]
    }
   ],
   "source": [
    "tupla = (1,)\n",
    "tupla_repetida = tupla * 3  # tupla_repetida será (1, 2, 1, 2, 1, 2)\n",
    "print(tupla_repetida)"
   ]
  },
  {
   "cell_type": "markdown",
   "id": "e822d6ed",
   "metadata": {},
   "source": [
    "**Funções Built-in:** `len()`, `max()`, `min()` e `sum()` também funcionam com tuplas."
   ]
  },
  {
   "cell_type": "code",
   "execution_count": null,
   "id": "6bcdc486",
   "metadata": {},
   "outputs": [],
   "source": [
    "len(meu_dicionario) # Saída: 3"
   ]
  },
  {
   "cell_type": "markdown",
   "id": "b9e8d4fc",
   "metadata": {},
   "source": [
    "## Percorrendo um Tuplas em um Loop\n",
    "\n",
    "Vamos criar uma nova tupla e percorrê-la utilizando um loop `for`:"
   ]
  },
  {
   "cell_type": "code",
   "execution_count": 15,
   "id": "289d081e",
   "metadata": {},
   "outputs": [
    {
     "name": "stdout",
     "output_type": "stream",
     "text": [
      "1\n",
      "2\n",
      "3\n",
      "4\n",
      "5\n",
      "6\n"
     ]
    }
   ],
   "source": [
    "minha_tupla = (1, 2, 3, 4, 5, 6)\n",
    "\n",
    "for x in minha_tupla:\n",
    "    print(x)"
   ]
  },
  {
   "cell_type": "markdown",
   "id": "5db0651c",
   "metadata": {},
   "source": [
    "## Funções *built-in* do Python\n",
    "\n",
    "**Exemplo 1: `len()` - Obtendo o tamanho da Tupla**\n",
    "\n",
    "A função `len()` retorna o número de elementos em uma tupla."
   ]
  },
  {
   "cell_type": "code",
   "execution_count": 20,
   "id": "b152819b",
   "metadata": {},
   "outputs": [
    {
     "name": "stdout",
     "output_type": "stream",
     "text": [
      "O tamanho da tupla é: 4\n"
     ]
    }
   ],
   "source": [
    "minha_tupla = (10, 20, 30, 40) \n",
    "print(f\"O tamanho da tupla é: {len(minha_tupla)}\")  # Saída: O tamanho da tupla é: 4"
   ]
  },
  {
   "cell_type": "markdown",
   "id": "c695795c",
   "metadata": {},
   "source": [
    "**Exemplo 2: `max()` - Encontrando o Maior Elemento**\n",
    "\n",
    "A função `max()` retorna o maior elemento em uma tupla (considerando a ordem de comparação natural para os tipos de dados presentes).\n"
   ]
  },
  {
   "cell_type": "code",
   "execution_count": 21,
   "id": "15ec66c2",
   "metadata": {},
   "outputs": [
    {
     "name": "stdout",
     "output_type": "stream",
     "text": [
      "O maior número na tupla é: 20\n"
     ]
    }
   ],
   "source": [
    "numeros = (5, 12, 8, 20, 3)\n",
    "maior_numero = max(numeros)\n",
    "print(f\"O maior número na tupla é: {maior_numero}\")  # Saída: O maior número na tupla é: 20"
   ]
  },
  {
   "cell_type": "markdown",
   "id": "52a863b6",
   "metadata": {},
   "source": [
    "**Exemplo 3: `min()` - Encontrando o Menor Elemento**\n",
    "\n",
    "Similar a `max()`, `min()` retorna o menor elemento da tupla.\n"
   ]
  },
  {
   "cell_type": "code",
   "execution_count": 22,
   "id": "1d5b99d5",
   "metadata": {},
   "outputs": [
    {
     "name": "stdout",
     "output_type": "stream",
     "text": [
      "A menor temperatura na tupla é: 15\n",
      "A maior temperatura na tupla é: 28\n"
     ]
    }
   ],
   "source": [
    "temperaturas = (15, 28, 22, 18)\n",
    "menor_temperatura = min(temperaturas)\n",
    "maior_temperatura = max(temperaturas)\n",
    "print(f\"A menor temperatura na tupla é: {menor_temperatura}\") \n",
    "print(f\"A maior temperatura na tupla é: {maior_temperatura}\")"
   ]
  },
  {
   "cell_type": "markdown",
   "id": "55b8c4c5",
   "metadata": {},
   "source": [
    "**Exemplo 4: `sum()` - Somando os Elementos (para Tuplas Numéricas)**\n",
    "\n",
    "A função `sum()` calcula a soma de todos os elementos numéricos em uma tupla.\n"
   ]
  },
  {
   "cell_type": "code",
   "execution_count": 23,
   "id": "3c53f1ce",
   "metadata": {},
   "outputs": [
    {
     "name": "stdout",
     "output_type": "stream",
     "text": [
      "A soma dos valores na tupla é: 15\n"
     ]
    }
   ],
   "source": [
    "valores = (1, 2, 3, 4, 5)\n",
    "soma_total = sum(valores)\n",
    "print(f\"A soma dos valores na tupla é: {soma_total}\")  # Saída: A soma dos valores na tupla é: 15"
   ]
  },
  {
   "cell_type": "markdown",
   "id": "e6659ce2",
   "metadata": {},
   "source": [
    "**Exemplo 5: `sorted()` - Ordenando uma Tupla (sem modificar a original)**\n",
    "\n",
    "`sorted()` retorna uma *nova* lista contendo todos os itens da tupla em ordem crescente. A tupla original permanece inalterada, pois as tuplas são imutáveis.\n"
   ]
  },
  {
   "cell_type": "code",
   "execution_count": 24,
   "id": "ca2d0ed0",
   "metadata": {},
   "outputs": [
    {
     "name": "stdout",
     "output_type": "stream",
     "text": [
      "Tupla original: (3, 1, 4, 1, 5, 9, 2, 6)\n",
      "Lista ordenada: [1, 1, 2, 3, 4, 5, 6, 9]\n"
     ]
    }
   ],
   "source": [
    "desordenado = (3, 1, 4, 1, 5, 9, 2, 6)\n",
    "ordenado = sorted(desordenado)  # Retorna uma lista ordenada\n",
    "print(f\"Tupla original: {desordenado}\") # Saída: Tupla original: (3, 1, 4, 1, 5, 9, 2, 6)\n",
    "print(f\"Lista ordenada: {ordenado}\")   # Saída: Lista ordenada: [1, 1, 2, 3, 4, 5, 6, 9]"
   ]
  },
  {
   "cell_type": "markdown",
   "id": "cfd9ff98",
   "metadata": {},
   "source": [
    "**Observações Importantes:**\n",
    "\n",
    "*   As funções `max()`, `min()` e `sum()` geralmente requerem que todos os elementos da tupla sejam do mesmo tipo (ou tipos comparáveis).  Tentar usá-las com tipos incompatíveis resultará em um erro.\n",
    "*   `sorted()` é extremamente útil para ordenar dados, mas lembrem-se de que ela retorna uma *lista*, não uma tupla. Se você precisar manter a estrutura de tupla, precisará converter a lista resultante de volta para uma tupla usando `tuple()`."
   ]
  },
  {
   "cell_type": "markdown",
   "id": "b8461328",
   "metadata": {
    "vscode": {
     "languageId": "plaintext"
    }
   },
   "source": [
    "# Por Que Usar Tuplas? Casos de Uso Reais\n",
    "\n",
    "A imutabilidade das tuplas oferece vantagens importantes:"
   ]
  },
  {
   "cell_type": "markdown",
   "id": "eed5c0e5",
   "metadata": {},
   "source": [
    "\n",
    "**Segurança dos Dados:**  Garante que os dados não sejam alterados acidentalmente."
   ]
  },
  {
   "cell_type": "markdown",
   "id": "078ba5e5",
   "metadata": {},
   "source": [
    "**Eficiência:** Tuplas são geralmente mais rápidas para acessar e iterar do que listas, pois o Python pode otimizar seu armazenamento."
   ]
  },
  {
   "cell_type": "code",
   "execution_count": 17,
   "id": "a73e58f9",
   "metadata": {},
   "outputs": [
    {
     "name": "stdout",
     "output_type": "stream",
     "text": [
      "1.09 ms ± 2.2 µs per loop (mean ± std. dev. of 7 runs, 1,000 loops each)\n"
     ]
    }
   ],
   "source": [
    "%timeit minha_lista = [l for l in range(100000)]"
   ]
  },
  {
   "cell_type": "code",
   "execution_count": 16,
   "id": "2b2b4dc1",
   "metadata": {},
   "outputs": [
    {
     "name": "stdout",
     "output_type": "stream",
     "text": [
      "210 ns ± 3.51 ns per loop (mean ± std. dev. of 7 runs, 1,000,000 loops each)\n"
     ]
    }
   ],
   "source": [
    "%timeit minha_tupla = (x for x in range(100000))"
   ]
  },
  {
   "cell_type": "markdown",
   "id": "d10dbf2d",
   "metadata": {},
   "source": [
    "**Chaves de Dicionários:** As tuplas podem ser usadas como chaves em dicionários (listas não podem!). Isso porque as chaves de dicionário precisam ser imutáveis.\n",
    "                                                                                  \n"
   ]
  },
  {
   "cell_type": "code",
   "execution_count": 26,
   "id": "0056abb2",
   "metadata": {},
   "outputs": [],
   "source": [
    "# Dicionário onde as chaves são tuplas de coordenadas (x, y)\n",
    "elementos_graficos = {\n",
    "    (10, 20): \"Botão\",\n",
    "    (50, 75): \"Caixa de Texto\",\n",
    "    (120, 40): \"Imagem\",\n",
    "    (80, 100): \"Rótulo\"\n",
    "}"
   ]
  },
  {
   "cell_type": "code",
   "execution_count": 28,
   "id": "5a7ef5c9",
   "metadata": {},
   "outputs": [
    {
     "name": "stdout",
     "output_type": "stream",
     "text": [
      "O elemento na posição (50, 75) é: Caixa de Texto\n"
     ]
    }
   ],
   "source": [
    "# Acessando um elemento gráfico pela sua coordenada\n",
    "elemento_na_posicao = elementos_graficos[(50, 75)]\n",
    "print(f\"O elemento na posição (50, 75) é: {elemento_na_posicao}\")  # Saída: O elemento na posição (50, 75) é: Caixa de Texto"
   ]
  },
  {
   "cell_type": "code",
   "execution_count": 29,
   "id": "52da25ec",
   "metadata": {},
   "outputs": [
    {
     "name": "stdout",
     "output_type": "stream",
     "text": [
      "Dicionário atualizado: {(10, 20): 'Botão', (50, 75): 'Caixa de Texto', (120, 40): 'Imagem', (80, 100): 'Rótulo', (200, 150): 'Barra de Progresso'}\n"
     ]
    }
   ],
   "source": [
    "# Adicionando um novo elemento gráfico em uma nova coordenada\n",
    "elementos_graficos[(200, 150)] = \"Barra de Progresso\"\n",
    "print(f\"Dicionário atualizado: {elementos_graficos}\")"
   ]
  },
  {
   "cell_type": "code",
   "execution_count": 30,
   "id": "18b476e9",
   "metadata": {},
   "outputs": [
    {
     "name": "stdout",
     "output_type": "stream",
     "text": [
      "A coordenada (30, 60) não existe no dicionário.\n"
     ]
    }
   ],
   "source": [
    "# Verificando se uma coordenada existe no dicionário\n",
    "if (30, 60) in elementos_graficos:\n",
    "    print(\"A coordenada (30, 60) existe no dicionário.\")\n",
    "else:\n",
    "    print(\"A coordenada (30, 60) não existe no dicionário.\") # Esta linha será executada."
   ]
  },
  {
   "cell_type": "code",
   "execution_count": 32,
   "id": "ceb16b07",
   "metadata": {},
   "outputs": [
    {
     "name": "stdout",
     "output_type": "stream",
     "text": [
      "Na posição (10, 20), temos um(a) Botão\n",
      "Na posição (50, 75), temos um(a) Caixa de Texto\n",
      "Na posição (120, 40), temos um(a) Imagem\n",
      "Na posição (80, 100), temos um(a) Rótulo\n",
      "Na posição (200, 150), temos um(a) Barra de Progresso\n"
     ]
    }
   ],
   "source": [
    "# Iterando sobre o dicionário\n",
    "for coordenadas, elemento in elementos_graficos.items():\n",
    "    print(f\"Na posição {coordenadas}, temos um(a) {elemento}\")\n"
   ]
  },
  {
   "cell_type": "markdown",
   "id": "870e64d8",
   "metadata": {},
   "source": [
    "**Retornando Múltiplos Valores de uma Função:**  É uma prática comum retornar múltiplos valores de uma função usando uma tupla."
   ]
  },
  {
   "cell_type": "code",
   "execution_count": null,
   "id": "40f256fe",
   "metadata": {},
   "outputs": [
    {
     "name": "stdout",
     "output_type": "stream",
     "text": [
      "(10, 20)\n",
      "<class 'tuple'>\n"
     ]
    }
   ],
   "source": [
    "def coordenadas():\n",
    "    return 10, 20 # Retorna uma tupla (x, y)\n",
    "\n",
    "ponto = coordenadas()\n",
    "print(ponto)\n",
    "print(type(ponto))"
   ]
  },
  {
   "cell_type": "markdown",
   "id": "7acc3ec2",
   "metadata": {},
   "source": [
    "## Unpacking\n",
    "\n",
    "Vamos agora explorar uma técnica muito elegante e útil chamada \"unpacking\" (desempacotamento) com tuplas. Quando você tem uma tupla, pode atribuir seus elementos individualmente a variáveis em uma única linha. Isso é especialmente conveniente quando você sabe quantos elementos a tupla contém e quer dar nomes significativos a cada um deles. \n",
    "\n",
    "Por exemplo, se você tiver uma tupla `(x, y)` representando coordenadas, pode descompactá-la diretamente em duas variáveis:"
   ]
  },
  {
   "cell_type": "code",
   "execution_count": 33,
   "id": "c521d152",
   "metadata": {},
   "outputs": [
    {
     "name": "stdout",
     "output_type": "stream",
     "text": [
      "10\n",
      "20\n"
     ]
    }
   ],
   "source": [
    "x, y = (10, 20) \n",
    "print(x)\n",
    "print(y)"
   ]
  },
  {
   "cell_type": "markdown",
   "id": "efc3bbbb",
   "metadata": {},
   "source": [
    "Isso torna o código mais legível e conciso, evitando a necessidade de acessar os elementos da tupla por índice. \n",
    "\n",
    "**Observação**: O número de variáveis no lado esquerdo deve corresponder exatamente ao número de elementos na tupla; caso contrário, você receberá um erro."
   ]
  },
  {
   "cell_type": "markdown",
   "id": "c4a9d1e4",
   "metadata": {},
   "source": [
    "## **Exercícios Teóricos**\n",
    "\n",
    "1.  **Explique a diferença fundamental entre uma lista e uma tupla em Python, focando na característica de imutabilidade.\n",
    "2.  **O que significa \"unpacking\" de uma tupla? Dê um exemplo prático de como o unpacking pode ser útil e por que ele torna o código mais legível.** (Considerem a atribuição de valores a variáveis).\n",
    "3.  **Por que as tuplas são frequentemente usadas para retornar múltiplos valores de uma função em Python? Qual a vantagem dessa abordagem em relação a retornar uma lista?** (Pensem na clareza e segurança do código.)\n",
    "4.  **Em quais situações você escolheria usar uma tupla em vez de uma lista? Dê exemplos concretos de cenários onde a imutabilidade da tupla seria uma vantagem significativa.** (Pensem em casos de uso práticos.)\n",
    "5.  Considere o seguinte código Python:\n",
    "\n",
    "    ```python\n",
    "    dados_pessoa = (\"Alice\", 30, \"Engenheira\")\n",
    "    nome, idade, profissao = dados_pessoa\n",
    "\n",
    "    print(f\"Nome: {nome}\")\n",
    "    print(f\"Idade: {idade}\")\n",
    "    print(f\"Profissão: {profissao}\")\n",
    "\n",
    "    # Tentativa de modificar a tupla (comentada para evitar erro)\n",
    "    # dados_pessoa[1] = 31  # Isso causaria um TypeError!\n",
    "    ```\n",
    "\n",
    "    **Responda às seguintes perguntas:**\n",
    "\n",
    "    1.  Qual é o valor impresso para \"Nome\", \"Idade\" e \"Profissão\" após a execução do código? Explique como esses valores são atribuídos às variáveis.\n",
    "    2.  Por que a linha comentada `dados_pessoa[1] = 31` causaria um erro se fosse \"descomentada\" e executada? Qual tipo de erro seria lançado?\n",
    "    3.  O que é \"unpacking\" no contexto deste código, e qual o benefício de usar essa técnica em vez de acessar os elementos da tupla individualmente (por exemplo, `dados_pessoa[0]`, `dados_pessoa[1]`, etc.)?\n",
    "    4.  Suponha que você quisesse criar uma nova tupla a partir de `dados_pessoa` e adicionar um novo elemento no início (por exemplo, o ID da pessoa). Como você faria isso sem modificar a tupla original?\n",
    "    5.  Em qual cenário prático você usaria uma tupla como `dados_pessoa` para representar informações sobre uma pessoa? Justifique sua resposta considerando as características das tuplas.\n",
    "\n",
    "## **Exercícios para Praticar**\n",
    "\n",
    "1.  **Função para Inverter Tupla:** Escreva uma função que receba uma tupla como entrada e retorne uma nova tupla com os elementos na ordem inversa.\n",
    "2.  **Encontrando o Segundo Maior Elemento:** Crie uma função que receba uma tupla de números e encontre o segundo maior elemento.\n",
    "3.  **Tuplas como Chaves de Dicionário:** Crie um dicionário onde as chaves são tuplas contendo o nome e a idade de algumas pessoas. Imprima o dicionário."
   ]
  },
  {
   "cell_type": "markdown",
   "id": "c56f62ad",
   "metadata": {},
   "source": [
    "---\n",
    "\n",
    "## Conclusão\n",
    "\n",
    "Exploramos as tuplas, um tipo de dado fundamental em Python para armazenar coleções imutáveis de itens. Vimos como elas se diferenciam das listas, principalmente pela sua imutabilidade, o que garante a integridade dos dados e pode otimizar o desempenho em certas situações. Dominar tuplas é crucial para tarefas como retornar múltiplos valores de funções.\n",
    "\n",
    "### O que aprendemos hoje?\n",
    "\n",
    "- Definimos e criamos tuplas.\n",
    "- Compreendemos a imutabilidade das tuplas e suas implicações.\n",
    "- Acessamos elementos de uma tupla por índice.\n",
    "- Exploramos o uso do operador unpacking para atribuir valores de uma tupla a variáveis individuais.\n",
    "- Vimos como as tuplas são mais eficientes em termos de desempenho que listas, especialmente quando não precisam ser modificadas.\n",
    "\n",
    "### Próximos Passos\n",
    "\n",
    "- **Prática:** Resolva os exercícios propostos no material da aula para solidificar o entendimento dos conceitos.\n",
    "- **Exploração:** Pesquise sobre as aplicações de tuplas em áreas como programação funcional e representação de dados estruturados."
   ]
  }
 ],
 "metadata": {
  "kernelspec": {
   "display_name": "base",
   "language": "python",
   "name": "python3"
  },
  "language_info": {
   "codemirror_mode": {
    "name": "ipython",
    "version": 3
   },
   "file_extension": ".py",
   "mimetype": "text/x-python",
   "name": "python",
   "nbconvert_exporter": "python",
   "pygments_lexer": "ipython3",
   "version": "3.11.7"
  }
 },
 "nbformat": 4,
 "nbformat_minor": 5
}
