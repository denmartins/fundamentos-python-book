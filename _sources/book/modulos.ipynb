{
 "cells": [
  {
   "cell_type": "markdown",
   "id": "3ec59a22",
   "metadata": {},
   "source": [
    "# Trabalhando com Módulos e Pacotes em Python\n",
    "---\n",
    "\n",
    "Em programação, frequentemente precisamos reutilizar código ou acessar funcionalidades que não estão incluídas no núcleo da linguagem. É aí que entram os módulos e pacotes. Eles são ferramentas para organizar o código, aumentar a produtividade e aproveitar soluções já existentes.\n",
    "\n",
    "**Objetivos de Aprendizagem**\n",
    "\n",
    "Ao final desta aula, você será capaz de:\n",
    "\n",
    "- Entender o que são módulos e pacotes em Python.\n",
    "- Aprender como importar módulos internos e externos.\n",
    "- Usar os módulos `math`, `random` e `os` em exemplos práticos.\n",
    "- Criar seu próprio módulo com funções customizadas.\n"
   ]
  },
  {
   "cell_type": "markdown",
   "id": "dd0dae46",
   "metadata": {},
   "source": [
    "## Conceitos fundamentais\n",
    "\n",
    "Basicamente, um módulo é um arquivo `.py` que contém definições de funções, classes e variáveis que podem ser reutilizadas em outros programas. \n",
    "\n",
    "Módulos permitem dividir um programa grande em partes menores e mais gerenciáveis.\n",
    "\n",
    "A palavra-chave `import` é usada para incluir módulos em seu código.\n",
    "\n",
    "De forma semelhante, um pacote (*package* ou biblioteca) é um conjunto de módulos organizados.\n",
    "\n",
    "Python já vem com uma grande quantidade de **módulos internos** (biblioteca padrão), como `math`, `random`, `os`, `datetime`, entre outros.\n",
    "\n",
    "**Por que utilizar Módulos e Pacotes?**\n",
    "\n",
    "* **Reutilização de Código:** Evita a duplicação de código, tornando seus projetos mais concisos e fáceis de manter.\n",
    "* **Organização do Código:**  Promove uma estrutura organizada, facilitando o desenvolvimento e a colaboração em projetos grandes.\n",
    "* **Acesso a Funcionalidades Avançadas:** Pacotes fornecem funcionalidades complexas que seriam difíceis ou demoradas de implementar manualmente."
   ]
  },
  {
   "cell_type": "markdown",
   "id": "0e18bc35",
   "metadata": {},
   "source": [
    "## Métodos de Importação "
   ]
  },
  {
   "cell_type": "markdown",
   "id": "22acfd31",
   "metadata": {},
   "source": [
    "Python oferece diferentes métodos para importar pacotes e módulos:\n"
   ]
  },
  {
   "cell_type": "markdown",
   "id": "275e657c",
   "metadata": {},
   "source": [
    "### Importação Completa\n",
    "\n",
    "Este é o método mais comum. Ele importa a biblioteca inteira, e você precisa usar o nome da biblioteca para acessar seus componentes."
   ]
  },
  {
   "cell_type": "code",
   "execution_count": 1,
   "id": "bd83fde8",
   "metadata": {},
   "outputs": [],
   "source": [
    "import math"
   ]
  },
  {
   "cell_type": "code",
   "execution_count": 2,
   "id": "49154664",
   "metadata": {},
   "outputs": [
    {
     "name": "stdout",
     "output_type": "stream",
     "text": [
      "4.0\n"
     ]
    }
   ],
   "source": [
    "raiz_quadrada = math.sqrt(16)  # Calcula a raiz quadrada de 16\n",
    "print(raiz_quadrada) # Output: 4.0"
   ]
  },
  {
   "cell_type": "code",
   "execution_count": 3,
   "id": "099b1785",
   "metadata": {},
   "outputs": [
    {
     "name": "stdout",
     "output_type": "stream",
     "text": [
      "1.0\n"
     ]
    }
   ],
   "source": [
    "angulo_em_radianos = math.pi / 2\n",
    "seno = math.sin(angulo_em_radianos)\n",
    "print(seno) # Output: 1.0"
   ]
  },
  {
   "cell_type": "markdown",
   "id": "575dc52d",
   "metadata": {},
   "source": [
    "### Importação com Alias \n",
    "\n",
    "Usar `import ... as` permite atribuir um nome mais curto e amigável à biblioteca importada. Isso é altamente recomendado para facilitar o uso do código.\n"
   ]
  },
  {
   "cell_type": "code",
   "execution_count": null,
   "id": "614ac5fc",
   "metadata": {},
   "outputs": [],
   "source": [
    "import math as mt"
   ]
  },
  {
   "cell_type": "code",
   "execution_count": null,
   "id": "9353a331",
   "metadata": {},
   "outputs": [],
   "source": [
    "mt.pi"
   ]
  },
  {
   "cell_type": "code",
   "execution_count": null,
   "id": "25e5bae6",
   "metadata": {},
   "outputs": [],
   "source": [
    "mt.sqrt(16)"
   ]
  },
  {
   "cell_type": "markdown",
   "id": "5e87af94",
   "metadata": {},
   "source": [
    "### Importação Seletiva\n",
    "\n",
    "Usar `from ... import` permite importar apenas os componentes específicos da biblioteca que você precisa."
   ]
  },
  {
   "cell_type": "code",
   "execution_count": null,
   "id": "4f7ae8a7",
   "metadata": {},
   "outputs": [],
   "source": [
    "from math import sqrt\n",
    "sqrt(16)"
   ]
  },
  {
   "cell_type": "markdown",
   "id": "292c6997",
   "metadata": {},
   "source": [
    "### Explorando o módulto `math`\n",
    "\n",
    "\n",
    "O módulo `math` oferece funções matemáticas mais avançadas:\n"
   ]
  },
  {
   "cell_type": "code",
   "execution_count": null,
   "id": "adb19d4a",
   "metadata": {},
   "outputs": [],
   "source": [
    "import math\n",
    "\n",
    "print(math.sqrt(16))     # raiz quadrada\n",
    "print(math.pow(2, 3))    # potência (2^3)\n",
    "print(math.pi)           # constante pi\n",
    "print(math.ceil(3.2))    # arredondamento para cima\n",
    "print(math.floor(3.8))   # arredondamento para baixo"
   ]
  },
  {
   "cell_type": "markdown",
   "id": "4f7849a5",
   "metadata": {},
   "source": [
    "\n",
    "### Explorando o módulo `random`\n",
    "\n",
    "O módulo `random` permite gerar números aleatórios:"
   ]
  },
  {
   "cell_type": "code",
   "execution_count": 5,
   "id": "1795f8c1",
   "metadata": {},
   "outputs": [],
   "source": [
    "import random"
   ]
  },
  {
   "cell_type": "code",
   "execution_count": 6,
   "id": "73974d2a",
   "metadata": {},
   "outputs": [
    {
     "name": "stdout",
     "output_type": "stream",
     "text": [
      "6\n"
     ]
    }
   ],
   "source": [
    "numero_aleatorio = random.randint(1, 10)  # Gera um inteiro aleatório entre 1 e 10\n",
    "print(numero_aleatorio)"
   ]
  },
  {
   "cell_type": "code",
   "execution_count": 7,
   "id": "d5c22f57",
   "metadata": {},
   "outputs": [
    {
     "name": "stdout",
     "output_type": "stream",
     "text": [
      "0.045359839924301704\n"
     ]
    }
   ],
   "source": [
    "print(random.random())                 # float aleatório entre 0 e 1"
   ]
  },
  {
   "cell_type": "code",
   "execution_count": 8,
   "id": "e2186c7f",
   "metadata": {},
   "outputs": [
    {
     "name": "stdout",
     "output_type": "stream",
     "text": [
      "laranja\n"
     ]
    }
   ],
   "source": [
    "lista = ['maçã', 'banana', 'laranja']\n",
    "fruta_aleatoria = random.choice(lista) # Escolhe um elemento aleatório da lista\n",
    "print(fruta_aleatoria)"
   ]
  },
  {
   "cell_type": "markdown",
   "id": "f3e682d6",
   "metadata": {},
   "source": [
    "### Explorando o módulo `string`\n",
    "\n",
    "O módulo `string` em Python oferece um conjunto de funcionalidades úteis para trabalhar com strings. Embora muitas das funcionalidades que ele oferecia anteriormente tenham sido incorporadas diretamente na classe `str`, o módulo ainda fornece algumas ferramentas convenientes, especialmente para lidar com caracteres especiais."
   ]
  },
  {
   "cell_type": "code",
   "execution_count": 5,
   "id": "04459605",
   "metadata": {},
   "outputs": [],
   "source": [
    "import string"
   ]
  },
  {
   "cell_type": "code",
   "execution_count": 6,
   "id": "111a0241",
   "metadata": {},
   "outputs": [
    {
     "name": "stdout",
     "output_type": "stream",
     "text": [
      "abcdefghijklmnopqrstuvwxyz\n"
     ]
    }
   ],
   "source": [
    "# Acessando a constante de letras minúsculas ASCII\n",
    "letras_minusculas = string.ascii_lowercase\n",
    "print(letras_minusculas)  # Saída: abcdefghijklmnopqrstuvwxyz"
   ]
  },
  {
   "cell_type": "code",
   "execution_count": 7,
   "id": "01b6b3f1",
   "metadata": {},
   "outputs": [
    {
     "name": "stdout",
     "output_type": "stream",
     "text": [
      "É uma letra maiúscula ASCII\n"
     ]
    }
   ],
   "source": [
    "# Verificando se um caractere é uma letra maiúscula\n",
    "caractere = 'A'\n",
    "if caractere in string.ascii_uppercase:\n",
    "    print(\"É uma letra maiúscula ASCII\")"
   ]
  },
  {
   "cell_type": "code",
   "execution_count": 10,
   "id": "f0222914",
   "metadata": {},
   "outputs": [
    {
     "name": "stdout",
     "output_type": "stream",
     "text": [
      "Letra aleatória do alfabeto: b\n"
     ]
    }
   ],
   "source": [
    "import random\n",
    "import string\n",
    "\n",
    "def alfa_aleatorio(): # Função que retorna a letra aleatória\n",
    "    alfabeto = string.ascii_lowercase  #  Contém todas as letras minúsculas do alfabeto.\n",
    "    return random.choice(alfabeto)  # Escolhe aleatoriamente uma letra\n",
    "\n",
    "# Chama a função e imprime a letra aleatória gerada\n",
    "print(\"Letra aleatória do alfabeto:\", alfa_aleatorio())"
   ]
  },
  {
   "cell_type": "markdown",
   "id": "1ca8c970",
   "metadata": {},
   "source": [
    "### Explorando o módulo `os`\n",
    "\n",
    "O módulo `os` permite interagir com o sistema operacional:"
   ]
  },
  {
   "cell_type": "code",
   "execution_count": 9,
   "id": "f7b59156",
   "metadata": {},
   "outputs": [],
   "source": [
    "import os"
   ]
  },
  {
   "cell_type": "code",
   "execution_count": 10,
   "id": "49bff5c3",
   "metadata": {},
   "outputs": [
    {
     "name": "stdout",
     "output_type": "stream",
     "text": [
      "/Users/denismartins/gitworkspace/fundamentos-python-book/book\n"
     ]
    }
   ],
   "source": [
    "print(os.getcwd())     # diretório atual"
   ]
  },
  {
   "cell_type": "code",
   "execution_count": 14,
   "id": "0073ad5c",
   "metadata": {},
   "outputs": [],
   "source": [
    "os.mkdir(\"nova_pasta\") # cria uma nova pasta"
   ]
  },
  {
   "cell_type": "code",
   "execution_count": 15,
   "id": "c14d9228",
   "metadata": {},
   "outputs": [
    {
     "name": "stdout",
     "output_type": "stream",
     "text": [
      "['modulos.ipynb', 'bibliography.md', 'tuplas.ipynb', 'listas.ipynb', 'conjuntos.ipynb', 'estruturas-de-controle-loop.ipynb', 'references.bib', 'conceitos-basicos.ipynb', 'dicionarios.ipynb', 'XX-FP-Manipulacao-Arquivos.ipynb', 'variaveis-tipos-dados.ipynb', 'strings.ipynb', 'nova_pasta', '.jupytext.toml']\n"
     ]
    }
   ],
   "source": [
    "print(os.listdir())    # lista arquivos no diretório"
   ]
  },
  {
   "cell_type": "code",
   "execution_count": 17,
   "id": "1087f3e2",
   "metadata": {},
   "outputs": [
    {
     "name": "stdout",
     "output_type": "stream",
     "text": [
      "/Users/denismartins/gitworkspace/fundamentos-python-book/book/nova_pasta\n"
     ]
    }
   ],
   "source": [
    "diretorio_atual = os.getcwd()\n",
    "path = os.path.join(diretorio_atual, \"nova_pasta\")\n",
    "print(path)"
   ]
  },
  {
   "cell_type": "code",
   "execution_count": 19,
   "id": "a23c69ae",
   "metadata": {},
   "outputs": [
    {
     "data": {
      "text/plain": [
       "False"
      ]
     },
     "execution_count": 19,
     "metadata": {},
     "output_type": "execute_result"
    }
   ],
   "source": [
    "os.path.exists(path) # Verifica se o caminho existe"
   ]
  },
  {
   "cell_type": "markdown",
   "id": "ba78c7c1",
   "metadata": {},
   "source": [
    "\n",
    "## Instalando Pacotes com `pip`\n",
    "\n",
    "*   **O que são Pacotes?** Pacotes são coleções de módulos relacionados, frequentemente desenvolvidas por terceiros para fornecer funcionalidades específicas.\n",
    "*   **`pip`:** É o gerenciador de pacotes padrão do Python.\n",
    "*   **Como usar `pip`:**\n",
    "\n",
    "    ```bash\n",
    "    # Instala um pacote:\n",
    "    pip install matplotlib\n",
    "\n",
    "    # Desinstala um pacote:\n",
    "    pip uninstall matplotlib\n",
    "\n",
    "    # Lista os pacotes instalados:\n",
    "    pip list\n",
    "    ```"
   ]
  },
  {
   "cell_type": "markdown",
   "id": "ec94f06f",
   "metadata": {},
   "source": [
    "### Explorando de Pacotes em Python\n",
    "\n",
    "O pacote **`matplotlib`** ajuda a criar gráficos e visualizações de dados (gráficos de linha, barras, dispersão, histogramas, etc.)."
   ]
  },
  {
   "cell_type": "code",
   "execution_count": null,
   "id": "da239938",
   "metadata": {},
   "outputs": [],
   "source": [
    "import matplotlib.pyplot as plt"
   ]
  },
  {
   "cell_type": "markdown",
   "id": "ccb34ef9",
   "metadata": {},
   "source": [
    "**Gráfico de Linha**"
   ]
  },
  {
   "cell_type": "code",
   "execution_count": null,
   "id": "a2e36795",
   "metadata": {},
   "outputs": [
    {
     "data": {
      "image/png": "[encoded data removed]",
      "text/plain": [
       "<Figure size 640x480 with 1 Axes>"
      ]
     },
     "metadata": {},
     "output_type": "display_data"
    }
   ],
   "source": [
    "x = [1, 2, 3, 4, 5]\n",
    "y = [2, 4, 1, 3, 5]\n",
    "\n",
    "plt.plot(x, y)  # Cria um gráfico de linha\n",
    "plt.xlabel(\"Eixo X\")\n",
    "plt.ylabel(\"Eixo Y\")\n",
    "plt.title(\"Gráfico Simples\")\n",
    "plt.show()"
   ]
  },
  {
   "cell_type": "markdown",
   "id": "945aa1ac",
   "metadata": {},
   "source": [
    "**Gráfico de Pizza**"
   ]
  },
  {
   "cell_type": "code",
   "execution_count": 2,
   "id": "5316f55f",
   "metadata": {},
   "outputs": [
    {
     "data": {
      "image/png": "[encoded data removed]",
      "text/plain": [
       "<Figure size 640x480 with 1 Axes>"
      ]
     },
     "metadata": {},
     "output_type": "display_data"
    }
   ],
   "source": [
    "categorias = 'A', 'B', 'C', 'D'\n",
    "tamanhos = [15, 30, 45, 10]\n",
    "plt.pie(tamanhos, labels=categorias, autopct='%1.1f%%') #autopct formata em porcentagens\n",
    "plt.title('Exemplo de Gráfico de Pizza')\n",
    "plt.show()"
   ]
  },
  {
   "cell_type": "markdown",
   "id": "0757d31b",
   "metadata": {},
   "source": [
    "**Gráfico de Barras**"
   ]
  },
  {
   "cell_type": "code",
   "execution_count": null,
   "id": "527a8ddb",
   "metadata": {},
   "outputs": [
    {
     "data": {
      "image/png": "[encoded data removed]",
      "text/plain": [
       "<Figure size 640x480 with 1 Axes>"
      ]
     },
     "metadata": {},
     "output_type": "display_data"
    }
   ],
   "source": [
    "categorias = ['A', 'B', 'C', 'D']\n",
    "valores = [10, 25, 15, 30]\n",
    "plt.bar(categorias, valores)\n",
    "plt.title('Exemplo de gráfico de barras')\n",
    "plt.xlabel('Categorias')\n",
    "plt.ylabel('Valores')\n",
    "plt.savefig(\"fig1.pdf\", dpi=300) # Salva a figura"
   ]
  },
  {
   "cell_type": "markdown",
   "id": "7819cf10",
   "metadata": {},
   "source": [
    "O pacote **pandas** fornece estruturas de dados e ferramentas para análise e manipulação de dados (DataFrames, Series)."
   ]
  },
  {
   "cell_type": "code",
   "execution_count": 11,
   "id": "9737639f",
   "metadata": {},
   "outputs": [],
   "source": [
    "import pandas as pd"
   ]
  },
  {
   "cell_type": "code",
   "execution_count": 12,
   "id": "28d885f2",
   "metadata": {},
   "outputs": [
    {
     "data": {
      "text/html": [
       "<div>\n",
       "<style scoped>\n",
       "    .dataframe tbody tr th:only-of-type {\n",
       "        vertical-align: middle;\n",
       "    }\n",
       "\n",
       "    .dataframe tbody tr th {\n",
       "        vertical-align: top;\n",
       "    }\n",
       "\n",
       "    .dataframe thead th {\n",
       "        text-align: right;\n",
       "    }\n",
       "</style>\n",
       "<table border=\"1\" class=\"dataframe\">\n",
       "  <thead>\n",
       "    <tr style=\"text-align: right;\">\n",
       "      <th></th>\n",
       "      <th>Nome</th>\n",
       "      <th>Idade</th>\n",
       "      <th>Cidade</th>\n",
       "    </tr>\n",
       "  </thead>\n",
       "  <tbody>\n",
       "    <tr>\n",
       "      <th>0</th>\n",
       "      <td>Alice</td>\n",
       "      <td>25</td>\n",
       "      <td>São Paulo</td>\n",
       "    </tr>\n",
       "    <tr>\n",
       "      <th>1</th>\n",
       "      <td>Bob</td>\n",
       "      <td>30</td>\n",
       "      <td>Rio de Janeiro</td>\n",
       "    </tr>\n",
       "    <tr>\n",
       "      <th>2</th>\n",
       "      <td>Charlie</td>\n",
       "      <td>28</td>\n",
       "      <td>Belo Horizonte</td>\n",
       "    </tr>\n",
       "  </tbody>\n",
       "</table>\n",
       "</div>"
      ],
      "text/plain": [
       "      Nome  Idade          Cidade\n",
       "0    Alice     25       São Paulo\n",
       "1      Bob     30  Rio de Janeiro\n",
       "2  Charlie     28  Belo Horizonte"
      ]
     },
     "execution_count": 12,
     "metadata": {},
     "output_type": "execute_result"
    }
   ],
   "source": [
    "data = {'Nome': ['Alice', 'Bob', 'Charlie'],\n",
    "        'Idade': [25, 30, 28],\n",
    "        'Cidade': ['São Paulo', 'Rio de Janeiro', 'Belo Horizonte']}\n",
    "\n",
    "df = pd.DataFrame(data)  # Cria um DataFrame\n",
    "df"
   ]
  },
  {
   "cell_type": "code",
   "execution_count": null,
   "id": "fb5ad2dc",
   "metadata": {},
   "outputs": [
    {
     "data": {
      "text/plain": [
       "0      Alice\n",
       "1        Bob\n",
       "2    Charlie\n",
       "Name: Nome, dtype: object"
      ]
     },
     "execution_count": 15,
     "metadata": {},
     "output_type": "execute_result"
    }
   ],
   "source": [
    "df['Nome'] # Acessa a coluna \"Nome\""
   ]
  },
  {
   "cell_type": "code",
   "execution_count": 16,
   "id": "9713b53f",
   "metadata": {},
   "outputs": [
    {
     "data": {
      "text/html": [
       "<div>\n",
       "<style scoped>\n",
       "    .dataframe tbody tr th:only-of-type {\n",
       "        vertical-align: middle;\n",
       "    }\n",
       "\n",
       "    .dataframe tbody tr th {\n",
       "        vertical-align: top;\n",
       "    }\n",
       "\n",
       "    .dataframe thead th {\n",
       "        text-align: right;\n",
       "    }\n",
       "</style>\n",
       "<table border=\"1\" class=\"dataframe\">\n",
       "  <thead>\n",
       "    <tr style=\"text-align: right;\">\n",
       "      <th></th>\n",
       "      <th>Idade</th>\n",
       "    </tr>\n",
       "  </thead>\n",
       "  <tbody>\n",
       "    <tr>\n",
       "      <th>count</th>\n",
       "      <td>3.000000</td>\n",
       "    </tr>\n",
       "    <tr>\n",
       "      <th>mean</th>\n",
       "      <td>27.666667</td>\n",
       "    </tr>\n",
       "    <tr>\n",
       "      <th>std</th>\n",
       "      <td>2.516611</td>\n",
       "    </tr>\n",
       "    <tr>\n",
       "      <th>min</th>\n",
       "      <td>25.000000</td>\n",
       "    </tr>\n",
       "    <tr>\n",
       "      <th>25%</th>\n",
       "      <td>26.500000</td>\n",
       "    </tr>\n",
       "    <tr>\n",
       "      <th>50%</th>\n",
       "      <td>28.000000</td>\n",
       "    </tr>\n",
       "    <tr>\n",
       "      <th>75%</th>\n",
       "      <td>29.000000</td>\n",
       "    </tr>\n",
       "    <tr>\n",
       "      <th>max</th>\n",
       "      <td>30.000000</td>\n",
       "    </tr>\n",
       "  </tbody>\n",
       "</table>\n",
       "</div>"
      ],
      "text/plain": [
       "           Idade\n",
       "count   3.000000\n",
       "mean   27.666667\n",
       "std     2.516611\n",
       "min    25.000000\n",
       "25%    26.500000\n",
       "50%    28.000000\n",
       "75%    29.000000\n",
       "max    30.000000"
      ]
     },
     "execution_count": 16,
     "metadata": {},
     "output_type": "execute_result"
    }
   ],
   "source": [
    "df.describe() # Retorna estatísticas descritivas"
   ]
  },
  {
   "cell_type": "markdown",
   "id": "bdbe47be",
   "metadata": {},
   "source": [
    "## Criando Seu Próprio Módulo em Python\n",
    "\n",
    "Você também pode criar seus próprios módulos! Basta criar um arquivo `.py` com funções ou variáveis e importá-lo em outros scripts.\n",
    "\n",
    "Suponha que criamos um arquivo chamado `meumodulo.py` com o seguinte conteúdo:\n",
    "\n",
    "```python\n",
    "# meumodulo.py\n",
    "\n",
    "def saudacao(nome):\n",
    "    \"\"\"Função que cumprimenta uma pessoa.\"\"\"\n",
    "    print(f\"Olá, {nome}!\")\n",
    "\n",
    "variavel_global = \"Este é um módulo personalizado.\"\n",
    "```\n",
    "\n",
    "###  Como usar esse módulo em outro script?\n",
    "\n",
    "Basta importar o módulo no arquivo principal onde deseja utilizá-lo:\n",
    "\n",
    "```python\n",
    "# main.py\n",
    "\n",
    "import meu_modulo\n",
    "\n",
    "meu_modulo.saudacao(\"Maria\")  # Chama a função do módulo\n",
    "print(meu_modulo.variavel_global) # Acessa uma variável global\n",
    "```\n",
    "\n",
    "### Dicas:\n",
    "- Certifique-se de que os arquivos estejam no mesmo diretório.\n",
    "- Você também pode usar `from meu_modulo import saudacao` para importar apenas uma função.\n",
    "\n",
    "### `__main__`\n",
    "A operação `if __name__ == \"__main__\"` permite executar código específico apenas quando o módulo é executado diretamente, e não quando ele é importado por outro módulo.\n",
    "\n",
    "```python\n",
    "# meu_modulo.py\n",
    "\n",
    "def saudacao(nome):\n",
    "    \"\"\"Função que cumprimenta uma pessoa.\"\"\"\n",
    "    print(f\"Olá, {nome}!\")\n",
    "\n",
    "variavel_global = \"Este é um módulo personalizado.\"\n",
    "\n",
    "if __name__ == \"__main__\":\n",
    "    print(variavel_global) # Executa apenas se o arquivo for executado diretamente\n",
    "```"
   ]
  },
  {
   "cell_type": "markdown",
   "id": "6a046167",
   "metadata": {},
   "source": [
    "## **Exercícios Teóricos**\n",
    "\n",
    "1. **Módulos vs. Pacotes**: Alguém te diz que \"módulo\" e \"biblioteca\" são sinônimos em Python. Você discorda. Explique por que você discorda, diferenciando os dois termos de forma simples. Dê um exemplo de cada um para ilustrar sua explicação.\n",
    "2. **A Importância do import**:  Imagine que você está escrevendo um programa Python e precisa usar a função `sqrt()` (raiz quadrada). Você sabe que essa função está disponível no Python, mas como o interpretador Python sabe onde encontrar essa função? Explique em suas próprias palavras o que acontece quando você usa a instrução `import` (por exemplo, `import math`) e por que ela é necessária para usar as funcionalidades de um módulo.\n",
    "3. **Modularidade e Reusabilidade**: Considere um cenário em que você está desenvolvendo uma aplicação complexa para análise de dados financeiros. Essa aplicação envolve diversas tarefas, como leitura de arquivos CSV, limpeza de dados, cálculo de indicadores estatísticos e geração de relatórios. Discuta os benefícios de organizar o código dessa aplicação em módulos separados (por exemplo, um módulo para leitura de dados, outro para cálculos, outro para relatórios). Quais são as vantagens da modularização em termos de reusabilidade do código, manutenção e colaboração em equipe?\n",
    "4. **Modo de importação**: Explique a diferença entre `import modulo` e `from modulo import funcao`. Quais as vantagens e desvantagens de cada abordagem?\n",
    "\n",
    "## **Exercícios para Praticar**\n",
    "\n",
    "1.  **Gerador de Senhas:** Crie um programa que gere senhas aleatórias com um comprimento especificado pelo usuário, usando o módulo `random`. A senha deve incluir letras maiúsculas, minúsculas, números e símbolos.\n",
    "2.  **Listagem de Arquivos:** Escreva um script que liste todos os arquivos em um diretório específico (fornecido pelo usuário) usando o módulo `os`.\n",
    "3.  **Jogo da Adivinhação:** Implemente um jogo onde o computador escolhe um número aleatório entre 1 e 100, e o jogador tenta adivinhar. Use o módulo `random` para gerar o número secreto e forneça dicas ao jogador (maior ou menor).\n",
    "4.  **Gráfico de Vendas:** Use o módulo `pandas` para criar um DataFrame com dados de vendas mensais de um produto. Em seguida, use `matplotlib` para gerar um gráfico de linha mostrando a evolução das vendas ao longo do tempo.\n",
    "5.  **Análise de Dados:** Crie um DataFrame com dados sobre alunos (nome, idade, nota). Use `pandas` para calcular a média das notas e identificar o aluno mais velho.\n",
    "6.  **Calculadora:** Crie um módulo chamado `calculadora.py` com funções para realizar operações matemáticas básicas (adição, subtração, multiplicação, divisão). Em outro arquivo, importe o módulo `calculadora.py` e use suas funções para calcular a soma de dois números fornecidos pelo usuário. Além das operações matemáticas básicas, seu módulo deve também implementar as funcionalidades abaixo:\n",
    "    - `dobro(n)`: retorna o dobro de um número.\n",
    "    - `eh_par(n)`: retorna True se o número for par, False caso contrário.\n",
    "    - `media(a, b)`: retorna a média entre dois números.\n"
   ]
  },
  {
   "cell_type": "markdown",
   "id": "6b65ab36",
   "metadata": {},
   "source": [
    "## Como o Interpretador Python Importa Módulos com `import`\n",
    "\n",
    "Quando você usa a instrução `import` em Python, está solicitando ao interpretador para buscar e executar um módulo. O processo é mais complexo do que simplesmente carregar um arquivo; envolve várias etapas e mecanismos de busca. Vamos detalhar como isso acontece:\n",
    "\n",
    "**1. Análise da Instrução `import`:**\n",
    "\n",
    "O interpretador analisa a instrução `import`. Isso inclui determinar o nome do módulo a ser importado (por exemplo, `import math`, `from os import path`).\n",
    "\n",
    "**2. Busca no Namespace Local:**\n",
    "\n",
    "Primeiro, o interpretador verifica se o módulo já foi importado no namespace local atual. Se sim, ele simplesmente retorna uma referência àquele objeto importado. Isso evita reimportações desnecessárias.\n",
    "\n",
    "**Namespaces** (espaços de nomes) são um conceito fundamental em Python que determinam a acessibilidade e o ciclo de vida das variáveis, funções e outros objetos. Em termos simples, um namespace é um sistema para dar um nome único a cada objeto em seu programa. Pense nele como um dicionário onde as chaves são os nomes (variáveis, funções, etc.) e os valores são os objetos correspondentes.\n",
    "\n",
    "*   **Evitam Conflitos:** Permitem que você use o mesmo nome para diferentes variáveis em diferentes partes do seu código sem causar confusão ou erros.\n",
    "*   **Organização:** Ajudam a organizar e estruturar seu código, tornando-o mais legível e fácil de manter.\n",
    "*   **Escopo:** Definem o escopo das variáveis, determinando onde elas podem ser acessadas e modificadas.\n",
    "\n",
    "**Built-in Namespace:** Este namespace contém todos os nomes embutidos do Python, como funções (`print`, `len`), exceções (`TypeError`, `ValueError`) e constantes (`None`). Ele está sempre disponível."
   ]
  },
  {
   "cell_type": "code",
   "execution_count": null,
   "id": "c00d9e87",
   "metadata": {},
   "outputs": [
    {
     "data": {
      "text/plain": [
       "['ArithmeticError',\n",
       " 'AssertionError',\n",
       " 'AttributeError',\n",
       " 'BaseException',\n",
       " 'BaseExceptionGroup',\n",
       " 'BlockingIOError',\n",
       " 'BrokenPipeError',\n",
       " 'BufferError',\n",
       " 'BytesWarning',\n",
       " 'ChildProcessError',\n",
       " 'ConnectionAbortedError',\n",
       " 'ConnectionError',\n",
       " 'ConnectionRefusedError',\n",
       " 'ConnectionResetError',\n",
       " 'DeprecationWarning',\n",
       " 'EOFError',\n",
       " 'Ellipsis',\n",
       " 'EncodingWarning',\n",
       " 'EnvironmentError',\n",
       " 'Exception',\n",
       " 'ExceptionGroup',\n",
       " 'False',\n",
       " 'FileExistsError',\n",
       " 'FileNotFoundError',\n",
       " 'FloatingPointError',\n",
       " 'FutureWarning',\n",
       " 'GeneratorExit',\n",
       " 'IOError',\n",
       " 'ImportError',\n",
       " 'ImportWarning',\n",
       " 'IndentationError',\n",
       " 'IndexError',\n",
       " 'InterruptedError',\n",
       " 'IsADirectoryError',\n",
       " 'KeyError',\n",
       " 'KeyboardInterrupt',\n",
       " 'LookupError',\n",
       " 'MemoryError',\n",
       " 'ModuleNotFoundError',\n",
       " 'NameError',\n",
       " 'None',\n",
       " 'NotADirectoryError',\n",
       " 'NotImplemented',\n",
       " 'NotImplementedError',\n",
       " 'OSError',\n",
       " 'OverflowError',\n",
       " 'PendingDeprecationWarning',\n",
       " 'PermissionError',\n",
       " 'ProcessLookupError',\n",
       " 'RecursionError',\n",
       " 'ReferenceError',\n",
       " 'ResourceWarning',\n",
       " 'RuntimeError',\n",
       " 'RuntimeWarning',\n",
       " 'StopAsyncIteration',\n",
       " 'StopIteration',\n",
       " 'SyntaxError',\n",
       " 'SyntaxWarning',\n",
       " 'SystemError',\n",
       " 'SystemExit',\n",
       " 'TabError',\n",
       " 'TimeoutError',\n",
       " 'True',\n",
       " 'TypeError',\n",
       " 'UnboundLocalError',\n",
       " 'UnicodeDecodeError',\n",
       " 'UnicodeEncodeError',\n",
       " 'UnicodeError',\n",
       " 'UnicodeTranslateError',\n",
       " 'UnicodeWarning',\n",
       " 'UserWarning',\n",
       " 'ValueError',\n",
       " 'Warning',\n",
       " 'ZeroDivisionError',\n",
       " '__IPYTHON__',\n",
       " '__build_class__',\n",
       " '__debug__',\n",
       " '__doc__',\n",
       " '__import__',\n",
       " '__loader__',\n",
       " '__name__',\n",
       " '__package__',\n",
       " '__spec__',\n",
       " 'abs',\n",
       " 'aiter',\n",
       " 'all',\n",
       " 'anext',\n",
       " 'any',\n",
       " 'ascii',\n",
       " 'bin',\n",
       " 'bool',\n",
       " 'breakpoint',\n",
       " 'bytearray',\n",
       " 'bytes',\n",
       " 'callable',\n",
       " 'chr',\n",
       " 'classmethod',\n",
       " 'compile',\n",
       " 'complex',\n",
       " 'copyright',\n",
       " 'credits',\n",
       " 'delattr',\n",
       " 'dict',\n",
       " 'dir',\n",
       " 'display',\n",
       " 'divmod',\n",
       " 'enumerate',\n",
       " 'eval',\n",
       " 'exec',\n",
       " 'execfile',\n",
       " 'filter',\n",
       " 'float',\n",
       " 'format',\n",
       " 'frozenset',\n",
       " 'get_ipython',\n",
       " 'getattr',\n",
       " 'globals',\n",
       " 'hasattr',\n",
       " 'hash',\n",
       " 'help',\n",
       " 'hex',\n",
       " 'id',\n",
       " 'input',\n",
       " 'int',\n",
       " 'isinstance',\n",
       " 'issubclass',\n",
       " 'iter',\n",
       " 'len',\n",
       " 'license',\n",
       " 'list',\n",
       " 'locals',\n",
       " 'map',\n",
       " 'max',\n",
       " 'memoryview',\n",
       " 'min',\n",
       " 'next',\n",
       " 'object',\n",
       " 'oct',\n",
       " 'open',\n",
       " 'ord',\n",
       " 'pow',\n",
       " 'print',\n",
       " 'property',\n",
       " 'range',\n",
       " 'repr',\n",
       " 'reversed',\n",
       " 'round',\n",
       " 'runfile',\n",
       " 'set',\n",
       " 'setattr',\n",
       " 'slice',\n",
       " 'sorted',\n",
       " 'staticmethod',\n",
       " 'str',\n",
       " 'sum',\n",
       " 'super',\n",
       " 'tuple',\n",
       " 'type',\n",
       " 'vars',\n",
       " 'zip']"
      ]
     },
     "metadata": {},
     "output_type": "display_data"
    }
   ],
   "source": [
    "dir(__builtins__) # Acessa os objetos no namespace built-in"
   ]
  },
  {
   "cell_type": "markdown",
   "id": "699afbfe",
   "metadata": {},
   "source": [
    "\n",
    "\n",
    "**3. Busca nos Caminhos de Importação (sys.path):**\n",
    "\n",
    "Se o módulo não for encontrado no namespace local, o interpretador consulta a lista de caminhos de busca, armazenada na variável `sys.path`.  \n",
    "\n",
    "`sys.path` é uma lista de strings que representa diretórios onde o Python procura por módulos:\n",
    "    *   Diretório do script em execução (o diretório de onde você está rodando seu programa).\n",
    "    *   Variáveis de ambiente `PYTHONPATH` (se definidas).\n",
    "    *   Instalação padrão do Python (diretórios onde as Pacotes padrão são instaladas).\n",
    "\n",
    "**4. Tentativas de Localização:**\n",
    "\n",
    "Para cada caminho em `sys.path`, o interpretador tenta encontrar um arquivo com o nome do módulo:\n",
    "\n",
    "*   **Arquivos `.py`:** Procura por um arquivo chamado `nome_do_modulo.py`.\n",
    "*   **Diretórios (Pacotes):**  Procura por um diretório chamado `nome_do_modulo/` contendo um arquivo especial `__init__.py`. A presença de `__init__.py` indica que o diretório é um pacote Python.\n",
    "*   **Arquivos `.pyc` ou `.so`:** Se encontrar um arquivo compilado (`.pyc` para bytecode, `.so` para extensões C), ele pode tentar usá-lo diretamente (se a versão do Python for compatível).\n",
    "\n",
    "**5. Carregamento e Execução do Módulo:**\n",
    "\n",
    "Quando o interpretador encontra o módulo:\n",
    "\n",
    "*   **Compilação (se necessário):** Se o arquivo for `.py`, ele é compilado para bytecode (`.pyc`).\n",
    "*   **Execução:** O código no módulo é executado. Isso significa que qualquer instrução de nível superior no módulo (fora de funções e classes) é executada.  Isso pode incluir a definição de variáveis, a importação de outros módulos, etc.\n",
    "*   **Criação do Namespace:** Um novo namespace é criado para o módulo. Todas as variáveis, funções e classes definidas no módulo são adicionadas a este namespace.\n",
    "\n",
    "**6. Retorno da Referência:**\n",
    "\n",
    "Após a execução bem-sucedida, o interpretador retorna uma referência ao objeto módulo (ou aos objetos específicos importados com `from ... import ...`).  Essa referência é então atribuída à variável especificada na instrução `import`.\n",
    "\n",
    "**Exemplo:**\n",
    "\n",
    "```python\n",
    "import math\n",
    "\n",
    "# O interpretador:\n",
    "# 1. Procura 'math' no namespace local. Não encontra.\n",
    "# 2. Consulta sys.path.\n",
    "# 3. Encontra o diretório da biblioteca padrão do Python contendo o módulo 'math'.\n",
    "# 4. Carrega e executa o código em math.py (ou seu equivalente compilado).\n",
    "# 5. Cria um namespace para o módulo 'math'.\n",
    "# 6. Retorna uma referência ao objeto 'math', que é atribuído à variável 'math'.\n",
    "\n",
    "print(math.pi) # Acessa a constante pi definida no módulo math\n",
    "```\n",
    "\n",
    "**`from ... import ...`:**\n",
    "\n",
    "Quando você usa `from os import path`, o interpretador procura pelo módulo `os`, carrega-o e, em vez de retornar o objeto módulo inteiro (`os`), retorna apenas o objeto `path`.  Isso permite que você use `path` diretamente sem precisar prefixá-lo com `os.`.\n",
    "\n",
    "**Considerações Importantes:**\n",
    "\n",
    "*   A ordem de busca é crucial para entender como os módulos são resolvidos.\n",
    "*   O arquivo `__init__.py` em um diretório o transforma em um pacote, permitindo a organização hierárquica dos módulos.\n",
    "*   A variável `sys.path` pode ser modificada (com cuidado) para adicionar caminhos de busca personalizados.\n",
    "\n",
    "Mais informações em https://docs.python.org/3/reference/import.html"
   ]
  },
  {
   "cell_type": "markdown",
   "id": "c56f62ad",
   "metadata": {},
   "source": [
    "---\n",
    "\n",
    "## Conclusão  \n",
    "\n",
    "Exploramos os conceitos de módulos e Pacotes. Compreender como organizar seu código em unidades reutilizáveis e aproveitar o poder de Pacotes externas é crucial para se tornar um desenvolvedor Python eficiente e produtivo.\n",
    "\n",
    "\n",
    "### O que aprendemos hoje?\n",
    "\n",
    "*   **Módulos:** Entendemos a importância da modularização para organização, reutilização e manutenção do código. Vimos como importar módulos existentes (`math`, `random`, `os`) e como criar nossos próprios módulos personalizados.\n",
    "*   **Pacotes:** Descobrimos o vasto ecossistema de pacotes Python disponíveis para diversas tarefas, desde visualização de dados (`matplotlib`) até análise e manipulação de dados (`pandas`). Aprendemos a instalar e utilizar esses pacotes com o `pip`.\n",
    "\n",
    "### Próximos Passos\n",
    "\n",
    "*   **Explore Mais pacotes:** Python possui uma infinidade de pacotes para praticamente qualquer necessidade. Dedique tempo para explorar aquelas que se alinham aos seus interesses e projetos.\n",
    "*   **Contribua para a Comunidade:** Considere contribuir para projetos open source, seja corrigindo bugs, adicionando funcionalidades ou documentando o código.\n",
    "*   **Crie Seus Próprios Pacotes:** À medida que você ganha experiência, pense em como suas soluções podem ser reutilizadas por outros desenvolvedores e crie suas próprios pacotes para compartilhar com a comunidade.\n",
    "*   **Aprofunde-se em Design de Módulos:** Estude padrões de design de módulos para criar código mais limpo, modular e extensível.\n",
    "\n",
    "**Lembre-se:** A programação é uma jornada contínua de aprendizado.  Não tenha medo de experimentar, cometer erros e aprender com eles. Continue praticando, explorando e se desenvolvendo!\n",
    "\n",
    "### Recursos Adicionais:\n",
    "\n",
    "*   **Documentação Oficial do Python:** [https://docs.python.org/](https://docs.python.org/)\n",
    "*   **PyPI (Python Package Index):** [https://pypi.org/](https://pypi.org/) - O repositório oficial de pacotes Python."
   ]
  }
 ],
 "metadata": {
  "kernelspec": {
   "display_name": "hypernn-G_MaMKSj",
   "language": "python",
   "name": "python3"
  },
  "language_info": {
   "codemirror_mode": {
    "name": "ipython",
    "version": 3
   },
   "file_extension": ".py",
   "mimetype": "text/x-python",
   "name": "python",
   "nbconvert_exporter": "python",
   "pygments_lexer": "ipython3",
   "version": "3.11.7"
  }
 },
 "nbformat": 4,
 "nbformat_minor": 5
}
