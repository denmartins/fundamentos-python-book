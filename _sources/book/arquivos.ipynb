{
 "cells": [
  {
   "cell_type": "markdown",
   "id": "3ec59a22",
   "metadata": {},
   "source": [
    "# Manipulação de Arquivos\n",
    "---\n",
    "\n",
    "Em praticamente qualquer projeto de análise de dados, você precisará ler dados de algum lugar (arquivos CSV, planilhas Excel, bancos de dados, APIs...) e, eventualmente, salvar os resultados da sua análise. Python oferece ferramentas para lidar com essa tarefa de forma eficiente e elegante.\n",
    "\n",
    "**Por que é importante?**\n",
    "\n",
    "* **Dados raramente vêm \"prontos\":** A maioria dos dados brutos reside em arquivos. Saber como acessá-los é o primeiro passo crucial.\n",
    "* **Preparação de Dados:**  A manipulação de arquivos permite a limpeza, transformação e preparação dos dados para modelagem.\n",
    "* **Persistência de Resultados:** Você precisará salvar seus resultados (gráficos, modelos treinados, insights) para uso futuro ou compartilhamento.\n",
    "* **Automação:** A capacidade de automatizar o processo de leitura e escrita de arquivos é essencial para pipelines de dados robustos.\n",
    "\n",
    "**Objetivos de Aprendizagem**\n",
    "\n",
    "Ao final desta aula, você será capaz de:\n",
    "\n",
    "- Compreender os princípios básicos da manipulação de arquivos em Python\n",
    "- Trabalhar com arquivos para armazenar e processar dados\n",
    "- Aplicar boas práticas na manipulação de arquivos\n",
    "\n",
    "## Conceitos Básico\n",
    "\n",
    "*   **Arquivo:** Um arquivo é uma coleção organizada de dados armazenada em um dispositivo de armazenamento (disco rígido, SSD, etc.).\n",
    "*   **Caminho (Path):**  É a localização do arquivo no sistema de arquivos. Pode ser absoluto (ex: `/home/usuario/dados/meu_arquivo.csv`) ou relativo (ex: `dados/meu_arquivo.csv`, que se refere a um arquivo dentro da pasta \"dados\" no diretório atual)."
   ]
  },
  {
   "cell_type": "markdown",
   "id": "9d717f62",
   "metadata": {},
   "source": [
    "## Abrindo e Fechando Arquivos\n",
    "\n",
    "Para trabalhar com arquivos em Python, é fundamental saber como abrir e fechar arquivos corretamente.\n",
    "\n",
    "### Função `open()`\n",
    "\n",
    "A função `open()` é utilizada para abrir um arquivo e retorna um objeto do tipo arquivo. Sua sintaxe básica é​ `file_object = open(\"nome_do_arquivo\", \"modo\")`, onde:\n",
    "\n",
    "- `nome_do_arquivo`: Especifica o caminho e o nome do arquivo a ser aberto.​\n",
    "- `modo`: Determina a finalidade da abertura do arquivo (leitura, escrita, etc.).\n",
    "\n",
    "\n",
    "### Modos de Abertura\n",
    "\n",
    "Os modos mais comuns para abrir arquivos são:\n",
    "\n",
    "- `'r'`: Modo de leitura. Abre um arquivo para leitura (padrão).​\n",
    "- `'w'`: Modo de escrita. Cria um novo arquivo ou sobrescreve o existente para escrita.​\n",
    "- `'a'`: Modo de anexação. Abre um arquivo para adicionar conteúdo ao final sem sobrescrever o existente.​\n",
    "- `'b'`: Modo binário. Utilizado para arquivos binários, como imagens. Pode ser combinado com outros modos, como 'rb' ou 'wb'."
   ]
  },
  {
   "cell_type": "code",
   "execution_count": null,
   "id": "894b9ba8",
   "metadata": {},
   "outputs": [],
   "source": [
    "arquivo = open(\"novo_arquivo.txt\", \"w\")"
   ]
  },
  {
   "cell_type": "markdown",
   "id": "2f7789dd",
   "metadata": {},
   "source": [
    "\n",
    "### Fechando Arquivos\n",
    "\n",
    "Após concluir as operações em um arquivo, é essencial fechá-lo para liberar recursos do sistema. Isso é feito com o método `close()`:​"
   ]
  },
  {
   "cell_type": "code",
   "execution_count": null,
   "id": "09c62517",
   "metadata": {},
   "outputs": [],
   "source": [
    "arquivo.close()"
   ]
  },
  {
   "cell_type": "markdown",
   "id": "2e38ae26",
   "metadata": {},
   "source": [
    "### Boa prática\n",
    "\n",
    "Uma prática recomendada é utilizar a estrutura with para abrir arquivos, garantindo que eles sejam fechados automaticamente após o bloco de código ser executado:​\n",
    "\n",
    "```python\n",
    "with open(\"nome_do_arquivo\", \"modo\") as file_object:\n",
    "    # operações com o arquivo\n",
    "    # ...\n",
    "```"
   ]
  },
  {
   "cell_type": "markdown",
   "id": "bef50e3e",
   "metadata": {},
   "source": [
    "O formato TXT é um dos mais simples e contém apenas texto puro. Ele é útil para armazenar logs, listas e dados simples sem estrutura tabular."
   ]
  },
  {
   "cell_type": "code",
   "execution_count": null,
   "id": "3a372ab7",
   "metadata": {},
   "outputs": [],
   "source": [
    "# Criando e escrevendo em um arquivo TXT\n",
    "with open(\"arquivo.txt\", \"w\") as arquivo:\n",
    "    arquivo.write(\"Olá, este é um arquivo de texto!\\n\")\n",
    "    arquivo.write(\"Cada linha pode armazenar informações diferentes.\\n\")"
   ]
  },
  {
   "cell_type": "code",
   "execution_count": null,
   "id": "6dc450ff",
   "metadata": {},
   "outputs": [],
   "source": [
    "# Lendo um arquivo TXT\n",
    "with open(\"arquivo.txt\", \"r\") as arquivo:\n",
    "    conteudo = arquivo.read()\n",
    "    print(conteudo)  # Exibe todo o conteúdo do arquivo"
   ]
  },
  {
   "cell_type": "code",
   "execution_count": null,
   "id": "c659bc3c",
   "metadata": {},
   "outputs": [],
   "source": [
    "arq = open(\"vendas.txt\", 'r') "
   ]
  },
  {
   "cell_type": "markdown",
   "id": "93074799",
   "metadata": {},
   "source": [
    "Uma vez aberto, podemos realizar a leitura do arquivo usando as funções: `read(n)`, `readline()` ou `readlines()`.\n",
    "\n",
    "A função `read(n)` lê até `n` bytes. Caso o valor não seja informado, a função lê o arquivo inteiro. A função `readline()` retorna uma string contendo a primeira linha do arquivo. Por fim, a função `readlines()` retorna uma lista de strings, sendo cada elemento uma linha do arquivo."
   ]
  },
  {
   "cell_type": "code",
   "execution_count": null,
   "id": "76d0fed5",
   "metadata": {},
   "outputs": [],
   "source": [
    "linhas = arq.readlines()\n",
    "type(linhas)\n"
   ]
  },
  {
   "cell_type": "code",
   "execution_count": null,
   "id": "cc4df81d",
   "metadata": {},
   "outputs": [],
   "source": [
    "for linha in linhas:\n",
    "    print(linha)"
   ]
  },
  {
   "cell_type": "code",
   "execution_count": null,
   "id": "0f45c0e2",
   "metadata": {},
   "outputs": [],
   "source": [
    "arq = open(\"meu_arquivo.txt\",\"w+\")\n",
    " \n",
    "linhasParaOArquivo = [\"linha 1\",\"linha 2\",\"linha 3\", \"linha 4\",\"linha 5\"]\n",
    " \n",
    "for l in linhasParaOArquivo:\n",
    "    arq.write(l)\n",
    "    arq.write(\"\\n\")\n",
    "\n",
    "arq.close()"
   ]
  },
  {
   "cell_type": "markdown",
   "id": "f529778d",
   "metadata": {},
   "source": [
    "### Escrevendo em arquivos TXT\n",
    "\n",
    "**`write(string)`:** A função `write()` escreve uma string diretamente em um arquivo aberto. É importante lembrar que ela não adiciona automaticamente uma nova linha; você precisa incluir o caractere de nova linha (`\\n`) no final da string se desejar que cada escrita apareça em uma linha separada no arquivo.  Esta função é ideal para escrever dados formatados ou mensagens simples em arquivos de texto."
   ]
  },
  {
   "cell_type": "code",
   "execution_count": null,
   "id": "e0e4370f",
   "metadata": {},
   "outputs": [],
   "source": [
    "with open(\"novo_arquivo.txt\", \"w\") as arquivo:\n",
    "    arquivo.write(\"Esta é uma nova linha.\\n\") # Não esqueça do \\n para quebrar linha\n",
    "    arquivo.write(\"Outra linha aqui.\")"
   ]
  },
  {
   "cell_type": "markdown",
   "id": "367058fa",
   "metadata": {},
   "source": [
    "**`writelines(lista_de_strings)`:** Similar a `write()`, mas aceita uma lista de strings como argumento. Cada string na lista será escrita em uma linha separada no arquivo. Novamente, você deve garantir que cada string na lista termine com um caractere de nova linha (`\\n`) se desejar que elas apareçam em linhas distintas no arquivo final.  É eficiente para escrever múltiplos dados relacionados em sequência."
   ]
  },
  {
   "cell_type": "code",
   "execution_count": null,
   "id": "246df32a",
   "metadata": {},
   "outputs": [],
   "source": [
    "linhas = [\"Linha 1\\n\", \"Linha 2\\n\"]\n",
    "with open(\"outro_novo_arquivo.txt\", \"w\") as arquivo:\n",
    "    arquivo.writelines(linhas)"
   ]
  },
  {
   "cell_type": "markdown",
   "id": "a9b1843f",
   "metadata": {},
   "source": [
    "## Manipulando Arquivos CSV\n",
    "\n",
    "**CSV (Comma Separated Values)** é um formato incrivelmente comum para armazenar dados tabulares. Pense neste tipo de arquivo como planilhas simples, onde cada linha representa uma observação e as colunas são separadas por vírgulas (ou outro delimitador). Em Ciência de Dados, você frequentemente encontrará seus dados em arquivos CSV, então dominá-los é essencial.\n",
    "\n",
    "**O que torna o CSV tão popular?**\n",
    "\n",
    "* Simplicidade: A estrutura é fácil de entender e gerar.\n",
    "* Compatibilidade: Praticamente todos os softwares de análise de dados (Excel, Google Sheets, Pandas) conseguem ler e escrever arquivos CSV.\n",
    "* Portabilidade: Arquivos CSV são facilmente transferíveis entre diferentes sistemas e plataformas.\n",
    "\n",
    "\n",
    "### Python e o Módulo `csv`\n",
    "\n",
    "O módulo `csv` do Python oferece as ferramentas necessárias para trabalhar com arquivos CSV de forma eficiente e segura. Vamos explorar como ler e escrever esses arquivos."
   ]
  },
  {
   "cell_type": "code",
   "execution_count": null,
   "id": "6b990318",
   "metadata": {},
   "outputs": [],
   "source": [
    "import csv\n",
    "\n",
    "# Abrindo o arquivo CSV para leitura:\n",
    "with open('meu_arquivo.csv', 'r', encoding='utf-8') as arquivo_csv:  # Especificar a codificação é importante!\n",
    "    # Criando um objeto leitor CSV:\n",
    "    leitor = csv.reader(arquivo_csv, delimiter=',') # O delimitador padrão é a vírgula\n",
    "\n",
    "    # Iterando sobre cada linha do arquivo:\n",
    "    for linha in leitor:\n",
    "        print(linha)  # Cada 'linha' é uma lista de strings representando as colunas"
   ]
  },
  {
   "cell_type": "markdown",
   "id": "f8f25d7e",
   "metadata": {},
   "source": [
    "*   **`open(...)`:** Abre o arquivo CSV no modo leitura (`'r'`). É crucial especificar a codificação (ex: `encoding='utf-8'`) para lidar corretamente com caracteres especiais.\n",
    "*   **`csv.reader(arquivo_csv, delimiter=',')`:** Cria um objeto leitor que itera sobre as linhas do arquivo CSV. O argumento `delimiter` especifica o caractere usado para separar os valores (a vírgula é o padrão).  Você pode usar outros delimitadores como ponto e vírgula (`;`) ou tabulação (`\\t`).\n",
    "*   **`for linha in leitor:`:** Itera sobre cada linha do arquivo. Cada `linha` é uma lista de strings, onde cada string representa um valor em uma coluna.\n"
   ]
  },
  {
   "cell_type": "markdown",
   "id": "ca3698b2",
   "metadata": {},
   "source": [
    "### Escrevendo em arquivos CSV\n",
    "\n",
    "**`writerow(sequencia)` (do módulo `csv`):** Esta função, fornecida pelo módulo `csv`, é específica para arquivos CSV (Comma Separated Values). Ela escreve uma única linha de dados no arquivo CSV, onde cada elemento da `sequência` se torna um campo separado por vírgula (ou outro delimitador especificado).  É a maneira mais conveniente e correta de escrever dados em formato CSV."
   ]
  },
  {
   "cell_type": "code",
   "execution_count": null,
   "id": "6e19c00d",
   "metadata": {},
   "outputs": [],
   "source": [
    "import csv\n",
    "\n",
    "# Dados a serem escritos no arquivo CSV:\n",
    "dados = [\n",
    "    ['Nome', 'Idade', 'Cidade'],  # Cabeçalho (opcional)\n",
    "    ['Alice', 30, 'Nova York'],\n",
    "    ['Bob', 25, 'Los Angeles']\n",
    "]\n",
    "\n",
    "# Abrindo o arquivo CSV para escrita:\n",
    "with open('novo_arquivo.csv', 'w', newline='', encoding='utf-8') as arquivo_csv: #newline='' evita linhas extras no Windows\n",
    "    # Criando um objeto escritor CSV:\n",
    "    escritor = csv.writer(arquivo_csv, delimiter=',')\n",
    "\n",
    "    # Escrevendo todas as linhas de uma vez:\n",
    "    escritor.writerows(dados)"
   ]
  },
  {
   "cell_type": "markdown",
   "id": "80b95871",
   "metadata": {},
   "source": [
    "*   **`open(...)`:** Abre o arquivo CSV no modo escrita (`'w'`).  O argumento `newline=''` é importante para evitar linhas em branco extras, especialmente no Windows. A codificação também deve ser especificada.\n",
    "*   **`csv.writer(arquivo_csv, delimiter=',')`:** Cria um objeto escritor que permite escrever dados no arquivo CSV. O argumento `delimiter` define o caractere separador (vírgula por padrão).\n",
    "*   **`escritor.writerows(dados)`:** Escreve todas as linhas de uma vez.  O argumento `writerows()` aceita uma lista de listas, onde cada sublista representa uma linha no arquivo CSV."
   ]
  },
  {
   "cell_type": "markdown",
   "id": "2dfcb7d9",
   "metadata": {},
   "source": [
    "## Trabalhando com arquivos JSON\n",
    "\n",
    "JSON (JavaScript Object Notation) é um formato leve de intercâmbio de dados, amplamente utilizado para transmitir informações entre servidores e aplicações web. Sua estrutura hierárquica baseada em pares chave-valor o torna fácil de ler e interpretar por humanos e máquinas. Em Ciência de Dados, você frequentemente encontrará APIs que retornam dados no formato JSON ou precisará salvar estruturas de dados complexas em um arquivo JSON.\n",
    "\n",
    "**Por que usar JSON?**\n",
    "\n",
    "*   **Legibilidade:** A estrutura é relativamente simples e fácil de entender.\n",
    "*   **Universalidade:** Suportado por diversas linguagens de programação, incluindo Python.\n",
    "*   **Flexibilidade:** Pode representar uma variedade de estruturas de dados, como listas, dicionários (objetos) e valores primitivos.\n",
    "\n",
    "### Python e o Módulo `json`\n",
    "\n",
    "O módulo `json` do Python fornece as ferramentas para trabalhar com arquivos JSON de forma eficiente. Vamos explorar como ler e escrever esses arquivos.\n",
    "\n",
    "### Leitura de Arquivos JSON"
   ]
  },
  {
   "cell_type": "code",
   "execution_count": null,
   "id": "5498f6c3",
   "metadata": {},
   "outputs": [],
   "source": [
    "import json\n",
    "\n",
    "# Abrindo o arquivo JSON para leitura:\n",
    "with open('meu_arquivo.json', 'r', encoding='utf-8') as arquivo_json:\n",
    "    # Carregando os dados do arquivo JSON em um objeto Python (geralmente um dicionário ou lista):\n",
    "    dados = json.load(arquivo_json)\n",
    "\n",
    "# Imprimindo os dados carregados:\n",
    "print(dados)"
   ]
  },
  {
   "cell_type": "markdown",
   "id": "a06b0d1f",
   "metadata": {},
   "source": [
    "*   **`import json`:** Importa o módulo `json`.\n",
    "*   **`open(...)`:** Abre o arquivo JSON no modo leitura (`'r'`).  É crucial especificar a codificação (ex: `encoding='utf-8'`) para lidar corretamente com caracteres especiais.\n",
    "*   **`json.load(arquivo_json)`:** Carrega os dados do arquivo JSON e converte em um objeto Python. Geralmente, o resultado será um dicionário ou uma lista de dicionários."
   ]
  },
  {
   "cell_type": "markdown",
   "id": "4c94b733",
   "metadata": {},
   "source": [
    "### Escrita de Arquivos JSON"
   ]
  },
  {
   "cell_type": "code",
   "execution_count": null,
   "id": "53cd5f7e",
   "metadata": {},
   "outputs": [],
   "source": [
    "import json\n",
    "\n",
    "# Dados a serem escritos no arquivo JSON (geralmente um dicionário ou lista):\n",
    "dados = {\n",
    "    \"nome\": \"Alice\",\n",
    "    \"idade\": 30,\n",
    "    \"cidade\": \"Nova York\",\n",
    "    \"interesses\": [\"Ciência de Dados\", \"Machine Learning\"]\n",
    "}\n",
    "\n",
    "# Abrindo o arquivo JSON para escrita:\n",
    "with open('novo_arquivo.json', 'w', encoding='utf-8') as arquivo_json:\n",
    "    # Convertendo o objeto Python em uma string JSON e escrevendo no arquivo:\n",
    "    json.dump(dados, arquivo_json, indent=4) # indent=4 formata a saída para melhor legibilidade"
   ]
  },
  {
   "cell_type": "markdown",
   "id": "e9268e1f",
   "metadata": {},
   "source": [
    "*   **`open(...)`:** Abre o arquivo JSON no modo escrita (`'w'`).  A codificação deve ser especificada.\n",
    "*   **`json.dump(dados, arquivo_json, indent=4)`:** Converte o objeto Python (geralmente um dicionário ou lista) em uma string JSON e escreve no arquivo. O argumento `indent` formata a saída para melhor legibilidade, adicionando espaços de indentação.\n",
    "\n",
    "**Dicas e Considerações:**\n",
    "\n",
    "*   **Estrutura dos Dados:** Certifique-se de que os dados que você está tentando escrever sejam compatíveis com o formato JSON (dicionários, listas, strings, números, booleanos, `null`).\n",
    "*   **Codificação:** Sempre especifique a codificação correta do arquivo (geralmente UTF-8) para evitar problemas com caracteres especiais.\n",
    "*   **Indentação:** Use o argumento `indent` em `json.dump()` para formatar a saída JSON de forma legível.\n",
    "*   **`json.dumps()` vs. `json.dump()`:**  `json.dumps()` converte um objeto Python em uma string JSON, enquanto `json.dump()` escreve diretamente em um arquivo."
   ]
  },
  {
   "cell_type": "markdown",
   "id": "6a046167",
   "metadata": {},
   "source": [
    "## **Exercícios Teóricos**\n",
    "\n",
    "**1. Modos de Leitura:**\n",
    "\n",
    "* a) Explique a diferença entre os modos `'r'`, `'w'` e `'a'` ao abrir um arquivo em Python. Em que situações você usaria cada um deles?\n",
    "* b) O que acontece se você tentar abrir um arquivo existente no modo `'w'`? Qual o impacto disso nos dados já existentes no arquivo?\n",
    "* c) Descreva a importância do argumento `encoding` na função `open()`. Por que é crucial especificar a codificação correta ao ler ou escrever arquivos de texto? Dê exemplos de codificações comuns.\n",
    "* d) O que significa \"seek\" em relação a um arquivo aberto? Como o método `file.seek(offset, from_what)` funciona e para que ele pode ser usado?\n",
    "\n",
    "**2. Formatos de Arquivo:**\n",
    "\n",
    "* a) Compare e contraste os formatos CSV e JSON como meios de armazenar dados. Quais são as vantagens e desvantagens de cada um em termos de legibilidade, estrutura e portabilidade?\n",
    "* b) Em qual cenário você escolheria usar o módulo `csv` do Python para manipular arquivos? E quando você usaria o módulo `json`?\n",
    "* c) Imagine que você precisa ler um arquivo CSV muito grande que não cabe na memória RAM. Quais estratégias você pode empregar para processar esse arquivo de forma eficiente? (Pense em iteração linha a linha, geradores, etc.)\n",
    "* d) Explique por que é importante usar o argumento `newline=''` ao abrir um arquivo CSV no modo escrita (`'w'`) no Windows.\n",
    "\n",
    "**3. Boas Práticas:**\n",
    "\n",
    "* a) Por que é recomendado usar a instrução `with open(...) as arquivo:` para trabalhar com arquivos em Python? Quais são os benefícios dessa abordagem em relação à abertura e fechamento manual de arquivos?\n",
    "* b) Descreva o conceito de \"tratamento de exceções\" (try...except) no contexto da manipulação de arquivos. Por que é importante implementar tratamento de exceções ao ler ou escrever arquivos? Dê exemplos de possíveis erros que podem ocorrer.\n",
    "* c) Explique a importância de validar os dados lidos de um arquivo antes de usá-los em seu programa. Quais tipos de validação você pode realizar?\n",
    "* d) Você está escrevendo uma função para processar arquivos CSV. Como você garantiria que sua função seja reutilizável e flexível, permitindo que ela funcione com diferentes arquivos CSV (por exemplo, com delimitadores ou codificações diferentes)?\n",
    "\n",
    "**4. Cenários Práticos:**\n",
    "\n",
    "* a) Você precisa ler um arquivo de log contendo informações sobre eventos do sistema. O arquivo é muito grande e você só precisa encontrar as linhas que contêm uma determinada palavra-chave. Como você abordaria essa tarefa de forma eficiente?\n",
    "* b) Você está desenvolvendo uma aplicação web que recebe dados dos usuários em formato JSON e os armazena em um banco de dados. Descreva o fluxo de trabalho, desde a recepção dos dados até o armazenamento no banco de dados, incluindo as etapas de validação e tratamento de erros.\n",
    "* c) Imagine que você precisa criar um script para converter arquivos CSV em arquivos JSON. Quais seriam os passos principais do seu script?\n",
    "\n",
    "## **Exercícios para Praticar**\n",
    "\n",
    "1. Crie um programa que lê um arquivo de texto `meu_texto.txt` e conta quantas palavras ele contém. Requisitos:\n",
    "    - Considere que as palavras estão separadas por espaços.\n",
    "    - Exiba o total de palavras ao final.\n",
    "\n",
    "2. Escreva um programa que permita ao usuário adicionar mais texto ao arquivo `meu_texto.txt` sem apagar o conteúdo existente. O programa deve utilizar o modo de abertura \"a\" (anexação).\n",
    "\n",
    "3. Crie um programa que solicita ao usuário o nome de um arquivo de texto (.txt). O programa deve abrir esse arquivo e contar quantas linhas ele contém. Requisitos:\n",
    "    - O usuário deve fornecer o nome do arquivo (exemplo: meutexto.txt).\n",
    "    - O programa deve exibir o número total de linhas no arquivo.\n",
    "\n",
    "4. **Análise de Log de Acesso Web (CSV):** Considere o cenário a seguir. Você trabalha como analista de dados para uma empresa de e-commerce. Recebeu um arquivo CSV contendo logs de acesso ao site, com informações sobre o endereço IP, data/hora do acesso, página visitada e código de status HTTP. Precisa identificar os 10 endereços IP que mais acessaram o site durante um determinado período (ex: último mês). Crie **manualmente** um arquivo CSV com o conteúdo abaixo. Escreva um script Python que leia o arquivo CSV, filtre os acessos realizados nos dias 26 e 27 de Outubro (assumindo que a data/hora está no formato YYYY-MM-DD HH:MM:SS), conte a frequência de cada endereço IP e imprima o IP mais frequentes.\n",
    "\n",
    "Conteúdo do arquivo CSV:\n",
    "\n",
    "\n",
    "```csv\n",
    "ip,data_hora,pagina,status\n",
    "192.168.1.10,2023-10-26 10:00:00,/home,200\n",
    "10.0.0.5,2023-10-26 10:05:00,/produto/123,200\n",
    "192.168.1.10,2023-10-26 10:10:00,/contato,301\n",
    "172.16.0.1,2023-10-26 10:15:00,/sobre,200\n",
    "192.168.1.10,2023-10-27 09:00:00,/home,200\n",
    "10.0.0.5,2023-10-27 09:05:00,/produto/456,404\n",
    "172.16.0.1,2023-10-27 09:10:00,/blog,200\n",
    "192.168.1.10,2023-10-28 11:00:00,/home,200\n",
    "10.0.0.5,2023-10-28 11:05:00,/produto/789,200\n",
    "172.16.0.1,2023-10-28 11:10:00,/servicos,200\n",
    "```\n",
    " \n",
    "5. **Conversão de Dados de Clientes (JSON para CSV):** Uma equipe de vendas gerou uma lista de clientes em formato JSON, mas o sistema interno da empresa, um [CRM](https://pt.wikipedia.org/wiki/Gest%C3%A3o_de_relacionamento_com_o_cliente), só aceita dados no formato CSV. Você precisa converter os dados do arquivo JSON para um arquivo CSV compatível com o CRM. Crie **manualmente** um arquivo JSON com o conteúdo abaixo. Escreva um script Python que leia o arquivo JSON, converta os dados para o formato CSV e salve em um novo arquivo chamado clientes.csv. Inclua cabeçalhos nas colunas do CSV (nome, email, telefone).\n",
    "\n",
    "Conteúdo do arquivo JSON:\n",
    "\n",
    "```json\n",
    "[\n",
    "{\n",
    "    \"nome\": \"João da Silva\",\n",
    "    \"email\": \"joao@example.com\",\n",
    "    \"telefone\": \"11999999999\"\n",
    "},\n",
    "{\n",
    "    \"nome\": \"Maria Souza\",\n",
    "    \"email\": \"maria@example.com\",\n",
    "    \"telefone\": \"21888888888\"\n",
    "},\n",
    "{\n",
    "    \"nome\": \"Pedro Oliveira\",\n",
    "    \"email\": \"pedro@example.com\",\n",
    "    \"telefone\": \"31777777777\"\n",
    "}\n",
    "]\n",
    "```"
   ]
  },
  {
   "cell_type": "markdown",
   "id": "47aa7c05",
   "metadata": {},
   "source": [
    "---\n",
    "\n",
    "## Mini-projeto: Cifrando um arquivo com a Cifra de César. \n",
    "\n",
    "## Introdução \n",
    "\n",
    "A **Cifra de César** é um dos métodos de criptografia mais antigos e simples. Ela funciona deslocando cada letra do texto original **um número fixo de posições** no alfabeto.  \n",
    "\n",
    "Por exemplo, se utilizarmos um deslocamento de **3 posições**:  \n",
    "\n",
    "- A letra **\"A\"** se torna **\"D\"**  \n",
    "- A letra **\"B\"** se torna **\"E\"**  \n",
    "- A palavra **\"PYTHON\"** se torna **\"SBWKRQ\"**  \n",
    "\n",
    "Este método é uma forma **simples** de ocultar informações e é um ótimo exercício para manipulação de strings e arquivos em Python.\n",
    "\n",
    "### Descrição do Exercício\n",
    "\n",
    "Escreva um programa que:  \n",
    "\n",
    "1. **Solicita ao usuário o nome de um arquivo de texto (`.txt`) para ser lido.**  \n",
    "2. **Solicita ao usuário um número inteiro que representará o deslocamento da Cifra de César.**  \n",
    "3. **Lê o conteúdo do arquivo e cifra o texto usando a Cifra de César.**  \n",
    "4. **Salva o texto cifrado em um novo arquivo chamado `arquivo_cifrado.txt`.**  \n",
    "\n",
    "\n",
    "### Requisitos\n",
    "\n",
    "- O programa deve **ler um arquivo** e **criptografar seu conteúdo** utilizando a **Cifra de César**.  \n",
    "- O deslocamento deve ser definido pelo usuário.  \n",
    "- Apenas **letras do alfabeto** devem ser cifradas. Números, espaços e pontuações devem permanecer inalterados.  \n",
    "- O programa deve salvar o texto cifrado em um novo arquivo **sem modificar o original**.  \n",
    "\n",
    "### Exemplo de Entrada e Saída\n",
    "\n",
    "**Arquivo de Entrada (`mensagem.txt`)**  \n",
    "\n",
    "```\n",
    "Python é uma linguagem incrível!\n",
    "```\n",
    "\n",
    "**Usuário digita:**  \n",
    "```\n",
    "Digite o nome do arquivo: mensagem.txt\n",
    "Digite o deslocamento: 3\n",
    "```\n",
    "\n",
    "**Arquivo Gerado (`arquivo_cifrado.txt`)**  \n",
    "```\n",
    "Sbwkrq é xpd odqjxdjhp lqfuyháv!\n",
    "```"
   ]
  },
  {
   "cell_type": "markdown",
   "id": "c56f62ad",
   "metadata": {},
   "source": [
    "---\n",
    "\n",
    "## Conclusão  \n",
    "\n",
    "Exploramos os conceitos de módulos e Pacotes. Compreender como organizar seu código em unidades reutilizáveis e aproveitar o poder de Pacotes externas é crucial para se tornar um desenvolvedor Python eficiente e produtivo.\n",
    "\n",
    "\n",
    "### O que aprendemos hoje?\n",
    "\n",
    "Exploramos os conceitos fundamentais da manipulação de arquivos em Python, abordando como ler, escrever e modificar arquivos simples. Compreendemos a importância desses formatos para o armazenamento e troca de informações, além de aprender boas práticas para trabalhar com arquivos de maneira eficiente e segura.\n",
    "\n",
    "### Próximos Passos\n",
    "\n",
    "- Resolva os problemas na seção \"Exercícios para Praticar\".\n",
    "- Explorar formas de tratar erros comuns ao trabalhar com arquivos, como arquivos inexistentes ou problemas de codificação."
   ]
  }
 ],
 "metadata": {
  "kernelspec": {
   "display_name": "hypernn-G_MaMKSj",
   "language": "python",
   "name": "python3"
  },
  "language_info": {
   "codemirror_mode": {
    "name": "ipython",
    "version": 3
   },
   "file_extension": ".py",
   "mimetype": "text/x-python",
   "name": "python",
   "nbconvert_exporter": "python",
   "pygments_lexer": "ipython3",
   "version": "3.11.7"
  }
 },
 "nbformat": 4,
 "nbformat_minor": 5
}
