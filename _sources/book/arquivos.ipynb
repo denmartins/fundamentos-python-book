{
 "cells": [
  {
   "cell_type": "markdown",
   "id": "3ec59a22",
   "metadata": {},
   "source": [
    "# Manipulação de Arquivos\n",
    "---\n",
    "\n",
    "A manipulação de arquivos é uma funcionalidade essencial para o armazenamento de dados de forma persistente.\n",
    "\n",
    "**Objetivos de Aprendizagem**\n",
    "\n",
    "Ao final desta aula, você será capaz de:\n",
    "\n",
    "- Compreender os princípios básicos da manipulação de arquivos em Python\n",
    "- Trabalhar com arquivos para armazenar e processar dados\n",
    "- Aplicar boas práticas na manipulação de arquivos"
   ]
  },
  {
   "cell_type": "markdown",
   "id": "9d717f62",
   "metadata": {},
   "source": [
    "## Abrindo e Fechando Arquivos\n",
    "\n",
    "Para trabalhar com arquivos em Python, é fundamental saber como abrir e fechar arquivos corretamente.\n",
    "\n",
    "### Função open()\n",
    "\n",
    "A função open() é utilizada para abrir um arquivo e retorna um objeto do tipo arquivo. Sua sintaxe básica é​ `file_object = open(\"nome_do_arquivo\", \"modo\")`, onde:\n",
    "\n",
    "- `nome_do_arquivo`: Especifica o caminho e o nome do arquivo a ser aberto.​\n",
    "- `modo`: Determina a finalidade da abertura do arquivo (leitura, escrita, etc.).\n",
    "\n",
    "\n",
    "### Modos de Abertura\n",
    "\n",
    "Os modos mais comuns para abrir arquivos são:\n",
    "\n",
    "- `'r'`: Modo de leitura. Abre um arquivo para leitura (padrão).​\n",
    "- `'w'`: Modo de escrita. Cria um novo arquivo ou sobrescreve o existente para escrita.​\n",
    "- `'a'`: Modo de anexação. Abre um arquivo para adicionar conteúdo ao final sem sobrescrever o existente.​\n",
    "- `'b'`: Modo binário. Utilizado para arquivos binários, como imagens. Pode ser combinado com outros modos, como 'rb' ou 'wb'."
   ]
  },
  {
   "cell_type": "code",
   "execution_count": null,
   "id": "894b9ba8",
   "metadata": {},
   "outputs": [],
   "source": [
    "arquivo = open(\"novo_arquivo.txt\", \"w\")"
   ]
  },
  {
   "cell_type": "markdown",
   "id": "2f7789dd",
   "metadata": {},
   "source": [
    "\n",
    "### Fechando Arquivos\n",
    "\n",
    "Após concluir as operações em um arquivo, é essencial fechá-lo para liberar recursos do sistema. Isso é feito com o método `close()`:​\n",
    "\n",
    "```python\n",
    "file_object.close()\n",
    "``` "
   ]
  },
  {
   "cell_type": "code",
   "execution_count": null,
   "id": "09c62517",
   "metadata": {},
   "outputs": [],
   "source": [
    "arquivo.close()"
   ]
  },
  {
   "cell_type": "markdown",
   "id": "2e38ae26",
   "metadata": {},
   "source": [
    "### Boa prática\n",
    "\n",
    "Uma prática recomendada é utilizar a estrutura with para abrir arquivos, garantindo que eles sejam fechados automaticamente após o bloco de código ser executado:​\n",
    "\n",
    "```python\n",
    "with open(\"nome_do_arquivo\", \"modo\") as file_object:\n",
    "    # operações com o arquivo\n",
    "    # ...\n",
    "```"
   ]
  },
  {
   "cell_type": "markdown",
   "id": "bef50e3e",
   "metadata": {},
   "source": [
    "O formato TXT é um dos mais simples e contém apenas texto puro. Ele é útil para armazenar logs, listas e dados simples sem estrutura tabular."
   ]
  },
  {
   "cell_type": "code",
   "execution_count": null,
   "id": "3a372ab7",
   "metadata": {},
   "outputs": [],
   "source": [
    "# Criando e escrevendo em um arquivo TXT\n",
    "with open(\"arquivo.txt\", \"w\") as arquivo:\n",
    "    arquivo.write(\"Olá, este é um arquivo de texto!\\n\")\n",
    "    arquivo.write(\"Cada linha pode armazenar informações diferentes.\\n\")"
   ]
  },
  {
   "cell_type": "code",
   "execution_count": null,
   "id": "6dc450ff",
   "metadata": {},
   "outputs": [],
   "source": [
    "# Lendo um arquivo TXT\n",
    "with open(\"arquivo.txt\", \"r\") as arquivo:\n",
    "    conteudo = arquivo.read()\n",
    "    print(conteudo)  # Exibe todo o conteúdo do arquivo"
   ]
  },
  {
   "cell_type": "code",
   "execution_count": null,
   "id": "c659bc3c",
   "metadata": {},
   "outputs": [],
   "source": [
    "arq = open(\"vendas.txt\", 'r') "
   ]
  },
  {
   "cell_type": "markdown",
   "id": "93074799",
   "metadata": {},
   "source": [
    "Uma vez aberto, podemos realizar a leitura do arquivo usando as funções: `read(n)`, `readline()` ou `readlines()`.\n",
    "\n",
    "A função `read(n)` lê até `n` bytes. Caso o valor não seja informado, a função lê o arquivo inteiro. A função `readline()` retorna uma string contendo a primeira linha do arquivo. Por fim, a função `readlines()` retorna uma lista de strings, sendo cada elemento uma linha do arquivo."
   ]
  },
  {
   "cell_type": "code",
   "execution_count": null,
   "id": "76d0fed5",
   "metadata": {},
   "outputs": [],
   "source": [
    "linhas = arq.readlines()\n",
    "type(linhas)\n"
   ]
  },
  {
   "cell_type": "code",
   "execution_count": null,
   "id": "cc4df81d",
   "metadata": {},
   "outputs": [],
   "source": [
    "for linha in linhas:\n",
    "    print(linha)"
   ]
  },
  {
   "cell_type": "code",
   "execution_count": null,
   "id": "0f45c0e2",
   "metadata": {},
   "outputs": [],
   "source": [
    "arq = open(\"meu_arquivo.txt\",\"w+\")\n",
    " \n",
    "linhasParaOArquivo = [\"linha 1\",\"linha 2\",\"linha 3\", \"linha 4\",\"linha 5\"]\n",
    " \n",
    "for l in linhasParaOArquivo:\n",
    "    arq.write(l)\n",
    "    arq.write(\"\\n\")\n",
    "\n",
    "arq.close()"
   ]
  },
  {
   "cell_type": "markdown",
   "id": "f29c92a0",
   "metadata": {},
   "source": [
    "---\n",
    "\n",
    "## ✅ Conclusão  \n",
    "\n",
    "Parabéns por concluir esta aula!\n",
    "\n",
    "### 🎯 O que aprendemos hoje?  \n",
    "\n",
    "Nesta aula, exploramos os conceitos fundamentais da manipulação de arquivos em Python, abordando como ler, escrever e modificar arquivos simples. Compreendemos a importância desses formatos para o armazenamento e troca de informações, além de aprender boas práticas para trabalhar com arquivos de maneira eficiente e segura.\n",
    "\n",
    "### 📌 Próximos Passos  \n",
    "- Resolva os problemas na seção \"Exercícios para Praticar\".\n",
    "- Explorar formas de tratar erros comuns ao trabalhar com arquivos, como arquivos inexistentes ou problemas de codificação.\n",
    "\n",
    "### Parabéns pela dedicação! Nos vemos na próxima aula!"
   ]
  },
  {
   "cell_type": "markdown",
   "id": "6a046167",
   "metadata": {},
   "source": [
    "## **Exercícios Teóricos**\n",
    "\n",
    "1. ...\n",
    "\n",
    "## **Exercícios para Praticar**\n",
    "\n",
    "1. Crie um programa que lê um arquivo de texto `meu_texto.txt` e conta quantas palavras ele contém.\n",
    "\n",
    "Requisitos:\n",
    "\n",
    "- Considere que as palavras estão separadas por espaços.\n",
    "- Exiba o total de palavras ao final.\n",
    "\n",
    "2. Escreva um programa que permita ao usuário adicionar mais texto ao arquivo `meu_texto.txt` sem apagar o conteúdo existente. O programa deve utilizar o modo de abertura \"a\" (anexação).\n",
    "\n",
    "3. Crie um programa que solicita ao usuário o nome de um arquivo de texto (.txt). O programa deve abrir esse arquivo e contar quantas linhas ele contém.\n",
    "\n",
    "Requisitos:\n",
    "\n",
    "- O usuário deve fornecer o nome do arquivo (exemplo: meutexto.txt).\n",
    "- O programa deve exibir o número total de linhas no arquivo.\n"
   ]
  },
  {
   "cell_type": "markdown",
   "id": "47aa7c05",
   "metadata": {},
   "source": [
    "## Mini-projeto: Cifrando um arquivo com a Cifra de César. \n",
    "\n",
    "## Introdução \n",
    "\n",
    "A **Cifra de César** é um dos métodos de criptografia mais antigos e simples. Ela funciona deslocando cada letra do texto original **um número fixo de posições** no alfabeto.  \n",
    "\n",
    "Por exemplo, se utilizarmos um deslocamento de **3 posições**:  \n",
    "\n",
    "- A letra **\"A\"** se torna **\"D\"**  \n",
    "- A letra **\"B\"** se torna **\"E\"**  \n",
    "- A palavra **\"PYTHON\"** se torna **\"SBWKRQ\"**  \n",
    "\n",
    "Este método é uma forma **simples** de ocultar informações e é um ótimo exercício para manipulação de strings e arquivos em Python.\n",
    "\n",
    "### Descrição do Exercício\n",
    "\n",
    "Escreva um programa que:  \n",
    "\n",
    "1. **Solicita ao usuário o nome de um arquivo de texto (`.txt`) para ser lido.**  \n",
    "2. **Solicita ao usuário um número inteiro que representará o deslocamento da Cifra de César.**  \n",
    "3. **Lê o conteúdo do arquivo e cifra o texto usando a Cifra de César.**  \n",
    "4. **Salva o texto cifrado em um novo arquivo chamado `arquivo_cifrado.txt`.**  \n",
    "\n",
    "\n",
    "### Requisitos\n",
    "\n",
    "- O programa deve **ler um arquivo** e **criptografar seu conteúdo** utilizando a **Cifra de César**.  \n",
    "- O deslocamento deve ser definido pelo usuário.  \n",
    "- Apenas **letras do alfabeto** devem ser cifradas. Números, espaços e pontuações devem permanecer inalterados.  \n",
    "- O programa deve salvar o texto cifrado em um novo arquivo **sem modificar o original**.  \n",
    "\n",
    "### Exemplo de Entrada e Saída\n",
    "\n",
    "**Arquivo de Entrada (`mensagem.txt`)**  \n",
    "\n",
    "```\n",
    "Python é uma linguagem incrível!\n",
    "```\n",
    "\n",
    "**Usuário digita:**  \n",
    "```\n",
    "Digite o nome do arquivo: mensagem.txt\n",
    "Digite o deslocamento: 3\n",
    "```\n",
    "\n",
    "**Arquivo Gerado (`arquivo_cifrado.txt`)**  \n",
    "```\n",
    "Sbwkrq é xpd odqjxdjhp lqfuyháv!\n",
    "```"
   ]
  },
  {
   "cell_type": "markdown",
   "id": "c56f62ad",
   "metadata": {},
   "source": [
    "---\n",
    "\n",
    "## Conclusão  \n",
    "\n",
    "Exploramos os conceitos de módulos e Pacotes. Compreender como organizar seu código em unidades reutilizáveis e aproveitar o poder de Pacotes externas é crucial para se tornar um desenvolvedor Python eficiente e produtivo.\n",
    "\n",
    "\n",
    "### O que aprendemos hoje?\n",
    "\n",
    "Exploramos os conceitos fundamentais da manipulação de arquivos em Python, abordando como ler, escrever e modificar arquivos simples. Compreendemos a importância desses formatos para o armazenamento e troca de informações, além de aprender boas práticas para trabalhar com arquivos de maneira eficiente e segura.\n",
    "\n",
    "### Próximos Passos\n",
    "\n",
    "- Resolva os problemas na seção \"Exercícios para Praticar\".\n",
    "- Explorar formas de tratar erros comuns ao trabalhar com arquivos, como arquivos inexistentes ou problemas de codificação."
   ]
  }
 ],
 "metadata": {
  "kernelspec": {
   "display_name": "hypernn-G_MaMKSj",
   "language": "python",
   "name": "python3"
  },
  "language_info": {
   "codemirror_mode": {
    "name": "ipython",
    "version": 3
   },
   "file_extension": ".py",
   "mimetype": "text/x-python",
   "name": "python",
   "nbconvert_exporter": "python",
   "pygments_lexer": "ipython3",
   "version": "3.11.7"
  }
 },
 "nbformat": 4,
 "nbformat_minor": 5
}
